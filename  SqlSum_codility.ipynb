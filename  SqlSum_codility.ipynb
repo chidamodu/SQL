{
 "cells": [
  {
   "cell_type": "code",
   "execution_count": null,
   "metadata": {},
   "outputs": [],
   "source": [
    "Given a table elements with the following structure:\n",
    "\n",
    "  create table elements (\n",
    "      v integer not null\n",
    "  )\n",
    "write an SQL query that returns the sum of the numbers in column v.\n",
    "\n",
    "For example, given:\n",
    "\n",
    "  v\n",
    "  ---\n",
    "  2\n",
    "  10\n",
    "  20\n",
    "  10\n",
    "your query should return 42."
   ]
  },
  {
   "cell_type": "code",
   "execution_count": null,
   "metadata": {},
   "outputs": [],
   "source": [
    "solution:\n",
    "    \n",
    "    \n",
    "-- write your code in PostgreSQL 9.4\n",
    "SELECT sum(v) from elements;"
   ]
  }
 ],
 "metadata": {
  "kernelspec": {
   "display_name": "Python 3",
   "language": "python",
   "name": "python3"
  },
  "language_info": {
   "codemirror_mode": {
    "name": "ipython",
    "version": 3
   },
   "file_extension": ".py",
   "mimetype": "text/x-python",
   "name": "python",
   "nbconvert_exporter": "python",
   "pygments_lexer": "ipython3",
   "version": "3.7.4"
  }
 },
 "nbformat": 4,
 "nbformat_minor": 2
}

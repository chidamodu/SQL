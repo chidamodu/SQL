{
 "cells": [
  {
   "cell_type": "code",
   "execution_count": null,
   "metadata": {},
   "outputs": [],
   "source": [
    "This solution using CROSS JOIN did really good! Have to investigate what is going on and why this did well\n",
    "\n",
    "SELECT A.Score, B.rank\n",
    "FROM SCORES as A\n",
    "JOIN (SELECT SCORE, @rn := @rn + 1 as rank\n",
    "FROM (SELECT DISTINCT Score from SCORES) as z\n",
    "CROSS JOIN (select @rn := 0) params\n",
    "ORDER BY SCORE desc) as B\n",
    "on A.Score = B.Score\n",
    "ORDER BY A.SCORE desc\n",
    "\n",
    "Runtime: 169 ms, faster than 97.29% of MySQL online submissions for Rank Scores."
   ]
  }
 ],
 "metadata": {
  "kernelspec": {
   "display_name": "Python 3",
   "language": "python",
   "name": "python3"
  },
  "language_info": {
   "codemirror_mode": {
    "name": "ipython",
    "version": 3
   },
   "file_extension": ".py",
   "mimetype": "text/x-python",
   "name": "python",
   "nbconvert_exporter": "python",
   "pygments_lexer": "ipython3",
   "version": "3.7.4"
  }
 },
 "nbformat": 4,
 "nbformat_minor": 2
}

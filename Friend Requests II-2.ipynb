{
 "cells": [
  {
   "cell_type": "code",
   "execution_count": null,
   "metadata": {},
   "outputs": [],
   "source": [
    "select fog.id1 as id, sum(num1) as num from\n",
    "(select requester_id as id1, count(accepter_id) as num1 from request_accepted\n",
    "group by requester_id\n",
    " \n",
    "union all\n",
    " \n",
    "select accepter_id as id1, count(accepter_id) as num1 from request_accepted\n",
    "group by accepter_id) fog\n",
    "\n",
    "group by fog.id1\n",
    "order by num DESC LIMIT 1;\n",
    "\n",
    "Runtime: 144 ms, faster than 59.87% of MySQL online submissions for Friend Requests II: Who Has the Most Friends.\n",
    "Memory Usage: 0B, less than 100.00% of MySQL online submissions for Friend Requests II: Who Has the Most Friends."
   ]
  },
  {
   "cell_type": "code",
   "execution_count": null,
   "metadata": {},
   "outputs": [],
   "source": [
    "when you do union what you get?\n",
    "\n",
    "output of union which I tried earlier\n",
    "{\"headers\": [\"id1\", \"num1\"], \"values\": [[1, 2], [2, 1], [3, 1], [3, 2], [4, 1]]}\n",
    "\n",
    "\n"
   ]
  },
  {
   "cell_type": "code",
   "execution_count": null,
   "metadata": {},
   "outputs": [],
   "source": [
    "Select Top did not work for me\n",
    "\n",
    "select Top 1 fog.id1, sum(num1) as num from\n",
    "\n",
    "(select requester_id as id1, count(accepter_id) as num1 from request_accepted\n",
    "group by requester_id\n",
    " \n",
    "union all\n",
    " \n",
    "select accepter_id as id1, count(accepter_id) as num1 from request_accepted\n",
    "group by accepter_id) fog\n",
    "\n",
    "group by fog.id1\n",
    "order by num DESC;\n"
   ]
  },
  {
   "cell_type": "code",
   "execution_count": null,
   "metadata": {},
   "outputs": [],
   "source": [
    "Versions I tried before reaching at the correct solution\n",
    "\n",
    "select requester_id as id, count(distinct accepter_id) as num from request_accepted\n",
    "group by requester_id\n",
    "order by num DESC LIMIT 1;\n",
    "\n",
    "\n",
    "select fog.id1 as id, (fog.num1+humid.num2) as num from\n",
    "(select requester_id as id1, count(accepter_id) as num1 from request_accepted\n",
    "group by requester_id) fog\n",
    "join\n",
    "(select accepter_id as id2, count(accepter_id) as num2 from request_accepted\n",
    "group by accepter_id) humid\n",
    "on fog.id1=humid.id2\n",
    "order by num DESC LIMIT 1;\n",
    "\n",
    "\n",
    "For some reason CTEs are not working with the current version of MYSQL on leetcode\n",
    "With Cat as\n",
    "(\n",
    "select requester_id as id1 from request_accepted    \n",
    "    union all\n",
    "\n",
    "select accepter_id as id2 from request_accepted \n",
    ")\n",
    "\n",
    "select count(*)\n",
    "from Cat\n",
    "where fog.id1=fog.id2\n",
    "group by fog.id1\n",
    "\n"
   ]
  },
  {
   "cell_type": "code",
   "execution_count": null,
   "metadata": {},
   "outputs": [],
   "source": [
    "-- Follow up question: In the real world, multiple people could have the same most number of friends, can you find all these people in this case?\n",
    "\n",
    "I tried this for the follow-up - just tried to spit out the max value \n",
    "\n",
    "select MAX(goat.num)\n",
    "from\n",
    "(\n",
    "\n",
    "select sum(num1) as num from\n",
    "\n",
    "(select requester_id as id1, count(accepter_id) as num1 from request_accepted\n",
    "group by requester_id\n",
    " \n",
    "union all\n",
    " \n",
    "select accepter_id as id1, count(accepter_id) as num1 from request_accepted\n",
    "group by accepter_id) fog\n",
    "    \n",
    "group by fog.id1\n",
    ") goat\n",
    ";\n",
    "\n"
   ]
  },
  {
   "cell_type": "code",
   "execution_count": null,
   "metadata": {},
   "outputs": [],
   "source": [
    "-- Follow up question: In the real world, multiple people could have the same most number of friends, can you find all these people in this case?\n",
    "\n",
    "Could not execute this solution as dense_rank does not work in the current version of MYSQL on Leetcode\n",
    "\n",
    "select id, num, ranking \n",
    "from (select id, num, dense_rank() over(order by num desc) as ranking \n",
    "from (select requester_id as id, count(*) as num \n",
    "from (select requester_id from  request_accepted\n",
    "      UNION ALL\n",
    "      select accepter_id from request_accepted) as sub1 \n",
    "group by requester_id) as sub2) as sub3 \n",
    "where ranking = 1 ;"
   ]
  }
 ],
 "metadata": {
  "kernelspec": {
   "display_name": "Python 3",
   "language": "python",
   "name": "python3"
  },
  "language_info": {
   "codemirror_mode": {
    "name": "ipython",
    "version": 3
   },
   "file_extension": ".py",
   "mimetype": "text/x-python",
   "name": "python",
   "nbconvert_exporter": "python",
   "pygments_lexer": "ipython3",
   "version": "3.7.4"
  }
 },
 "nbformat": 4,
 "nbformat_minor": 2
}

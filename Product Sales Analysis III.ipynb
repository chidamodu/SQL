{
 "cells": [
  {
   "cell_type": "code",
   "execution_count": 2,
   "metadata": {},
   "outputs": [],
   "source": [
    "\n",
    "\n",
    "\n",
    "select s.product_id, s.year as first_year, s.quantity, s.price\n",
    "from sales s\n",
    "join\n",
    "(\n",
    "select product_id, MIN(year) as min_year #without selecting product_id here the query would throw an error. just because you know \n",
    "#the field exists in the table does not mean that the query automatically knows to select without selecting\n",
    "    \n",
    "from sales\n",
    "group by product_id  \n",
    "order by year \n",
    ") goat\n",
    "on s.product_id=goat.product_id\n",
    "where s.year=goat.min_year;\n",
    "\n",
    "\n",
    "Runtime: 836 ms, faster than 90.85% of MySQL online submissions for Product Sales Analysis III.\n",
    "Memory Usage: 0B, less than 100.00% of MySQL online submissions for Product Sales Analysis III.\n",
    "\n"
   ]
  },
  {
   "cell_type": "code",
   "execution_count": null,
   "metadata": {},
   "outputs": [],
   "source": [
    "Trials with error: to understand why, check out the difference between output and expected \n",
    "\n",
    "select product_id, year as first_year, quantity, price\n",
    "from sales\n",
    "group by product_id\n",
    "order by year LIMIT 1;\n",
    "\n",
    "Output {\"headers\": [\"product_id\", \"first_year\", \"quantity\", \"price\"], \"values\": [[100, 2008, 10, 5000]]}\n",
    "\n",
    "Expected {\"headers\": [\"product_id\", \"first_year\", \"quantity\", \"price\"], \"values\": [[100, 2008, 10, 5000], [200, 2011, 15, 9000]]}\n",
    "\n",
    "\n"
   ]
  }
 ],
 "metadata": {
  "kernelspec": {
   "display_name": "Python 3",
   "language": "python",
   "name": "python3"
  },
  "language_info": {
   "codemirror_mode": {
    "name": "ipython",
    "version": 3
   },
   "file_extension": ".py",
   "mimetype": "text/x-python",
   "name": "python",
   "nbconvert_exporter": "python",
   "pygments_lexer": "ipython3",
   "version": "3.7.4"
  }
 },
 "nbformat": 4,
 "nbformat_minor": 2
}

{
 "cells": [
  {
   "cell_type": "code",
   "execution_count": null,
   "metadata": {},
   "outputs": [],
   "source": [
    "SELECT d.Name AS Department,\n",
    "e.Name AS Employee,\n",
    "e.Salary AS Salary\n",
    "FROM Employee AS e\n",
    "JOIN Department AS d ON e.DepartmentId = d.Id\n",
    "GROUP BY Employee, Department\n",
    "HAVING (d.Name, Salary) IN\n",
    "(SELECT d.Name,\n",
    "MAX(e.Salary)\n",
    "FROM Employee AS e\n",
    "JOIN Department AS d ON e.DepartmentId = d.Id\n",
    "GROUP BY d.Name)\n",
    "ORDER BY Employee DESC;\n",
    "\n",
    "Runtime: 264 ms, faster than 99.04% of MySQL online submissions for Department Highest Salary."
   ]
  }
 ],
 "metadata": {
  "kernelspec": {
   "display_name": "Python 3",
   "language": "python",
   "name": "python3"
  },
  "language_info": {
   "codemirror_mode": {
    "name": "ipython",
    "version": 3
   },
   "file_extension": ".py",
   "mimetype": "text/x-python",
   "name": "python",
   "nbconvert_exporter": "python",
   "pygments_lexer": "ipython3",
   "version": "3.7.4"
  }
 },
 "nbformat": 4,
 "nbformat_minor": 2
}

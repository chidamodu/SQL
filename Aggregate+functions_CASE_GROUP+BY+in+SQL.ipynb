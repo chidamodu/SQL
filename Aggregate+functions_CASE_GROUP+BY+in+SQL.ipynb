{
 "cells": [
  {
   "cell_type": "code",
   "execution_count": null,
   "metadata": {
    "collapsed": true
   },
   "outputs": [],
   "source": [
    "COUNT: If you look a little bit further up they have used better formulation:\n",
    "\"COUNT(*) returns the number of rows in a specified table without getting rid of duplicates. It counts each row separately. \n",
    "This includes rows that contain null values.\" \n",
    "\n",
    "SUM: SUM treats nulls as 0\n",
    "    \n",
    "ARITHMETIC OPERATORS: +, -, *, /\n",
    "If we have to add values belonging to the same row across different columns then we use arithmetic\n",
    "operators. But if we have to add multiple rows then we use the aggregator functions: COUNT, SUM, MIN, MAX, AVG\n",
    "    \n",
    "AVG:    \n",
    "1. it can only be used on numerical columns.\n",
    "2. it ignores nulls completely. \n",
    "\n",
    "LIMIT: SQL evaluates the aggregations before the LIMIT clause.\n",
    "\n",
    "    \n",
    "WHERE Vs. Having:\n",
    "The WHERE clause doesn’t allow to filter on aggregate \n",
    "columns—that’s where the HAVING clause comes in\n",
    "\n",
    "\n",
    "So where is applied before Group by \n",
    "but Having is applied after Group by and before order by\n",
    "\n",
    "Order of the clauses\n",
    "SELECT\n",
    "FROM\n",
    "WHERE\n",
    "GROUP BY\n",
    "HAVING\n",
    "ORDER BY"
   ]
  },
  {
   "cell_type": "code",
   "execution_count": null,
   "metadata": {
    "collapsed": true
   },
   "outputs": [],
   "source": [
    "#What was the highest single-day increase in Apple's share value?\n",
    "SELECT MAX(close - open)\n",
    "  FROM tutorial.aapl_historical_stock_price"
   ]
  },
  {
   "cell_type": "code",
   "execution_count": null,
   "metadata": {
    "collapsed": true
   },
   "outputs": [],
   "source": [
    "#CASE\n",
    "Write a query that counts the number of 300lb+ players for each of the following regions: \n",
    "    West Coast (CA, OR, WA), Texas, and Other (Everywhere else).\n",
    "\n",
    "\n",
    "SELECT CASE WHEN state IN ('CA', 'OR', 'WA') THEN 'West Coast'\n",
    "            WHEN state = 'TX' THEN 'Texas'\n",
    "            ELSE 'Other' END AS region_grouped,\n",
    "            COUNT(region_grouped) AS num_of_players\n",
    "FROM benn.college_football_players\n",
    "WHERE weight >= 300\n",
    "GROUP BY region_grouped\n",
    "    \n",
    "    \n",
    "    \n",
    "    \n",
    "   "
   ]
  },
  {
   "cell_type": "code",
   "execution_count": null,
   "metadata": {
    "collapsed": true
   },
   "outputs": [],
   "source": [
    "Write a query that calculates the combined weight of all underclass players (FR/SO) in \n",
    "California as well as the combined weight of all upperclass players (JR/SR) in California.\n",
    "\n",
    "SELECT CASE WHEN year IN ('FR', 'SO') THEN 'underclass'\n",
    "            WHEN year IN ('JR', 'SR') THEN 'upperclass'\n",
    "            ELSE NULL END AS class_group,\n",
    "SUM(weight) AS combined_player_weight\n",
    "FROM benn.college_football_players\n",
    "WHERE state = 'CA'\n",
    "GROUP BY class_group"
   ]
  }
 ],
 "metadata": {
  "kernelspec": {
   "display_name": "Python 3",
   "language": "python",
   "name": "python3"
  },
  "language_info": {
   "codemirror_mode": {
    "name": "ipython",
    "version": 3
   },
   "file_extension": ".py",
   "mimetype": "text/x-python",
   "name": "python",
   "nbconvert_exporter": "python",
   "pygments_lexer": "ipython3",
   "version": "3.6.1"
  }
 },
 "nbformat": 4,
 "nbformat_minor": 2
}

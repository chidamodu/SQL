{
 "cells": [
  {
   "cell_type": "code",
   "execution_count": null,
   "metadata": {},
   "outputs": [],
   "source": [
    "Table Activities:\n",
    "+-------------+---------+\n",
    "| Column Name | Type    |\n",
    "+-------------+---------+\n",
    "| sell_date   | date    |\n",
    "| product     | varchar |\n",
    "+-------------+---------+\n",
    "There is no primary key for this table, it may contains duplicates.\n",
    "Each row of this table contains the product name and the date it was sold in a market.\n",
    " \n",
    "Write an SQL query to find for each date, the number of distinct products sold and their names.\n",
    "\n",
    "The sold-products names for each date should be sorted lexicographically. \n",
    "\n",
    "Return the result table ordered by sell_date.\n",
    "\n",
    "The query result format is in the following example.\n",
    "\n",
    "Activities table:\n",
    "+------------+-------------+\n",
    "| sell_date  | product     |\n",
    "+------------+-------------+\n",
    "| 2020-05-30 | Headphone   |\n",
    "| 2020-06-01 | Pencil      |\n",
    "| 2020-06-02 | Mask        |\n",
    "| 2020-05-30 | Basketball  |\n",
    "| 2020-06-01 | Bible       |\n",
    "| 2020-06-02 | Mask        |\n",
    "| 2020-05-30 | T-Shirt     |\n",
    "+------------+-------------+\n",
    "\n",
    "Result table:\n",
    "+------------+----------+------------------------------+\n",
    "| sell_date  | num_sold | products                     |\n",
    "+------------+----------+------------------------------+\n",
    "| 2020-05-30 | 3        | Basketball,Headphone,T-shirt |\n",
    "| 2020-06-01 | 2        | Bible,Pencil                 |\n",
    "| 2020-06-02 | 1        | Mask                         |\n",
    "+------------+----------+------------------------------+\n",
    "For 2020-05-30, Sold items were (Headphone, Basketball, T-shirt), we sort them lexicographically and separate them by \n",
    "comma.\n",
    "For 2020-06-01, Sold items were (Pencil, Bible), we sort them lexicographically and separate them by comma.\n",
    "For 2020-06-02, Sold item is (Masks), we just return it.\n"
   ]
  },
  {
   "cell_type": "code",
   "execution_count": null,
   "metadata": {},
   "outputs": [],
   "source": [
    "\n",
    "SELECT sell_date,\n",
    "       COUNT(DISTINCT(product)) AS num_sold, \n",
    "       \n",
    "        GROUP_CONCAT(DISTINCT product ORDER BY product ASC SEPARATOR ',') AS products\n",
    "        \n",
    "FROM Activities\n",
    "GROUP BY sell_date\n",
    "ORDER BY sell_date ASC;\n",
    "\n",
    "result:\n",
    "Time:  O(nlogn)\n",
    "Space: O(n)\n",
    "    \n",
    "Point to note: the default separator in GROUP_CONCAT is a comma.\n",
    "\n",
    "FYI\n",
    "MySQL GROUP_CONCAT() function returns a string with concatenated non-NULL value from a group.\n",
    "Returns NULL when there are no non-NULL values."
   ]
  }
 ],
 "metadata": {
  "kernelspec": {
   "display_name": "Python 3",
   "language": "python",
   "name": "python3"
  },
  "language_info": {
   "codemirror_mode": {
    "name": "ipython",
    "version": 3
   },
   "file_extension": ".py",
   "mimetype": "text/x-python",
   "name": "python",
   "nbconvert_exporter": "python",
   "pygments_lexer": "ipython3",
   "version": "3.7.4"
  }
 },
 "nbformat": 4,
 "nbformat_minor": 2
}

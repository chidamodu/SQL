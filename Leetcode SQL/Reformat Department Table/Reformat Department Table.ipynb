{
 "cells": [
  {
   "cell_type": "code",
   "execution_count": null,
   "metadata": {},
   "outputs": [],
   "source": [
    "Table: Department\n",
    "+---------------+---------+\n",
    "| Column Name   | Type    |\n",
    "+---------------+---------+\n",
    "| id            | int     |\n",
    "| revenue       | int     |\n",
    "| month         | varchar |\n",
    "+---------------+---------+\n",
    "(id, month) is the primary key of this table.\n",
    "The table has information about the revenue of each department per month.\n",
    "The month has values in [\"Jan\",\"Feb\",\"Mar\",\"Apr\",\"May\",\"Jun\",\"Jul\",\"Aug\",\"Sep\",\"Oct\",\"Nov\",\"Dec\"].\n",
    " \n",
    "\n",
    "Write an SQL query to reformat the table such that there is a department id column and a revenue column for \n",
    "each month.\n",
    "\n",
    "The query result format is in the following example:\n",
    "\n",
    "Department table:\n",
    "+------+---------+-------+\n",
    "| id   | revenue | month |\n",
    "+------+---------+-------+\n",
    "| 1    | 8000    | Jan   |\n",
    "| 2    | 9000    | Jan   |\n",
    "| 3    | 10000   | Feb   |\n",
    "| 1    | 7000    | Feb   |\n",
    "| 1    | 6000    | Mar   |\n",
    "+------+---------+-------+\n",
    "\n",
    "Result table:\n",
    "+------+-------------+-------------+-------------+-----+-------------+\n",
    "| id   | Jan_Revenue | Feb_Revenue | Mar_Revenue | ... | Dec_Revenue |\n",
    "+------+-------------+-------------+-------------+-----+-------------+\n",
    "| 1    | 8000        | 7000        | 6000        | ... | null        |\n",
    "| 2    | 9000        | null        | null        | ... | null        |\n",
    "| 3    | null        | 10000       | null        | ... | null        |\n",
    "+------+-------------+-------------+-------------+-----+-------------+\n",
    "\n",
    "Note that the result table has 13 columns (1 for the department id + 12 for the months)."
   ]
  },
  {
   "cell_type": "code",
   "execution_count": null,
   "metadata": {},
   "outputs": [],
   "source": [
    "select\n",
    "id,\n",
    "coalesce(sum(case when month = \"Jan\" then revenue end)) as Jan_Revenue,\n",
    "coalesce(sum(case when month = \"Feb\" then revenue end)) as Feb_Revenue,\n",
    "coalesce(sum(case when month = \"Mar\" then revenue end)) as Mar_Revenue,\n",
    "coalesce(sum(case when month = \"Apr\" then revenue end)) as Apr_Revenue,\n",
    "coalesce(sum(case when month = \"May\" then revenue end)) as May_Revenue,\n",
    "coalesce(sum(case when month = \"Jun\" then revenue end)) as Jun_Revenue,\n",
    "coalesce(sum(case when month = \"Jul\" then revenue end)) as Jul_Revenue,\n",
    "coalesce(sum(case when month = \"Aug\" then revenue end)) as Aug_Revenue,\n",
    "coalesce(sum(case when month = \"Sep\" then revenue end)) as Sep_Revenue,\n",
    "coalesce(sum(case when month = \"Oct\" then revenue end)) as Oct_Revenue,\n",
    "coalesce(sum(case when month = \"Nov\" then revenue end)) as Nov_Revenue,\n",
    "coalesce(sum(case when month = \"Dec\" then revenue end)) as Dec_Revenue\n",
    "from department\n",
    "group by id;"
   ]
  }
 ],
 "metadata": {
  "kernelspec": {
   "display_name": "Python 3",
   "language": "python",
   "name": "python3"
  },
  "language_info": {
   "codemirror_mode": {
    "name": "ipython",
    "version": 3
   },
   "file_extension": ".py",
   "mimetype": "text/x-python",
   "name": "python",
   "nbconvert_exporter": "python",
   "pygments_lexer": "ipython3",
   "version": "3.7.4"
  }
 },
 "nbformat": 4,
 "nbformat_minor": 2
}

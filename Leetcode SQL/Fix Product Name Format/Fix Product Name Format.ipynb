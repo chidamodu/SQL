{
 "cells": [
  {
   "cell_type": "code",
   "execution_count": null,
   "metadata": {},
   "outputs": [],
   "source": [
    "Table: Sales\n",
    "+--------------+---------+\n",
    "| Column Name  | Type    |\n",
    "+--------------+---------+\n",
    "| sale_id      | int     |\n",
    "| product_name | varchar |\n",
    "| sale_date    | date    |\n",
    "+--------------+---------+\n",
    "sale_id is the primary key for this table.\n",
    "Each row of this table contains \n",
    "the product name and the date it was sold.\n",
    "\n",
    "Since table Sales was filled manually in the year 2000, product_name may contain leading and/or trailing white spaces, \n",
    "also they are case-insensitive.\n",
    "\n",
    "Write an SQL query to report\n",
    "\n",
    "product_name in lowercase without leading or trailing white spaces.\n",
    "sale_date in the format ('YYYY-MM')\n",
    "total the number of times the product was sold in this month.\n",
    "Return the result table ordered by product_name in ascending order, in case of a tie order it by sale_date in ascending order.\n",
    "\n",
    "The query result format is in the following example.\n",
    "\n",
    "Sales\n",
    "+------------+------------------+--------------+\n",
    "| sale_id    | product_name     | sale_date    |\n",
    "+------------+------------------+--------------+\n",
    "| 1          |      LCPHONE     | 2000-01-16   |\n",
    "| 2          |    LCPhone       | 2000-01-17   |\n",
    "| 3          |     LcPhOnE      | 2000-02-18   |\n",
    "| 4          |      LCKeyCHAiN  | 2000-02-19   |\n",
    "| 5          |   LCKeyChain     | 2000-02-28   |\n",
    "| 6          | Matryoshka       | 2000-03-31   | \n",
    "+------------+------------------+--------------+\n",
    "\n",
    "Result table:\n",
    "+--------------+--------------+----------+\n",
    "| product_name | sale_date    | total    |\n",
    "+--------------+--------------+----------+\n",
    "| lcphone      | 2000-01      | 2        |\n",
    "| lckeychain   | 2000-02      | 2        | \n",
    "| lcphone      | 2000-02      | 1        | \n",
    "| matryoshka   | 2000-03      | 1        | \n",
    "+--------------+--------------+----------+\n",
    "\n",
    "In January, 2 LcPhones were sold, \n",
    "please note that the product names are \n",
    "not case sensitive and may contain spaces.\n",
    "In Februery, 2 LCKeychains and 1 LCPhone were sold.\n",
    "In March, 1 matryoshka was sold."
   ]
  },
  {
   "cell_type": "code",
   "execution_count": null,
   "metadata": {},
   "outputs": [],
   "source": [
    "First attempt\n",
    "\n",
    "select lcase(trim(product_name)) as product_name, , as sale_date, count(*) as total\n",
    "from Sales\n",
    "where sale_date=LEFT(sale_date, 7)\n",
    "group by sale_date, product_name\n",
    "order by product_name, sale_date\n",
    "\n"
   ]
  },
  {
   "cell_type": "code",
   "execution_count": null,
   "metadata": {},
   "outputs": [],
   "source": [
    "Solution\n",
    "\n",
    "Why is it necessary to select the trimmed and lowercase converted product_name and sale_date in a separate select?\n",
    "Because it is not possible to use what you are selecting if the selected columns have to be altered at the same time.\n",
    "what does it mean: LCPHONE is not the same as LCPhone for example. Therefore it is important to make all the changes and \n",
    "then use the changes columns for selection purposes. I am not sure whether LEFT(sale_date, 7) in the select statement can \n",
    "also be used in the group by statement.\n",
    "\n",
    "select fog.pname as product_name, fog.s_date as sale_date, count(*) as total\n",
    "\n",
    "(\n",
    "select lcase(trim(product_name)) as pname, LEFT(sale_date, 7) from Sales as s_date\n",
    ") fog\n",
    "\n",
    "group by fog.s_date, fog.pname\n",
    "order by fog.pname, fog.s_date;\n",
    "\n"
   ]
  }
 ],
 "metadata": {
  "kernelspec": {
   "display_name": "Python 3",
   "language": "python",
   "name": "python3"
  },
  "language_info": {
   "codemirror_mode": {
    "name": "ipython",
    "version": 3
   },
   "file_extension": ".py",
   "mimetype": "text/x-python",
   "name": "python",
   "nbconvert_exporter": "python",
   "pygments_lexer": "ipython3",
   "version": "3.7.4"
  }
 },
 "nbformat": 4,
 "nbformat_minor": 2
}

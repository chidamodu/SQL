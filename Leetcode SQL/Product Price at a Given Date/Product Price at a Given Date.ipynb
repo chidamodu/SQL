{
 "cells": [
  {
   "cell_type": "code",
   "execution_count": null,
   "metadata": {},
   "outputs": [],
   "source": [
    "\n",
    "Table: Products\n",
    "+---------------+---------+\n",
    "| Column Name   | Type    |\n",
    "+---------------+---------+\n",
    "| product_id    | int     |\n",
    "| new_price     | int     |\n",
    "| change_date   | date    |\n",
    "+---------------+---------+\n",
    "(product_id, change_date) is the primary key of this table.\n",
    "Each row of this table indicates that the price of some product was changed to a new price at some date.\n",
    "\n",
    "\n",
    "Write an SQL query to find the prices of all products on 2019-08-16. Assume the price of all products before any change is 10.\n",
    "\n",
    "The query result format is in the following example:\n",
    "\n",
    "Products table:\n",
    "+------------+-----------+-------------+\n",
    "| product_id | new_price | change_date |\n",
    "+------------+-----------+-------------+\n",
    "| 1          | 20        | 2019-08-14  |\n",
    "| 2          | 50        | 2019-08-14  |\n",
    "| 1          | 30        | 2019-08-15  |\n",
    "| 1          | 35        | 2019-08-16  |\n",
    "| 2          | 65        | 2019-08-17  |\n",
    "| 3          | 20        | 2019-08-18  |\n",
    "+------------+-----------+-------------+\n",
    "\n",
    "Result table:\n",
    "+------------+-------+\n",
    "| product_id | price |\n",
    "+------------+-------+\n",
    "| 2          | 50    |\n",
    "| 1          | 35    |\n",
    "| 3          | 10    |\n",
    "+------------+-------+\n"
   ]
  },
  {
   "cell_type": "code",
   "execution_count": null,
   "metadata": {},
   "outputs": [],
   "source": [
    "\n",
    "select t1.product_id as product_id, if(isnull(t2.price), 10, t2.price) as price\n",
    "from\n",
    "\n",
    "(select distinct product_id\n",
    "from Products) as t1 \n",
    "    \n",
    "left join\n",
    "\n",
    "  (select product_id, new_price as price\n",
    "   from Products\n",
    "   where (product_id, change_date) in\n",
    "      (select product_id, max(change_date)\n",
    "      from Products\n",
    "      where change_date <='2019-08-16'\n",
    "      group by product_id)) as t2\n",
    "    \n",
    "on t1.product_id = t2.product_id\n",
    "\n",
    "\n"
   ]
  }
 ],
 "metadata": {
  "kernelspec": {
   "display_name": "Python 3",
   "language": "python",
   "name": "python3"
  },
  "language_info": {
   "codemirror_mode": {
    "name": "ipython",
    "version": 3
   },
   "file_extension": ".py",
   "mimetype": "text/x-python",
   "name": "python",
   "nbconvert_exporter": "python",
   "pygments_lexer": "ipython3",
   "version": "3.7.4"
  }
 },
 "nbformat": 4,
 "nbformat_minor": 2
}

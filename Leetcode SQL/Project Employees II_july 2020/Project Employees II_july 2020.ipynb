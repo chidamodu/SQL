{
 "cells": [
  {
   "cell_type": "code",
   "execution_count": null,
   "metadata": {},
   "outputs": [],
   "source": [
    "Table: Project\n",
    "+-------------+---------+\n",
    "| Column Name | Type    |\n",
    "+-------------+---------+\n",
    "| project_id  | int     |\n",
    "| employee_id | int     |\n",
    "+-------------+---------+\n",
    "(project_id, employee_id) is the primary key of this table.\n",
    "employee_id is a foreign key to Employee table.\n",
    "\n",
    "Table: Employee\n",
    "+------------------+---------+\n",
    "| Column Name      | Type    |\n",
    "+------------------+---------+\n",
    "| employee_id      | int     |\n",
    "| name             | varchar |\n",
    "| experience_years | int     |\n",
    "+------------------+---------+\n",
    "employee_id is the primary key of this table.\n",
    "Write an SQL query that reports all the projects that have the most employees.\n",
    "\n",
    "The query result format is in the following example:\n",
    "\n",
    "Project table:\n",
    "+-------------+-------------+\n",
    "| project_id  | employee_id |\n",
    "+-------------+-------------+\n",
    "| 1           | 1           |\n",
    "| 1           | 2           |\n",
    "| 1           | 3           |\n",
    "| 2           | 1           |\n",
    "| 2           | 4           |\n",
    "+-------------+-------------+\n",
    "\n",
    "Employee table:\n",
    "+-------------+--------+------------------+\n",
    "| employee_id | name   | experience_years |\n",
    "+-------------+--------+------------------+\n",
    "| 1           | Khaled | 3                |\n",
    "| 2           | Ali    | 2                |\n",
    "| 3           | John   | 1                |\n",
    "| 4           | Doe    | 2                |\n",
    "+-------------+--------+------------------+\n",
    "\n",
    "Result table:\n",
    "+-------------+\n",
    "| project_id  |\n",
    "+-------------+\n",
    "| 1           |\n",
    "+-------------+\n",
    "The first project has 3 employees while the second one has 2."
   ]
  },
  {
   "cell_type": "code",
   "execution_count": null,
   "metadata": {},
   "outputs": [],
   "source": [
    "select project_id\n",
    "from Project\n",
    "group by project_id\n",
    "having count(1) = (\n",
    "    select count(1)\n",
    "    from Project\n",
    "    group by project_id\n",
    "    order by count(1) desc\n",
    "    limit 1)"
   ]
  }
 ],
 "metadata": {
  "kernelspec": {
   "display_name": "Python 3",
   "language": "python",
   "name": "python3"
  },
  "language_info": {
   "codemirror_mode": {
    "name": "ipython",
    "version": 3
   },
   "file_extension": ".py",
   "mimetype": "text/x-python",
   "name": "python",
   "nbconvert_exporter": "python",
   "pygments_lexer": "ipython3",
   "version": "3.7.4"
  }
 },
 "nbformat": 4,
 "nbformat_minor": 2
}

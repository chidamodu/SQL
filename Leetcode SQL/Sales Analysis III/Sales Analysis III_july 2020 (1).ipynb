{
 "cells": [
  {
   "cell_type": "code",
   "execution_count": null,
   "metadata": {},
   "outputs": [],
   "source": [
    "Table: Product\n",
    "Column Name\tType\n",
    "product_id\tint\n",
    "product_name\tvarchar\n",
    "unit_price\tint\n",
    "product_id is the primary key of this table.\n",
    "\n",
    "Table: Sales\n",
    "Column Name\tType\n",
    "seller_id\tint\n",
    "product_id\tint\n",
    "buyer_id\tint\n",
    "sale_date\tdate\n",
    "quantity\tint\n",
    "price\tint\n",
    "\n",
    "This table has no primary key, it can have repeated rows.\n",
    "product_id is a foreign key to Product table.\n",
    "\n",
    "Write an SQL query that reports the products that were only sold in spring 2019. That is, between 2019-01-01 and \n",
    "2019-03-31 inclusive.\n",
    "\n",
    "The query result format is in the following example:\n",
    "\n",
    "Product table:\n",
    "product_id\tproduct_name\tunit_price\n",
    "1\tS8\t1000\n",
    "2\tG4\t800\n",
    "3\tiPhone\t1400\n",
    "\n",
    "Sales table:\n",
    "seller_id\tproduct_id\tbuyer_id\tsale_date\tquantity\tprice\n",
    "1\t1\t1\t2019-01-21\t2\t2000\n",
    "1\t2\t2\t2019-02-17\t1\t800\n",
    "2\t2\t3\t2019-06-02\t1\t800\n",
    "3\t3\t4\t2019-05-13\t2\t2800\n",
    "\n",
    "Result table:\n",
    "product_id\tproduct_name\n",
    "1\tS8\n",
    "\n",
    "The product with id 1 was only sold in spring 2019 while the other two were sold after.\n"
   ]
  },
  {
   "cell_type": "code",
   "execution_count": null,
   "metadata": {},
   "outputs": [],
   "source": [
    "Not accurate!\n",
    "\n",
    "select p.product_id, p.product_name \n",
    "from product p\n",
    "join \n",
    "(\n",
    "select product_id\n",
    "from sales\n",
    "group by product_id\n",
    "where sale_date BETWEEN \"2019-01-01\" AND \"2019-03-31\"\n",
    ") fog\n",
    "on p.product_id=fog.product_id\n",
    "\n"
   ]
  },
  {
   "cell_type": "code",
   "execution_count": null,
   "metadata": {},
   "outputs": [],
   "source": [
    "Can also write without a subquery\n",
    "\n",
    "SELECT DISTINCT\n",
    "    s.product_id, p.product_name\n",
    "FROM\n",
    "    Sales s\n",
    "JOIN\n",
    "    Product p\n",
    "ON\n",
    "    s.product_id = p.product_id\n",
    "GROUP BY\n",
    "    s.product_id\n",
    "HAVING\n",
    "    s.sale_date BETWEEN \"2019-01-01\" AND \"2019-03-31\";"
   ]
  },
  {
   "cell_type": "code",
   "execution_count": null,
   "metadata": {},
   "outputs": [],
   "source": [
    "An alternative solution\n",
    "\n",
    "SELECT DISTINCT\n",
    "    s.product_id, p.product_name\n",
    "FROM\n",
    "    Sales s\n",
    "JOIN\n",
    "    Product p\n",
    "ON\n",
    "    s.product_id = p.product_id\n",
    "GROUP BY\n",
    "    s.product_id\n",
    "HAVING\n",
    "    MAX(sale_date) <= '2019-03-31'\n",
    "    AND MIN(sale_date) >= '2019-01-01';\n"
   ]
  },
  {
   "cell_type": "code",
   "execution_count": null,
   "metadata": {},
   "outputs": [],
   "source": [
    "Another one: this was already submitted code on Leetcode by me :)\n",
    "        \n",
    "        \n",
    "select distinct p.product_id, p.product_name from product p\n",
    "where p.product_id in\n",
    "(\n",
    "select product_id from sales\n",
    "group by product_id\n",
    "having MIN(sale_date) >=\"2019-01-01\" and MAX(sale_date)<=\"2019-03-31\" \n",
    ");\n",
    "\n",
    "result from when I had subscription with the platform:\n",
    "Runtime: 779 ms, faster than 95.95% of MySQL online submissions for Sales Analysis III.\n",
    "Memory Usage: 0B, less than 100.00% of MySQL online submissions for Sales Analysis III.\n",
    "\n",
    "FYI: The HAVING clause is used for aggregate functions\n",
    "\n",
    "\n",
    "    \n",
    "    "
   ]
  }
 ],
 "metadata": {
  "kernelspec": {
   "display_name": "Python 3",
   "language": "python",
   "name": "python3"
  },
  "language_info": {
   "codemirror_mode": {
    "name": "ipython",
    "version": 3
   },
   "file_extension": ".py",
   "mimetype": "text/x-python",
   "name": "python",
   "nbconvert_exporter": "python",
   "pygments_lexer": "ipython3",
   "version": "3.7.4"
  }
 },
 "nbformat": 4,
 "nbformat_minor": 2
}

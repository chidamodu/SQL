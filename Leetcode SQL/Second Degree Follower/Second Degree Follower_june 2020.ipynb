{
 "cells": [
  {
   "cell_type": "code",
   "execution_count": null,
   "metadata": {},
   "outputs": [],
   "source": [
    "In facebook, there is a follow table with two columns: followee, follower.\n",
    "\n",
    "Please write a sql query to get the amount of each follower’s follower if he/she has one.\n",
    "\n",
    "For example:\n",
    "+-------------+------------+\n",
    "| followee    | follower   |\n",
    "+-------------+------------+\n",
    "|     A       |     B      |\n",
    "|     B       |     C      |\n",
    "|     B       |     D      |\n",
    "|     D       |     E      |\n",
    "+-------------+------------+\n",
    "\n",
    "should output:\n",
    "+-------------+------------+\n",
    "| follower    | num        |\n",
    "+-------------+------------+\n",
    "|     B       |  2         |\n",
    "|     D       |  1         |\n",
    "+-------------+------------+\n",
    "Explaination:\n",
    "Both B and D exist in the follower list, when as a followee, B’s follower is C and D, and D’s follower is E. A does \n",
    "not exist in follower list.\n",
    "\n",
    "Note:\n",
    "Followee would not follow himself/herself in all cases.\n",
    "Please display the result in follower’s alphabet order."
   ]
  },
  {
   "cell_type": "code",
   "execution_count": null,
   "metadata": {},
   "outputs": [],
   "source": [
    "Analysis\n",
    "\n",
    "Join 2 follow tables. Let followee of the second table be equal to the follower of the first table so that follower in\n",
    "the second table is follower’s follower in the first table. Then group by follower of the first table and count number\n",
    "of follower in the second table for each follower in the first table. Finally exclude duplicates and sort by follower\n",
    "of the first table alphabetically.\n",
    "\n"
   ]
  },
  {
   "cell_type": "code",
   "execution_count": null,
   "metadata": {},
   "outputs": [],
   "source": [
    "solution\n",
    "\n",
    "select t1.follower as follower, count(distinct t2.follower) as num\n",
    "from follow t1\n",
    "join\n",
    "follow t2\n",
    "on t1.follower=t2.followee\n",
    "group by t1.follower\n",
    "order by t1.follower;\n"
   ]
  }
 ],
 "metadata": {
  "kernelspec": {
   "display_name": "Python 3",
   "language": "python",
   "name": "python3"
  },
  "language_info": {
   "codemirror_mode": {
    "name": "ipython",
    "version": 3
   },
   "file_extension": ".py",
   "mimetype": "text/x-python",
   "name": "python",
   "nbconvert_exporter": "python",
   "pygments_lexer": "ipython3",
   "version": "3.7.4"
  }
 },
 "nbformat": 4,
 "nbformat_minor": 2
}

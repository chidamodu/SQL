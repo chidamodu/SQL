{
 "cells": [
  {
   "cell_type": "code",
   "execution_count": null,
   "metadata": {},
   "outputs": [],
   "source": [
    "Table: Submissions\n",
    "\n",
    "+---------------+----------+\n",
    "| Column Name   | Type     |\n",
    "+---------------+----------+\n",
    "| sub_id        | int      |\n",
    "| parent_id     | int      |\n",
    "+---------------+----------+\n",
    "There is no primary key for this table, it may have duplicate rows.\n",
    "Each row can be a post or comment on the post.\n",
    "parent_id is null for posts.\n",
    "parent_id for comments is sub_id for another post in the table.\n",
    " \n",
    "\n",
    "Write an SQL query to find number of comments per each post.\n",
    "\n",
    "Result table should contain post_id and its corresponding number_of_comments, and must be sorted by post_id in \n",
    "ascending order.\n",
    "\n",
    "Submissions may contain duplicate comments. You should count the number of unique comments per post.\n",
    "\n",
    "Submissions may contain duplicate posts. You should treat them as one post.\n",
    "\n",
    "The query result format is in the following example:\n",
    "\n",
    "Submissions table:\n",
    "+---------+------------+\n",
    "| sub_id  | parent_id  |\n",
    "+---------+------------+\n",
    "| 1       | Null       |\n",
    "| 2       | Null       |\n",
    "| 1       | Null       |\n",
    "| 12      | Null       |\n",
    "| 3       | 1          |\n",
    "| 5       | 2          |\n",
    "| 3       | 1          |\n",
    "| 4       | 1          |\n",
    "| 9       | 1          |\n",
    "| 10      | 2          |\n",
    "| 6       | 7          |\n",
    "+---------+------------+\n",
    "\n",
    "Result table:\n",
    "+---------+--------------------+\n",
    "| post_id | number_of_comments |\n",
    "+---------+--------------------+\n",
    "| 1       | 3                  |\n",
    "| 2       | 2                  |\n",
    "| 12      | 0                  |\n",
    "+---------+--------------------+\n",
    "\n",
    "The post with id 1 has three comments in the table with id 3, 4 and 9. The comment with id 3 is repeated in the table, we counted it only once.\n",
    "The post with id 2 has two comments in the table with id 5 and 10.\n",
    "The post with id 12 has no comments in the table.\n",
    "The comment with id 6 is a comment on a deleted post with id 7 so we ignored it.\n"
   ]
  },
  {
   "cell_type": "code",
   "execution_count": null,
   "metadata": {},
   "outputs": [],
   "source": [
    "# Time:  O(n)\n",
    "# Space: O(n)\n",
    "\n",
    "SELECT a.sub_id                 AS post_id, \n",
    "       Count(DISTINCT b.sub_id) AS number_of_comments \n",
    "FROM   submissions a \n",
    "       LEFT JOIN submissions b \n",
    "              ON a.sub_id = b.parent_id \n",
    "WHERE  a.parent_id IS NULL \n",
    "GROUP  BY a.sub_id \n",
    "ORDER  BY NULL "
   ]
  }
 ],
 "metadata": {
  "kernelspec": {
   "display_name": "Python 3",
   "language": "python",
   "name": "python3"
  },
  "language_info": {
   "codemirror_mode": {
    "name": "ipython",
    "version": 3
   },
   "file_extension": ".py",
   "mimetype": "text/x-python",
   "name": "python",
   "nbconvert_exporter": "python",
   "pygments_lexer": "ipython3",
   "version": "3.7.4"
  }
 },
 "nbformat": 4,
 "nbformat_minor": 2
}

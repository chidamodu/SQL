{
 "cells": [
  {
   "cell_type": "code",
   "execution_count": null,
   "metadata": {},
   "outputs": [],
   "source": [
    "Table: Activity\n",
    "+---------------+---------+\n",
    "| Column Name   | Type    |\n",
    "+---------------+---------+\n",
    "| user_id       | int     |\n",
    "| session_id    | int     |\n",
    "| activity_date | date    |\n",
    "| activity_type | enum    |\n",
    "+---------------+---------+\n",
    "\n",
    "There is no primary key for this table, it may have duplicate rows.\n",
    "The activity_type column is an ENUM of type ('open_session', 'end_session', 'scroll_down', 'send_message').\n",
    "\n",
    "The table shows the user activities for a social media website. \n",
    "\n",
    "Note that each session belongs to exactly one user.\n",
    " \n",
    "\n",
    "Write an SQL query to find the daily active user count for a period of 30 days ending 2019-07-27 inclusively. A user \n",
    "was active on some day if he/she made at least one activity on that day.\n",
    "\n",
    "The query result format is in the following example:\n",
    "\n",
    "Activity table:\n",
    "+---------+------------+---------------+---------------+\n",
    "| user_id | session_id | activity_date | activity_type |\n",
    "+---------+------------+---------------+---------------+\n",
    "| 1       | 1          | 2019-07-20    | open_session  |\n",
    "| 1       | 1          | 2019-07-20    | scroll_down   |\n",
    "| 1       | 1          | 2019-07-20    | end_session   |\n",
    "| 2       | 4          | 2019-07-20    | open_session  |\n",
    "| 2       | 4          | 2019-07-21    | send_message  |\n",
    "| 2       | 4          | 2019-07-21    | end_session   |\n",
    "| 3       | 2          | 2019-07-21    | open_session  |\n",
    "| 3       | 2          | 2019-07-21    | send_message  |\n",
    "| 3       | 2          | 2019-07-21    | end_session   |\n",
    "| 4       | 3          | 2019-06-25    | open_session  |\n",
    "| 4       | 3          | 2019-06-25    | end_session   |\n",
    "+---------+------------+---------------+---------------+\n",
    "\n",
    "Result table:\n",
    "+------------+--------------+ \n",
    "| day        | active_users |\n",
    "+------------+--------------+ \n",
    "| 2019-07-20 | 2            |\n",
    "| 2019-07-21 | 2            |\n",
    "+------------+--------------+ \n",
    "Note that we do not care about days with zero active users."
   ]
  },
  {
   "cell_type": "code",
   "execution_count": null,
   "metadata": {},
   "outputs": [],
   "source": [
    "Solution using DATEADD\n",
    "\n",
    "select activity_date as day, count(distinct user_id) as active_users\n",
    "from activity\n",
    "group by activity_date, user_id\n",
    "where activity_date BETWEEN DATEADD(day, -29, '2019-07-27') and '2019-07-27' #the day in DATEADD is to specify we are subtracting days to '2019-07-27' \n",
    "having count(activity_type)>=1;\n",
    "\n",
    "\n",
    "Point to note:\n",
    "the day in DATEADD is to specify we are subtracting 29 days from the date '2019-07-27'. this day is not the same as the day\n",
    "in the select statement.\n"
   ]
  },
  {
   "cell_type": "code",
   "execution_count": null,
   "metadata": {},
   "outputs": [],
   "source": [
    "Similar solution using DATEDIFF\n",
    "\n",
    "select activity_date as day, count(distinct user_id) as active_users\n",
    "from activity\n",
    "group by activity_date, user_id\n",
    "where DATEDIFF(day, activity_date, '2019-07-27')<30 #here also day means return the difference between two dates in days\n",
    "having count(activity_type)>=1;\n",
    "\n"
   ]
  },
  {
   "cell_type": "code",
   "execution_count": null,
   "metadata": {},
   "outputs": [],
   "source": [
    "How does DATEDIFF work?\n",
    "\n",
    "In the following example: Return the difference between two dates in months\n",
    "\n",
    "SELECT DATEDIFF(month, '2017/08/25', '2011/08/25') AS DateDiff;\n",
    "\n"
   ]
  }
 ],
 "metadata": {
  "kernelspec": {
   "display_name": "Python 3",
   "language": "python",
   "name": "python3"
  },
  "language_info": {
   "codemirror_mode": {
    "name": "ipython",
    "version": 3
   },
   "file_extension": ".py",
   "mimetype": "text/x-python",
   "name": "python",
   "nbconvert_exporter": "python",
   "pygments_lexer": "ipython3",
   "version": "3.7.4"
  }
 },
 "nbformat": 4,
 "nbformat_minor": 2
}

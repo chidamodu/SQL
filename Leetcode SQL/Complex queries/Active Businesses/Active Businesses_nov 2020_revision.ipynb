{
 "cells": [
  {
   "cell_type": "code",
   "execution_count": null,
   "metadata": {},
   "outputs": [],
   "source": [
    "Table: Events\n",
    "\n",
    "+---------------+---------+\n",
    "| Column Name   | Type    |\n",
    "+---------------+---------+\n",
    "| business_id   | int     |\n",
    "| event_type    | varchar |\n",
    "| occurences    | int     | \n",
    "+---------------+---------+\n",
    "(business_id, event_type) is the primary key of this table.\n",
    "Each row in the table logs the info that an event of some type occured at some business for a number of times.\n",
    "\n",
    "\n",
    "Write an SQL query to find all active businesses.\n",
    "\n",
    "An active business is a business that has more than one event type with occurences greater than the average occurences \n",
    "of that event type among all businesses.\n",
    "\n",
    "The query result format is in the following example:\n",
    "\n",
    "Events table:\n",
    "+-------------+------------+------------+\n",
    "| business_id | event_type | occurences |\n",
    "+-------------+------------+------------+\n",
    "| 1           | reviews    | 7          |\n",
    "| 3           | reviews    | 3          |\n",
    "| 1           | ads        | 11         |\n",
    "| 2           | ads        | 7          |\n",
    "| 3           | ads        | 6          |\n",
    "| 1           | page views | 3          |\n",
    "| 2           | page views | 12         |\n",
    "+-------------+------------+------------+\n",
    "\n",
    "Result table:\n",
    "+-------------+\n",
    "| business_id |\n",
    "+-------------+\n",
    "| 1           |\n",
    "+-------------+ \n",
    "Average for 'reviews', 'ads' and 'page views' are (7+3)/2=5, (11+7+6)/3=8, (3+12)/2=7.5 respectively.\n",
    "Business with id 1 has 7 'reviews' events (more than 5) and 11 'ads' events (more than 8) so it is an active business."
   ]
  },
  {
   "cell_type": "code",
   "execution_count": null,
   "metadata": {},
   "outputs": [],
   "source": [
    "select e1.business_id\n",
    "from\n",
    "\n",
    "(\n",
    "select e1.business_id, e1.occurences, e1.event_type, fog.event_type, fog.avg_occurences\n",
    "from Events e1\n",
    "\n",
    "left join\n",
    "    \n",
    "(\n",
    "select event_type, AVG(occurences) as avg_occurences\n",
    "from Events\n",
    "group by event_type\n",
    ") fog\n",
    "\n",
    "on e1.event_type=fog.event_type   \n",
    ") tmp\n",
    "\n",
    "where e1.occurences > fog.avg_occurences\n",
    "group by e1.business_id\n",
    "having count(e1.event_type)>1;"
   ]
  }
 ],
 "metadata": {
  "kernelspec": {
   "display_name": "Python 3",
   "language": "python",
   "name": "python3"
  },
  "language_info": {
   "codemirror_mode": {
    "name": "ipython",
    "version": 3
   },
   "file_extension": ".py",
   "mimetype": "text/x-python",
   "name": "python",
   "nbconvert_exporter": "python",
   "pygments_lexer": "ipython3",
   "version": "3.7.4"
  }
 },
 "nbformat": 4,
 "nbformat_minor": 2
}

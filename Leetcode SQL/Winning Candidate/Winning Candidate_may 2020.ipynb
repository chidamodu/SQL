{
 "cells": [
  {
   "cell_type": "code",
   "execution_count": null,
   "metadata": {},
   "outputs": [],
   "source": [
    "Table: Candidate\n",
    "+-----+---------+\n",
    "| id  | Name    |\n",
    "+-----+---------+\n",
    "| 1   | A       |\n",
    "| 2   | B       |\n",
    "| 3   | C       |\n",
    "| 4   | D       |\n",
    "| 5   | E       |\n",
    "+-----+---------+\n",
    "\n",
    "Table: Vote\n",
    "+-----+--------------+\n",
    "| id  | CandidateId  |\n",
    "+-----+--------------+\n",
    "| 1   |     2        |\n",
    "| 2   |     4        |\n",
    "| 3   |     3        |\n",
    "| 4   |     2        |\n",
    "| 5   |     5        |\n",
    "+-----+--------------+\n",
    "id is the auto-increment primary key,\n",
    "CandidateId is the id appeared in Candidate table.\n",
    "\n",
    "\n",
    "Write a sql to find the name of the winning candidate, the above example will return the winner B.\n",
    "+------+\n",
    "| Name |\n",
    "+------+\n",
    "| B    |\n",
    "+------+\n",
    "\n",
    "Notes:\n",
    "You may assume there is no tie, in other words there will be at most one winning candidate.\n",
    "\n"
   ]
  },
  {
   "cell_type": "code",
   "execution_count": null,
   "metadata": {},
   "outputs": [],
   "source": []
  },
  {
   "cell_type": "code",
   "execution_count": null,
   "metadata": {},
   "outputs": [],
   "source": [
    "this is not correct. rather unnecessary to join actually!\n",
    "\n",
    "select name \n",
    "(\n",
    "select c.name as name, count(c.name) as num_name\n",
    "from Candidate c\n",
    "inner join Vote v\n",
    "on c.id=v.CandidateId\n",
    "group by c.name\n",
    ") fog\n",
    "order by fog.num_name DESC LIMIT 1;\n"
   ]
  },
  {
   "cell_type": "code",
   "execution_count": null,
   "metadata": {},
   "outputs": [],
   "source": [
    "Not joining tables - totally makes sense\n",
    "\n",
    "select name from Candidate\n",
    "where id=\n",
    "(\n",
    "select CandidateId, count(CandidateId) as num_id from vote\n",
    "group by CandidateId\n",
    "order by num_id DESC\n",
    "LIMIT 1\n",
    ");\n"
   ]
  },
  {
   "cell_type": "code",
   "execution_count": null,
   "metadata": {},
   "outputs": [],
   "source": [
    "I can also write the above query in the following format:\n",
    "    \n",
    "select name from Candidate\n",
    "where id=\n",
    "(\n",
    "select CandidateId from vote\n",
    "group by CandidateId\n",
    "order by count(*) DESC\n",
    "LIMIT 1\n",
    ");\n"
   ]
  }
 ],
 "metadata": {
  "kernelspec": {
   "display_name": "Python 3",
   "language": "python",
   "name": "python3"
  },
  "language_info": {
   "codemirror_mode": {
    "name": "ipython",
    "version": 3
   },
   "file_extension": ".py",
   "mimetype": "text/x-python",
   "name": "python",
   "nbconvert_exporter": "python",
   "pygments_lexer": "ipython3",
   "version": "3.7.4"
  }
 },
 "nbformat": 4,
 "nbformat_minor": 2
}

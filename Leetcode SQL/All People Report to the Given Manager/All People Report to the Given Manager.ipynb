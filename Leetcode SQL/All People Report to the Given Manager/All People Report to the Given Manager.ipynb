{
 "cells": [
  {
   "cell_type": "code",
   "execution_count": null,
   "metadata": {},
   "outputs": [],
   "source": [
    "Table: Employees\n",
    "\n",
    "+---------------+---------+\n",
    "| Column Name   | Type    |\n",
    "+---------------+---------+\n",
    "| employee_id   | int     |\n",
    "| employee_name | varchar |\n",
    "| manager_id    | int     |\n",
    "+---------------+---------+\n",
    "employee_id is the primary key for this table.\n",
    "Each row of this table indicates that the employee with ID employee_id and name employee_name reports his work to \n",
    "his/her direct manager with manager_id\n",
    "\n",
    "The head of the company is the employee with employee_id = 1.\n",
    "\n",
    "Write an SQL query to find employee_id of all employees that directly or indirectly report their work to the head of \n",
    "the company.\n",
    "\n",
    "The indirect relation between managers will not exceed 3 managers as the company is small.\n",
    "\n",
    "Return result table in any order without duplicates.\n",
    "\n",
    "The query result format is in the following example:\n",
    "\n",
    "Employees table:\n",
    "+-------------+---------------+------------+\n",
    "| employee_id | employee_name | manager_id |\n",
    "+-------------+---------------+------------+\n",
    "| 1           | Boss          | 1          |\n",
    "| 3           | Alice         | 3          |\n",
    "| 2           | Bob           | 1          |\n",
    "| 4           | Daniel        | 2          |\n",
    "| 7           | Luis          | 4          |\n",
    "| 8           | Jhon          | 3          |\n",
    "| 9           | Angela        | 8          |\n",
    "| 77          | Robert        | 1          |\n",
    "+-------------+---------------+------------+\n",
    "\n",
    "Result table:\n",
    "+-------------+\n",
    "| employee_id |\n",
    "+-------------+\n",
    "| 2           |\n",
    "| 77          |\n",
    "| 4           |\n",
    "| 7           |\n",
    "+-------------+\n",
    "\n",
    "The head of the company is the employee with employee_id 1.\n",
    "The employees with employee_id 2 and 77 report their work directly to the head of the company.\n",
    "The employee with employee_id 4 report his work indirectly to the head of the company 4 --> 2 --> 1. \n",
    "The employee with employee_id 7 report his work indirectly to the head of the company 7 --> 4 --> 2 --> 1.\n",
    "The employees with employee_id 3, 8 and 9 don't report their work to head of company directly or indirectly. "
   ]
  },
  {
   "cell_type": "code",
   "execution_count": null,
   "metadata": {},
   "outputs": [],
   "source": [
    "select t1.employee_id\n",
    "from Employees as t1 inner join Employees as t2\n",
    "on t1.manager_id = t2.employee_id\n",
    "join Employees as t3\n",
    "on t2.manager_id = t3.employee_id\n",
    "where t3.manager_id = 1 and t1.employee_id != 1 "
   ]
  }
 ],
 "metadata": {
  "kernelspec": {
   "display_name": "Python 3",
   "language": "python",
   "name": "python3"
  },
  "language_info": {
   "codemirror_mode": {
    "name": "ipython",
    "version": 3
   },
   "file_extension": ".py",
   "mimetype": "text/x-python",
   "name": "python",
   "nbconvert_exporter": "python",
   "pygments_lexer": "ipython3",
   "version": "3.7.4"
  }
 },
 "nbformat": 4,
 "nbformat_minor": 2
}

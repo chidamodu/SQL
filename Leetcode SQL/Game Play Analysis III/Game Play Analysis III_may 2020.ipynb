{
 "cells": [
  {
   "cell_type": "code",
   "execution_count": null,
   "metadata": {},
   "outputs": [],
   "source": [
    "Table: Activity\n",
    "\n",
    "+--------------+---------+\n",
    "| Column Name  | Type    |\n",
    "+--------------+---------+\n",
    "| player_id    | int     |\n",
    "| device_id    | int     |\n",
    "| event_date   | date    |\n",
    "| games_played | int     |\n",
    "+--------------+---------+\n",
    "(player_id, event_date) is the primary key of this table.\n",
    "This table shows the activity of players of some game.\n",
    "Each row is a record of a player who logged in and played a number of games (possibly 0) before logging out on some \n",
    "day using some device.\n",
    "Write an SQL query that reports for each player and date, how many games played so far by the player. That is, the \n",
    "total number of games played by the player until that date. Check the example for clarity.\n",
    "\n",
    "The query result format is in the following example:\n",
    "\n",
    "Activity table:\n",
    "+-----------+-----------+------------+--------------+\n",
    "| player_id | device_id | event_date | games_played |\n",
    "+-----------+-----------+------------+--------------+\n",
    "| 1         | 2         | 2016-03-01 | 5            |\n",
    "| 1         | 2         | 2016-05-02 | 6            |\n",
    "| 1         | 3         | 2017-06-25 | 1            |\n",
    "| 3         | 1         | 2016-03-02 | 0            |\n",
    "| 3         | 4         | 2018-07-03 | 5            |\n",
    "+-----------+-----------+------------+--------------+\n",
    "\n",
    "Result table:\n",
    "+-----------+------------+---------------------+\n",
    "| player_id | event_date | games_played_so_far |\n",
    "+-----------+------------+---------------------+\n",
    "| 1         | 2016-03-01 | 5                   |\n",
    "| 1         | 2016-05-02 | 11                  |\n",
    "| 1         | 2017-06-25 | 12                  |\n",
    "| 3         | 2016-03-02 | 0                   |\n",
    "| 3         | 2018-07-03 | 5                   |\n",
    "+-----------+------------+---------------------+\n",
    "For the player with id 1, 5 + 6 = 11 games played by 2016-05-02, and 5 + 6 + 1 = 12 games played by 2017-06-25.\n",
    "For the player with id 3, 0 + 5 = 5 games played by 2018-07-03.\n",
    "Note that for each player we only care about the days when the player logged in."
   ]
  },
  {
   "cell_type": "code",
   "execution_count": null,
   "metadata": {},
   "outputs": [],
   "source": [
    "select t1.player_id, t1.event_date, sum(t2.games_played) as games_played_so_far\n",
    "from Activity as t1 inner join Activity as t2\n",
    "on t1.player_id=t2.player_id\n",
    "where t1.event_date>=t2.event_date\n",
    "group by t1.player_id, t1.event_date;\n",
    "\n"
   ]
  }
 ],
 "metadata": {
  "kernelspec": {
   "display_name": "Python 3",
   "language": "python",
   "name": "python3"
  },
  "language_info": {
   "codemirror_mode": {
    "name": "ipython",
    "version": 3
   },
   "file_extension": ".py",
   "mimetype": "text/x-python",
   "name": "python",
   "nbconvert_exporter": "python",
   "pygments_lexer": "ipython3",
   "version": "3.7.4"
  }
 },
 "nbformat": 4,
 "nbformat_minor": 2
}

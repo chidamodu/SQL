{
 "cells": [
  {
   "cell_type": "code",
   "execution_count": null,
   "metadata": {},
   "outputs": [],
   "source": [
    "Table point_2d holds the coordinates (x,y) of some unique points (more than two) in a plane.\n",
    " \n",
    "\n",
    "Write a query to find the shortest distance between these points rounded to 2 decimals. \n",
    "\n",
    "| x  | y  |\n",
    "|----|----|\n",
    "| -1 | -1 |\n",
    "| 0  | 0  |\n",
    "| -1 | -2 |\n",
    " \n",
    "\n",
    "The shortest distance is 1.00 from point (-1,-1) to (-1,2). So the output should be: \n",
    "\n",
    "| shortest |\n",
    "|----------|\n",
    "| 1.00     |\n",
    " \n",
    "\n",
    "Note: The longest distance among all the points are less than 10000."
   ]
  },
  {
   "cell_type": "code",
   "execution_count": null,
   "metadata": {},
   "outputs": [],
   "source": [
    "Using MIN\n",
    "\n",
    "select ROUND(SQRT(MIN(POW((p.x-q.x), 2)+POW((p.y-q.y), 2))), 2) AS shortest\n",
    "from point_2d p\n",
    "join\n",
    "point_2d q\n",
    "on p.x!=q.x and p.y!=q.y;\n"
   ]
  },
  {
   "cell_type": "code",
   "execution_count": null,
   "metadata": {},
   "outputs": [],
   "source": [
    "Another alternative solution without using MIN\n",
    "\n",
    "select fog.shortest as shortest\n",
    "(\n",
    "select ROUND(SQRT(POW((p.x-q.x), 2)+POW((p.y-q.y), 2)), 2) AS shortest\n",
    "from point_2d p\n",
    "join\n",
    "point_2d q\n",
    "on p.x!=q.x and p.y!=q.y;\n",
    ") fog\n",
    "order by fog.shortest\n",
    "limit 1;"
   ]
  }
 ],
 "metadata": {
  "kernelspec": {
   "display_name": "Python 3",
   "language": "python",
   "name": "python3"
  },
  "language_info": {
   "codemirror_mode": {
    "name": "ipython",
    "version": 3
   },
   "file_extension": ".py",
   "mimetype": "text/x-python",
   "name": "python",
   "nbconvert_exporter": "python",
   "pygments_lexer": "ipython3",
   "version": "3.7.4"
  }
 },
 "nbformat": 4,
 "nbformat_minor": 2
}

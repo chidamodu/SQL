{
 "cells": [
  {
   "cell_type": "code",
   "execution_count": null,
   "metadata": {},
   "outputs": [],
   "source": [
    "Alternative Solution 1\n",
    "\n",
    "select sum(TIV_2016) TIV_2016\n",
    "from insurance\n",
    "where TIV_2015 in (select TIV_2015 from insurance group by TIV_2015 having count(1)>1)\n",
    "and (lat, lon) in (select lat, lon from insurance group by lat, lon having count(1)=1);"
   ]
  }
 ],
 "metadata": {
  "kernelspec": {
   "display_name": "Python 3",
   "language": "python",
   "name": "python3"
  },
  "language_info": {
   "codemirror_mode": {
    "name": "ipython",
    "version": 3
   },
   "file_extension": ".py",
   "mimetype": "text/x-python",
   "name": "python",
   "nbconvert_exporter": "python",
   "pygments_lexer": "ipython3",
   "version": "3.7.4"
  }
 },
 "nbformat": 4,
 "nbformat_minor": 2
}

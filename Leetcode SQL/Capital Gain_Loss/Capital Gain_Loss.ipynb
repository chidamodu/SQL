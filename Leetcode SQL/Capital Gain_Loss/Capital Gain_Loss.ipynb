{
 "cells": [
  {
   "cell_type": "code",
   "execution_count": null,
   "metadata": {},
   "outputs": [],
   "source": [
    "Table: Stocks\n",
    "+---------------+---------+\n",
    "| Column Name   | Type    |\n",
    "+---------------+---------+\n",
    "| stock_name    | varchar |\n",
    "| operation     | enum    |\n",
    "| operation_day | int     |\n",
    "| price         | int     |\n",
    "+---------------+---------+\n",
    "(stock_name, day) is the primary key for this table.\n",
    "The operation column is an ENUM of type ('Sell', 'Buy')\n",
    "Each row of this table indicates that the stock which has stock_name had an operation on the day operation_day with the price.\n",
    "It is guaranteed that each 'Sell' operation for a stock has a corresponding 'Buy' operation in a previous day.\n",
    "Write an SQL query to report the Capital gain/loss for each stock.\n",
    "\n",
    "The capital gain/loss of a stock is total gain or loss after buying and selling the stock one or many times.\n",
    "\n",
    "Return the result table in any order.\n",
    "\n",
    "The query result format is in the following example:\n",
    "\n",
    "Stocks table:\n",
    "+---------------+-----------+---------------+--------+\n",
    "| stock_name    | operation | operation_day | price  |\n",
    "+---------------+-----------+---------------+--------+\n",
    "| Leetcode      | Buy       | 1             | 1000   |\n",
    "| Corona Masks  | Buy       | 2             | 10     |\n",
    "| Leetcode      | Sell      | 5             | 9000   |\n",
    "| Handbags      | Buy       | 17            | 30000  |\n",
    "| Corona Masks  | Sell      | 3             | 1010   |\n",
    "| Corona Masks  | Buy       | 4             | 1000   |\n",
    "| Corona Masks  | Sell      | 5             | 500    |\n",
    "| Corona Masks  | Buy       | 6             | 1000   |\n",
    "| Handbags      | Sell      | 29            | 7000   |\n",
    "| Corona Masks  | Sell      | 10            | 10000  |\n",
    "+---------------+-----------+---------------+--------+\n",
    "\n",
    "Result table:\n",
    "+---------------+-------------------+\n",
    "| stock_name    | capital_gain_loss |\n",
    "+---------------+-------------------+\n",
    "| Corona Masks  | 9500              |\n",
    "| Leetcode      | 8000              |\n",
    "| Handbags      | -23000            |\n",
    "+---------------+-------------------+\n",
    "Leetcode stock was bought at day 1 for 1000$ and was sold at day 5 for 9000$. Capital gain = 9000 - 1000 = 8000$.\n",
    "Handbags stock was bought at day 17 for 30000$ and was sold at day 29 for 7000$. Capital loss = 7000 - 30000 = -23000$.\n",
    "Corona Masks stock was bought at day 1 for 10$ and was sold at day 3 for 1010$. It was bought again at day 4 for 1000$ \n",
    "and was sold at day 5 for 500$. At last, it was bought at day 6 for 1000$ and was sold at day 10 for 10000$. \n",
    "Capital gain/loss is the sum of capital gains/losses for each ('Buy' --> 'Sell') \n",
    "operation = (1010 - 10) + (500 - 1000) + (10000 - 1000) = 1000 - 500 + 9000 = 9500$."
   ]
  },
  {
   "cell_type": "code",
   "execution_count": null,
   "metadata": {},
   "outputs": [],
   "source": [
    "\n",
    "select stock_name, sum(case when operation=\"Buy\" then -price else price end) as capital_gain_loss\n",
    "from Stocks\n",
    "group by stock_name;\n"
   ]
  }
 ],
 "metadata": {
  "kernelspec": {
   "display_name": "Python 3",
   "language": "python",
   "name": "python3"
  },
  "language_info": {
   "codemirror_mode": {
    "name": "ipython",
    "version": 3
   },
   "file_extension": ".py",
   "mimetype": "text/x-python",
   "name": "python",
   "nbconvert_exporter": "python",
   "pygments_lexer": "ipython3",
   "version": "3.7.4"
  }
 },
 "nbformat": 4,
 "nbformat_minor": 2
}

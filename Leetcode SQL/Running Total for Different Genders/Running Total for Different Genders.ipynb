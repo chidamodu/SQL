{
 "cells": [
  {
   "cell_type": "code",
   "execution_count": null,
   "metadata": {},
   "outputs": [],
   "source": [
    "Table: Scores\n",
    "+---------------+---------+\n",
    "| Column Name   | Type    |\n",
    "+---------------+---------+\n",
    "| player_name   | varchar |\n",
    "| gender        | varchar |\n",
    "| day           | date    |\n",
    "| score_points  | int     |\n",
    "+---------------+---------+\n",
    "(gender, day) is the primary key for this table.\n",
    "A competition is held between females team and males team.\n",
    "Each row of this table indicates that a player_name and with gender has scored score_point in someday.\n",
    "Gender is 'F' if the player is in females team and 'M' if the player is in males team.\n",
    "Write an SQL query to find the total score for each gender at each day.\n",
    "\n",
    "Order the result table by gender and day\n",
    "\n",
    "The query result format is in the following example:\n",
    "\n",
    "Scores table:\n",
    "+-------------+--------+------------+--------------+\n",
    "| player_name | gender | day        | score_points |\n",
    "+-------------+--------+------------+--------------+\n",
    "| Aron        | F      | 2020-01-01 | 17           |\n",
    "| Alice       | F      | 2020-01-07 | 23           |\n",
    "| Bajrang     | M      | 2020-01-07 | 7            |\n",
    "| Khali       | M      | 2019-12-25 | 11           |\n",
    "| Slaman      | M      | 2019-12-30 | 13           |\n",
    "| Joe         | M      | 2019-12-31 | 3            |\n",
    "| Jose        | M      | 2019-12-18 | 2            |\n",
    "| Priya       | F      | 2019-12-31 | 23           |\n",
    "| Priyanka    | F      | 2019-12-30 | 17           |\n",
    "+-------------+--------+------------+--------------+\n",
    "\n",
    "Result table:\n",
    "+--------+------------+-------+\n",
    "| gender | day        | total |\n",
    "+--------+------------+-------+\n",
    "| F      | 2019-12-30 | 17    |\n",
    "| F      | 2019-12-31 | 40    |\n",
    "| F      | 2020-01-01 | 57    |\n",
    "| F      | 2020-01-07 | 80    |\n",
    "| M      | 2019-12-18 | 2     |\n",
    "| M      | 2019-12-25 | 13    |\n",
    "| M      | 2019-12-30 | 26    |\n",
    "| M      | 2019-12-31 | 29    |\n",
    "| M      | 2020-01-07 | 36    |\n",
    "+--------+------------+-------+\n",
    "\n",
    "For females team:\n",
    "First day is 2019-12-30, Priyanka scored 17 points and the total score for the team is 17.\n",
    "Second day is 2019-12-31, Priya scored 23 points and the total score for the team is 40.\n",
    "Third day is 2020-01-01, Aron scored 17 points and the total score for the team is 57.\n",
    "Fourth day is 2020-01-07, Alice scored 23 points and the total score for the team is 80.\n",
    "For males team:\n",
    "First day is 2019-12-18, Jose scored 2 points and the total score for the team is 2.\n",
    "Second day is 2019-12-25, Khali scored 11 points and the total score for the team is 13.\n",
    "Third day is 2019-12-30, Slaman scored 13 points and the total score for the team is 26.\n",
    "Fourth day is 2019-12-31, Joe scored 3 points and the total score for the team is 29.\n",
    "Fifth day is 2020-01-07, Bajrang scored 7 points and the total score for the team is 36."
   ]
  },
  {
   "cell_type": "code",
   "execution_count": null,
   "metadata": {},
   "outputs": [],
   "source": [
    "select t1.gender, t1.day, sum(t2.score_points) as total\n",
    "from Scores as t1 inner join Scores as t2\n",
    "on t1.gender = t2.gender\n",
    "and t1.day>=t2.day\n",
    "group by t1.gender, t1.day"
   ]
  }
 ],
 "metadata": {
  "kernelspec": {
   "display_name": "Python 3",
   "language": "python",
   "name": "python3"
  },
  "language_info": {
   "codemirror_mode": {
    "name": "ipython",
    "version": 3
   },
   "file_extension": ".py",
   "mimetype": "text/x-python",
   "name": "python",
   "nbconvert_exporter": "python",
   "pygments_lexer": "ipython3",
   "version": "3.7.4"
  }
 },
 "nbformat": 4,
 "nbformat_minor": 2
}

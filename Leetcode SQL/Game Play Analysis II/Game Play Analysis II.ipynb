{
 "cells": [
  {
   "cell_type": "code",
   "execution_count": null,
   "metadata": {},
   "outputs": [],
   "source": [
    "Table: Activity\n",
    "\n",
    "+--------------+---------+\n",
    "| Column Name  | Type    |\n",
    "+--------------+---------+\n",
    "| player_id    | int     |\n",
    "| device_id    | int     |\n",
    "| event_date   | date    |\n",
    "| games_played | int     |\n",
    "+--------------+---------+\n",
    "(player_id, event_date) is the primary key of this table.\n",
    "This table shows the activity of players of some game.\n",
    "Each row is a record of a player who logged in and played a number of games (possibly 0) before logging out on some day using some device.\n",
    "Write a SQL query that reports the device that is first logged in for each player.\n",
    "\n",
    "The query result format is in the following example:\n",
    "\n",
    "Activity table:\n",
    "+-----------+-----------+------------+--------------+\n",
    "| player_id | device_id | event_date | games_played |\n",
    "+-----------+-----------+------------+--------------+\n",
    "| 1         | 2         | 2016-03-01 | 5            |\n",
    "| 1         | 2         | 2016-05-02 | 6            |\n",
    "| 2         | 3         | 2017-06-25 | 1            |\n",
    "| 3         | 1         | 2016-03-02 | 0            |\n",
    "| 3         | 4         | 2018-07-03 | 5            |\n",
    "+-----------+-----------+------------+--------------+\n",
    "\n",
    "Result table:\n",
    "+-----------+-----------+\n",
    "| player_id | device_id |\n",
    "+-----------+-----------+\n",
    "| 1         | 2         |\n",
    "| 2         | 3         |\n",
    "| 3         | 1         |\n",
    "+-----------+-----------+\n"
   ]
  },
  {
   "cell_type": "code",
   "execution_count": null,
   "metadata": {},
   "outputs": [],
   "source": [
    "select distinct(player_id) as player_id, device_id\n",
    "from activity\n",
    "where (player_id, event_date) in\n",
    "(\n",
    "select player_id, min(event_date)\n",
    "from activity\n",
    "group by player_id\n",
    ") fog;"
   ]
  }
 ],
 "metadata": {
  "kernelspec": {
   "display_name": "Python 3",
   "language": "python",
   "name": "python3"
  },
  "language_info": {
   "codemirror_mode": {
    "name": "ipython",
    "version": 3
   },
   "file_extension": ".py",
   "mimetype": "text/x-python",
   "name": "python",
   "nbconvert_exporter": "python",
   "pygments_lexer": "ipython3",
   "version": "3.7.4"
  }
 },
 "nbformat": 4,
 "nbformat_minor": 2
}

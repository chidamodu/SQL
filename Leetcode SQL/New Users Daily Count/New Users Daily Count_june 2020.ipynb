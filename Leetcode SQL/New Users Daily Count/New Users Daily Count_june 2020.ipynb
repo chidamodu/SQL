{
 "cells": [
  {
   "cell_type": "code",
   "execution_count": null,
   "metadata": {},
   "outputs": [],
   "source": [
    "Table: Traffic\n",
    "+---------------+---------+\n",
    "| Column Name   | Type    |\n",
    "+---------------+---------+\n",
    "| user_id       | int     |\n",
    "| activity      | enum    |\n",
    "| activity_date | date    |\n",
    "+---------------+---------+\n",
    "There is no primary key for this table, it may have duplicate rows.\n",
    "The activity column is an ENUM type of ('login', 'logout', 'jobs', 'groups', 'homepage').\n",
    "\n",
    "Write an SQL query that reports for every date within at most 90 days from today, the number of users that logged in \n",
    "for the first time on that date. Assume today is 2019-06-30.\n",
    "\n",
    "The query result format is in the following example:\n",
    "\n",
    "Traffic table:\n",
    "+---------+----------+---------------+\n",
    "| user_id | activity | activity_date |\n",
    "+---------+----------+---------------+\n",
    "| 1       | login    | 2019-05-01    |\n",
    "| 1       | homepage | 2019-05-01    |\n",
    "| 1       | logout   | 2019-05-01    |\n",
    "| 2       | login    | 2019-06-21    |\n",
    "| 2       | logout   | 2019-06-21    |\n",
    "| 3       | login    | 2019-01-01    |\n",
    "| 3       | jobs     | 2019-01-01    |\n",
    "| 3       | logout   | 2019-01-01    |\n",
    "| 4       | login    | 2019-06-21    |\n",
    "| 4       | groups   | 2019-06-21    |\n",
    "| 4       | logout   | 2019-06-21    |\n",
    "| 5       | login    | 2019-03-01    |\n",
    "| 5       | logout   | 2019-03-01    |\n",
    "| 5       | login    | 2019-06-21    |\n",
    "| 5       | logout   | 2019-06-21    |\n",
    "+---------+----------+---------------+\n",
    "\n",
    "Result table:\n",
    "+------------+-------------+\n",
    "| login_date | user_count  |\n",
    "+------------+-------------+\n",
    "| 2019-05-01 | 1           |\n",
    "| 2019-06-21 | 2           |\n",
    "+------------+-------------+\n",
    "\n",
    "Note that we only care about dates with non zero user count.\n",
    "The user with id 5 first logged in on 2019-03-01 so he's not counted on 2019-06-21."
   ]
  },
  {
   "cell_type": "code",
   "execution_count": null,
   "metadata": {},
   "outputs": [],
   "source": [
    "\n",
    "select fog.logdate as login_date, count(fog.user_id) as user_count\n",
    "from \n",
    "(\n",
    "select user_id, min(activity_date) as logdate\n",
    "from traffic\n",
    "where activity=\"login\"\n",
    "group by user_id\n",
    ") fog\n",
    "where fog.logdate >= DATE_SUB(\"2019-06-30\", INTERVAL 90 DAY) and fog.logdate <= \"2019-06-30\"\n",
    "group by fog.logdate;\n",
    "\n",
    "\n"
   ]
  }
 ],
 "metadata": {
  "kernelspec": {
   "display_name": "Python 3",
   "language": "python",
   "name": "python3"
  },
  "language_info": {
   "codemirror_mode": {
    "name": "ipython",
    "version": 3
   },
   "file_extension": ".py",
   "mimetype": "text/x-python",
   "name": "python",
   "nbconvert_exporter": "python",
   "pygments_lexer": "ipython3",
   "version": "3.7.4"
  }
 },
 "nbformat": 4,
 "nbformat_minor": 2
}

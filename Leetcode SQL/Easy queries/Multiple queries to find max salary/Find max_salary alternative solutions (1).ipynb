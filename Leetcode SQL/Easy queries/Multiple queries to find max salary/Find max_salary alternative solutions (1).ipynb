{
 "cells": [
  {
   "cell_type": "code",
   "execution_count": null,
   "metadata": {},
   "outputs": [],
   "source": [
    "\n",
    "Emp_id\tEmp_First_name\tEmp_Last_Name\tDept_id\tDate_of_joining\tSalary\n",
    "12345\tAniket\tKumar\t123\t1/1/2019\t10000\n",
    "23456\tDurganath\tGijupalli\t234\t2/1/2020\t20000\n",
    "34567\tPavan\tRavuri\t345\t3/1/2020\t30000\n",
    "45678\tSrinivas\tMaddamsetty\t456\t4/1/2020\t35000\n",
    "56789\tSunil\tsurapaneni\t123\t5/1/2018\t40000\n",
    "67890\tSrikanth\tmandava\t678\t6/1/2020\t45000\n",
    "78901\tMallikarjun\tMavaluru\t789\t7/1/2020\t50000\n",
    "89012\tChandra\tNakka\t456\t8/1/2020\t55000\n",
    "90123\tKalyan\tBhavanasi\t901\t9/1/2020\t60000\n",
    "\t\t\t\t\t\n",
    "\t\t\t\t\t\n",
    "        \n",
    "        \n",
    "Dept_Id\tDept_name\t\t\t\t\n",
    "123\tChemistry\t\t\t\t\n",
    "234\tPhysics\t\t\t\t\n",
    "345\tMathematics\t\t\t\t\n",
    "456\tEnglish\t\t\t\t\n",
    "567\tComputers & science\t\t\t\t\n",
    "678\tEconomics\t\t\t\t\n",
    "789\tLegal\t\t\t\t\n",
    "890\tScience\t\t\t\t\n",
    "901\tSpanish\t\t\t\t\n",
    "124\tLatin\t\t\t\t\n",
    " \n"
   ]
  },
  {
   "cell_type": "code",
   "execution_count": null,
   "metadata": {},
   "outputs": [],
   "source": [
    "1.To find employee with the max salary\n",
    "\n",
    "select Emp_First_name from Employee\n",
    "group by dept_name\n",
    "order by salary desc limit 1;\n",
    "\n"
   ]
  },
  {
   "cell_type": "code",
   "execution_count": null,
   "metadata": {},
   "outputs": [],
   "source": [
    "2. To find employees with top three salaries\n",
    "\n",
    "select Emp_First_name from Employee\n",
    "group by dept_name\n",
    "order by salary desc limit 3;\n"
   ]
  },
  {
   "cell_type": "code",
   "execution_count": null,
   "metadata": {},
   "outputs": [],
   "source": [
    "3. To find employee with the max salary instead of using order by and limit:\n",
    "    \n",
    "select Emp_First_name, dense_rank over (partition by dept_name order by salary desc) as rank\n",
    "from Employee\n",
    "where rank=1;\n"
   ]
  },
  {
   "cell_type": "code",
   "execution_count": null,
   "metadata": {},
   "outputs": [],
   "source": [
    "4. To find employees with top three salaries instead of using order by and limit:\n",
    "    \n",
    "with cte1 as \n",
    "(\n",
    "Select emp_name, dense_rank over (partition by dept_name order by salary desc) as rank\n",
    "from Employee\n",
    ")\n",
    "\n",
    "Select emp_name as name\n",
    "From cte1\n",
    "Where rank <=3;\n"
   ]
  },
  {
   "cell_type": "code",
   "execution_count": null,
   "metadata": {},
   "outputs": [],
   "source": [
    "5. Max salary per department\n",
    "\n",
    "\n",
    "select emp_id, emp_name, fog.dept_name\n",
    "from table1\n",
    "where (dept_id, salary) in\n",
    "\n",
    "(\n",
    "select dept_name, dept_id, max(salary) \n",
    "from table1 \n",
    "inner join table2\n",
    "using dept_id\n",
    "group by dept_name\n",
    ") fog;\n",
    "\n",
    "\n",
    "\n"
   ]
  },
  {
   "cell_type": "code",
   "execution_count": null,
   "metadata": {},
   "outputs": [],
   "source": [
    "6. What are some of the ways to select distinct records from a table?\n",
    "1.Select distinct\n",
    "2.Select distinct by selecting duplicates in a subquery and checking the distinct ids are not in the duplicates\n",
    "3.Union – return distinct values\n"
   ]
  }
 ],
 "metadata": {
  "kernelspec": {
   "display_name": "Python 3",
   "language": "python",
   "name": "python3"
  },
  "language_info": {
   "codemirror_mode": {
    "name": "ipython",
    "version": 3
   },
   "file_extension": ".py",
   "mimetype": "text/x-python",
   "name": "python",
   "nbconvert_exporter": "python",
   "pygments_lexer": "ipython3",
   "version": "3.7.4"
  }
 },
 "nbformat": 4,
 "nbformat_minor": 2
}

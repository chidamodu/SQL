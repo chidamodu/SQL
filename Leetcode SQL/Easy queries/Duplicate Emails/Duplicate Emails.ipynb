{
 "cells": [
  {
   "cell_type": "code",
   "execution_count": null,
   "metadata": {},
   "outputs": [],
   "source": [
    "Write a SQL query to find all duplicate emails in a table named Person.\n",
    "+----+---------+\n",
    "| Id | Email   |\n",
    "+----+---------+\n",
    "| 1  | a@b.com |\n",
    "| 2  | c@d.com |\n",
    "| 3  | a@b.com |\n",
    "+----+---------+\n",
    "\n",
    "For example, your query should return the following for the above table:\n",
    "+---------+\n",
    "| Email   |\n",
    "+---------+\n",
    "| a@b.com |\n",
    "+---------+\n",
    "Note: All emails are in lowercase."
   ]
  },
  {
   "cell_type": "code",
   "execution_count": null,
   "metadata": {},
   "outputs": [],
   "source": [
    "\n",
    "\n",
    "select Email from \n",
    "(\n",
    "select Email, count(*) as total\n",
    "from Person\n",
    "group by Email\n",
    ") fog\n",
    "where fog.total>1;\n",
    "\n",
    "result:\n",
    "Runtime: 273 ms, faster than 95.24% of MySQL online submissions for Duplicate Emails.\n",
    "Memory Usage: 0B, less than 100.00% of MySQL online submissions for Duplicate Emails."
   ]
  }
 ],
 "metadata": {
  "kernelspec": {
   "display_name": "Python 3",
   "language": "python",
   "name": "python3"
  },
  "language_info": {
   "codemirror_mode": {
    "name": "ipython",
    "version": 3
   },
   "file_extension": ".py",
   "mimetype": "text/x-python",
   "name": "python",
   "nbconvert_exporter": "python",
   "pygments_lexer": "ipython3",
   "version": "3.7.4"
  }
 },
 "nbformat": 4,
 "nbformat_minor": 2
}

{
 "cells": [
  {
   "cell_type": "code",
   "execution_count": null,
   "metadata": {},
   "outputs": [],
   "source": [
    "Write a SQL query to get the second highest salary from the Employee table.\n",
    "+----+--------+\n",
    "| Id | Salary |\n",
    "+----+--------+\n",
    "| 1  | 100    |\n",
    "| 2  | 200    |\n",
    "| 3  | 300    |\n",
    "+----+--------+\n",
    "\n",
    "For example, given the above Employee table, the query should return 200 as the second highest salary. If there is no \n",
    "second highest salary, then the query should return null.\n",
    "+---------------------+\n",
    "| SecondHighestSalary |\n",
    "+---------------------+\n",
    "| 200                 |\n",
    "+---------------------+"
   ]
  },
  {
   "cell_type": "code",
   "execution_count": null,
   "metadata": {},
   "outputs": [],
   "source": [
    "Specifically asking to return null\n",
    "\n",
    "SELECT\n",
    "    IFNULL(\n",
    "      (SELECT DISTINCT Salary\n",
    "       FROM Employee\n",
    "       ORDER BY Salary DESC\n",
    "        LIMIT 1 OFFSET 1),\n",
    "    NULL) AS SecondHighestSalary\n",
    "\n"
   ]
  },
  {
   "cell_type": "code",
   "execution_count": null,
   "metadata": {},
   "outputs": [],
   "source": [
    "Here select statement return null\n",
    "\n",
    "select MIN(Salary) AS SecondHighestSalary\n",
    "from \n",
    "(\n",
    "SELECT Salary FROM Employee\n",
    "order by Salary DESC LIMIT 2\n",
    ") fog;\n",
    "\n",
    "NULL indicates that there was something to be SELECTed, although that value indicates a \"lack of value\" so to speak. \n",
    "An empty recordset indicates that there was nothing to be selected that matched the criteria specified.\n",
    "\n"
   ]
  }
 ],
 "metadata": {
  "kernelspec": {
   "display_name": "Python 3",
   "language": "python",
   "name": "python3"
  },
  "language_info": {
   "codemirror_mode": {
    "name": "ipython",
    "version": 3
   },
   "file_extension": ".py",
   "mimetype": "text/x-python",
   "name": "python",
   "nbconvert_exporter": "python",
   "pygments_lexer": "ipython3",
   "version": "3.7.4"
  }
 },
 "nbformat": 4,
 "nbformat_minor": 2
}

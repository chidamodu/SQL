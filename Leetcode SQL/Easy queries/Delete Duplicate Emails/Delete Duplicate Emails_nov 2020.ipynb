{
 "cells": [
  {
   "cell_type": "code",
   "execution_count": null,
   "metadata": {},
   "outputs": [],
   "source": [
    "Write a SQL query to delete all duplicate email entries in a table named Person, keeping only unique emails based on \n",
    "its smallest Id.\n",
    "\n",
    "+----+------------------+\n",
    "| Id | Email            |\n",
    "+----+------------------+\n",
    "| 1  | john@example.com |\n",
    "| 2  | bob@example.com  |\n",
    "| 3  | john@example.com |\n",
    "+----+------------------+\n",
    "Id is the primary key column for this table.\n",
    "For example, after running your query, the above Person table should have the following rows:\n",
    "\n",
    "+----+------------------+\n",
    "| Id | Email            |\n",
    "+----+------------------+\n",
    "| 1  | john@example.com |\n",
    "| 2  | bob@example.com  |\n",
    "+----+------------------+\n",
    "Note:\n",
    "\n",
    "Your output is the whole Person table after executing your sql. Use delete statement.\n",
    "\n"
   ]
  },
  {
   "cell_type": "code",
   "execution_count": null,
   "metadata": {},
   "outputs": [],
   "source": [
    "delete from person where id in \n",
    "\n",
    "(select id from\n",
    " (\n",
    "select p2.id as id\n",
    "from person as p1, person as p2\n",
    "where p1.email=p2.email and p1.id < p2.id\n",
    " ) fog\n",
    "\n",
    ")"
   ]
  }
 ],
 "metadata": {
  "kernelspec": {
   "display_name": "Python 3",
   "language": "python",
   "name": "python3"
  },
  "language_info": {
   "codemirror_mode": {
    "name": "ipython",
    "version": 3
   },
   "file_extension": ".py",
   "mimetype": "text/x-python",
   "name": "python",
   "nbconvert_exporter": "python",
   "pygments_lexer": "ipython3",
   "version": "3.7.4"
  }
 },
 "nbformat": 4,
 "nbformat_minor": 2
}

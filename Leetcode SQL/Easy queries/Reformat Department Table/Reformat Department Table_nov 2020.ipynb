{
 "cells": [
  {
   "cell_type": "code",
   "execution_count": null,
   "metadata": {},
   "outputs": [],
   "source": [
    "Table: Department\n",
    "+---------------+---------+\n",
    "| Column Name   | Type    |\n",
    "+---------------+---------+\n",
    "| id            | int     |\n",
    "| revenue       | int     |\n",
    "| month         | varchar |\n",
    "+---------------+---------+\n",
    "(id, month) is the primary key of this table.\n",
    "The table has information about the revenue of each department per month.\n",
    "\n",
    "The month has values in [\"Jan\",\"Feb\",\"Mar\",\"Apr\",\"May\",\"Jun\",\"Jul\",\"Aug\",\"Sep\",\"Oct\",\"Nov\",\"Dec\"].\n",
    " \n",
    "Write an SQL query to reformat the table such that there is a department id column and a revenue column for \n",
    "each month.\n",
    "\n",
    "The query result format is in the following example:\n",
    "\n",
    "Department table:\n",
    "+------+---------+-------+\n",
    "| id   | revenue | month |\n",
    "+------+---------+-------+\n",
    "| 1    | 8000    | Jan   |\n",
    "| 2    | 9000    | Jan   |\n",
    "| 3    | 10000   | Feb   |\n",
    "| 1    | 7000    | Feb   |\n",
    "| 1    | 6000    | Mar   |\n",
    "+------+---------+-------+\n",
    "\n",
    "Result table:\n",
    "+------+-------------+-------------+-------------+-----+-------------+\n",
    "| id   | Jan_Revenue | Feb_Revenue | Mar_Revenue | ... | Dec_Revenue |\n",
    "+------+-------------+-------------+-------------+-----+-------------+\n",
    "| 1    | 8000        | 7000        | 6000        | ... | null        |\n",
    "| 2    | 9000        | null        | null        | ... | null        |\n",
    "| 3    | null        | 10000       | null        | ... | null        |\n",
    "+------+-------------+-------------+-------------+-----+-------------+\n",
    "\n",
    "Note that the result table has 13 columns (1 for the department id + 12 for the months)"
   ]
  },
  {
   "cell_type": "code",
   "execution_count": null,
   "metadata": {},
   "outputs": [],
   "source": [
    "SELECT d.id,\n",
    "SUM(CASE WHEN d.month = 'Jan' THEN d.revenue END) AS Jan_Revenue,\n",
    "SUM(CASE WHEN d.month = 'Feb' THEN d.revenue END) AS Feb_Revenue,\n",
    "SUM(CASE WHEN d.month = 'Mar' THEN d.revenue END) AS Mar_Revenue,\n",
    "SUM(CASE WHEN d.month = 'Apr' THEN d.revenue END) AS Apr_Revenue,\n",
    "SUM(CASE WHEN d.month = 'May' THEN d.revenue END) AS May_Revenue,\n",
    "SUM(CASE WHEN d.month = 'Jun' THEN d.revenue END) AS Jun_Revenue,\n",
    "SUM(CASE WHEN d.month = 'Jul' THEN d.revenue END) AS Jul_Revenue,\n",
    "SUM(CASE WHEN d.month = 'Aug' THEN d.revenue END) AS Aug_Revenue,\n",
    "SUM(CASE WHEN d.month = 'Sep' THEN d.revenue END) AS Sep_Revenue,\n",
    "SUM(CASE WHEN d.month = 'Oct' THEN d.revenue END) AS Oct_Revenue,\n",
    "SUM(CASE WHEN d.month = 'Nov' THEN d.revenue END) AS Nov_Revenue,\n",
    "SUM(CASE WHEN d.month = 'Dec' THEN d.revenue END) AS Dec_Revenue\n",
    "FROM Department d\n",
    "GROUP BY d.id;"
   ]
  }
 ],
 "metadata": {
  "kernelspec": {
   "display_name": "Python 3",
   "language": "python",
   "name": "python3"
  },
  "language_info": {
   "codemirror_mode": {
    "name": "ipython",
    "version": 3
   },
   "file_extension": ".py",
   "mimetype": "text/x-python",
   "name": "python",
   "nbconvert_exporter": "python",
   "pygments_lexer": "ipython3",
   "version": "3.7.4"
  }
 },
 "nbformat": 4,
 "nbformat_minor": 2
}

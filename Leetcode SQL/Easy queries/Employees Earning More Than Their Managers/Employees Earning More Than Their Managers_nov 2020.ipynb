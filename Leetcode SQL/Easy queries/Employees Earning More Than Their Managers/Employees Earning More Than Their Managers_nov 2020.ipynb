{
 "cells": [
  {
   "cell_type": "code",
   "execution_count": null,
   "metadata": {},
   "outputs": [],
   "source": [
    "The Employee table holds all employees including their managers. Every employee has an Id, and there is also a column \n",
    "for the manager Id.\n",
    "\n",
    "+----+-------+--------+-----------+\n",
    "| Id | Name  | Salary | ManagerId |\n",
    "+----+-------+--------+-----------+\n",
    "| 1  | Joe   | 70000  | 3         |\n",
    "| 2  | Henry | 80000  | 4         |\n",
    "| 3  | Sam   | 60000  | NULL      |\n",
    "| 4  | Max   | 90000  | NULL      |\n",
    "+----+-------+--------+-----------+\n",
    "\n",
    "Given the Employee table, write a SQL query that finds out employees who earn more than their managers. For the above \n",
    "table, Joe is the only employee who earns more than his manager.\n",
    "\n",
    "+----------+\n",
    "| Employee |\n",
    "+----------+\n",
    "| Joe      |\n",
    "+----------+\n"
   ]
  },
  {
   "cell_type": "code",
   "execution_count": null,
   "metadata": {},
   "outputs": [],
   "source": [
    "This is redundant and therefore the solution is in the cell below\n",
    "\n",
    "select name from employee e\n",
    "join\n",
    "\n",
    "(\n",
    "select Id, Name, Salary\n",
    "from employee e1, e2\n",
    "where e1.Id=e2.ManagerId\n",
    ") fog\n",
    "\n",
    "on e.ManagerId=fog.Id\n",
    "where e.Salary>fog.Salary;\n",
    "\n"
   ]
  },
  {
   "cell_type": "code",
   "execution_count": null,
   "metadata": {},
   "outputs": [],
   "source": [
    "\n",
    "select e2.name as Employee\n",
    "from employee e1\n",
    "join employee e2\n",
    "on e1.id = e2.managerid\n",
    "where e2.salary > e1.salary;\n"
   ]
  }
 ],
 "metadata": {
  "kernelspec": {
   "display_name": "Python 3",
   "language": "python",
   "name": "python3"
  },
  "language_info": {
   "codemirror_mode": {
    "name": "ipython",
    "version": 3
   },
   "file_extension": ".py",
   "mimetype": "text/x-python",
   "name": "python",
   "nbconvert_exporter": "python",
   "pygments_lexer": "ipython3",
   "version": "3.7.4"
  }
 },
 "nbformat": 4,
 "nbformat_minor": 2
}

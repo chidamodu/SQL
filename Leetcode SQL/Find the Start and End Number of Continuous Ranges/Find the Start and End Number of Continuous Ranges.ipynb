{
 "cells": [
  {
   "cell_type": "code",
   "execution_count": null,
   "metadata": {},
   "outputs": [],
   "source": [
    "Table: Logs\n",
    "+---------------+---------+\n",
    "| Column Name   | Type    |\n",
    "+---------------+---------+\n",
    "| log_id        | int     |\n",
    "+---------------+---------+\n",
    "id is the primary key for this table.\n",
    "Each row of this table contains the ID in a log Table.\n",
    "Since some IDs have been removed from Logs. Write an SQL query to find the start and end number of continuous ranges \n",
    "in table Logs.\n",
    "\n",
    "Order the result table by start_id.\n",
    "\n",
    "The query result format is in the following example:\n",
    "\n",
    "Logs table:\n",
    "+------------+\n",
    "| log_id     |\n",
    "+------------+\n",
    "| 1          |\n",
    "| 2          |\n",
    "| 3          |\n",
    "| 7          |\n",
    "| 8          |\n",
    "| 10         |\n",
    "+------------+\n",
    "\n",
    "Result table:\n",
    "+------------+--------------+\n",
    "| start_id   | end_id       |\n",
    "+------------+--------------+\n",
    "| 1          | 3            |\n",
    "| 7          | 8            |\n",
    "| 10         | 10           |\n",
    "+------------+--------------+\n",
    "The result table should contain all ranges in table Logs.\n",
    "From 1 to 3 is contained in the table.\n",
    "From 4 to 6 is missing in the table\n",
    "From 7 to 8 is contained in the table.\n",
    "Number 9 is missing in the table.\n",
    "Number 10 is contained in the table."
   ]
  },
  {
   "cell_type": "code",
   "execution_count": null,
   "metadata": {},
   "outputs": [],
   "source": [
    "select min(log_id) as START_ID, max(log_id) as END_ID\n",
    "from (select log_id,\n",
    "        @rank := case when @prev = log_id-1 then @rank else @rank+1 end as rank,\n",
    "        @prev := log_id as prev\n",
    "    from Logs,\n",
    "       (select @rank:=0, @prev:=-1) as rows) as tt\n",
    "group by rank\n",
    "order by START_ID"
   ]
  }
 ],
 "metadata": {
  "kernelspec": {
   "display_name": "Python 3",
   "language": "python",
   "name": "python3"
  },
  "language_info": {
   "codemirror_mode": {
    "name": "ipython",
    "version": 3
   },
   "file_extension": ".py",
   "mimetype": "text/x-python",
   "name": "python",
   "nbconvert_exporter": "python",
   "pygments_lexer": "ipython3",
   "version": "3.7.4"
  }
 },
 "nbformat": 4,
 "nbformat_minor": 2
}

{
 "cells": [
  {
   "cell_type": "code",
   "execution_count": null,
   "metadata": {},
   "outputs": [],
   "source": [
    "In social network like Facebook or Twitter, people send friend requests and accept others requests as well.\n",
    "\n",
    "Table request_accepted\n",
    "+--------------+-------------+------------+\n",
    "| requester_id | accepter_id | accept_date|\n",
    "|--------------|-------------|------------|\n",
    "| 1            | 2           | 2016_06-03 |\n",
    "| 1            | 3           | 2016-06-08 |\n",
    "| 2            | 3           | 2016-06-08 |\n",
    "| 3            | 4           | 2016-06-09 |\n",
    "+--------------+-------------+------------+\n",
    "This table holds the data of friend acceptance, while requester_id and accepter_id both are the id of a person.\n",
    " \n",
    "\n",
    "Write a query to find the people who has most friends and the most friends number under the following rules:\n",
    "\n",
    "It is guaranteed there is only 1 people having the most friends.\n",
    "\n",
    "The friend request could only been accepted once, which mean there is no multiple records with the same requester_id \n",
    "and accepter_id value.\n",
    "\n",
    "For the sample data above, the result is:\n",
    "\n",
    "Result table:\n",
    "+------+------+\n",
    "| id   | num  |\n",
    "|------|------|\n",
    "| 3    | 3    |\n",
    "+------+------+\n",
    "The person with id '3' is a friend of people '1', '2' and '4', so he has 3 friends in total, which is the most number \n",
    "than any others.\n",
    "\n",
    "Follow-up:\n",
    "In the real world, multiple people could have the same most number of friends, can you find all these people in this \n",
    "case?"
   ]
  },
  {
   "cell_type": "code",
   "execution_count": null,
   "metadata": {},
   "outputs": [],
   "source": [
    "Trial - not a correct solution\n",
    "\n",
    "select id, tot1+tot2 as num\n",
    "\n",
    "(\n",
    "select r1.requester_id as r_id, count(r1.accepter_id) as tot1\n",
    "from request_accepted r1\n",
    "group by r1.requester_id\n",
    ") fog\n",
    "\n",
    "outer join\n",
    "\n",
    "(\n",
    "select r2.accepter_id as a_id, count(r2.requester_id) as tot2\n",
    "from request_accepted r2\n",
    "group by r2.accepter_id\n",
    ") cloud\n",
    "\n",
    "\n",
    "groupby id\n",
    "order by num desc limit 1\n",
    "\n",
    "\n",
    "\n"
   ]
  },
  {
   "cell_type": "code",
   "execution_count": null,
   "metadata": {},
   "outputs": [],
   "source": [
    "This is the correct solution\n",
    "\n",
    "\n",
    "select id, count(*) as num_friends from\n",
    "(\n",
    "select requester_id as id from request_accepted\n",
    "union all\n",
    "select accepter_id as id from request_accepted\n",
    ") fog\n",
    "group by fog.id\n",
    "order by num_friends desc limit 1;\n",
    "\n"
   ]
  }
 ],
 "metadata": {
  "kernelspec": {
   "display_name": "Python 3",
   "language": "python",
   "name": "python3"
  },
  "language_info": {
   "codemirror_mode": {
    "name": "ipython",
    "version": 3
   },
   "file_extension": ".py",
   "mimetype": "text/x-python",
   "name": "python",
   "nbconvert_exporter": "python",
   "pygments_lexer": "ipython3",
   "version": "3.7.4"
  }
 },
 "nbformat": 4,
 "nbformat_minor": 2
}

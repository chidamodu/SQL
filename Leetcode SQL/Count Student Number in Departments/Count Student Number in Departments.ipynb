{
 "cells": [
  {
   "cell_type": "code",
   "execution_count": null,
   "metadata": {},
   "outputs": [],
   "source": [
    "This is what I wrote where the student table comes first. But the leetcode solution below has the department table first\n",
    "and therefore has used left outer join. So now my question is that are these two provide the same results?\n",
    "\n",
    "select d.dept_name as dept_name, count(s.student_id) as student_number\n",
    "from student s\n",
    "right join department d\n",
    "using dept_id\n",
    "group by d.dept_name\n",
    "order by student_number DESC, dept_name;"
   ]
  },
  {
   "cell_type": "code",
   "execution_count": null,
   "metadata": {},
   "outputs": [],
   "source": [
    "Leetcode Solution\n",
    "\n",
    "select d.dept_name as dept_name, count(s.student_id) as student_number\n",
    "from department d\n",
    "left outer join student s\n",
    "using dept_id\n",
    "group by d.dept_name\n",
    "order by student_number DESC, dept_name;\n",
    "\n",
    "It is important to note that COUNT(expression) could be used instead of COUNT(*) because it does not take account if \n",
    "expression is null. If COUNT(*) is used then it unfortunately provided 1 for the department 'Law' for which there are no\n",
    "students\n"
   ]
  }
 ],
 "metadata": {
  "kernelspec": {
   "display_name": "Python 3",
   "language": "python",
   "name": "python3"
  },
  "language_info": {
   "codemirror_mode": {
    "name": "ipython",
    "version": 3
   },
   "file_extension": ".py",
   "mimetype": "text/x-python",
   "name": "python",
   "nbconvert_exporter": "python",
   "pygments_lexer": "ipython3",
   "version": "3.7.4"
  }
 },
 "nbformat": 4,
 "nbformat_minor": 2
}

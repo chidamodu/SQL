{
 "cells": [
  {
   "cell_type": "code",
   "execution_count": null,
   "metadata": {},
   "outputs": [],
   "source": [
    "Get Highest Answer Rate Question\n",
    "\n",
    "difficulty - (Medium) \n",
    "\n",
    "\n",
    "Get the highest answer rate question from a table survey_log with these columns: uid, action, question_id, \n",
    "answer_id, q_num, timestamp.\n",
    "\n",
    "uid means user id; action has these kind of values: \"show\", \"answer\", \"skip\"; answer_id is not null when action \n",
    "column is \"answer\", while is null for \"show\" and \"skip\"; q_num is the numeral order of the question in current session.\n",
    "\n",
    "Write a sql query to identify the question which has the highest answer rate.\n",
    "\n",
    "Input:\n",
    "+------+-----------+--------------+------------+-----------+------------+\n",
    "| uid  | action    | question_id  | answer_id  | q_num     | timestamp  |\n",
    "+------+-----------+--------------+------------+-----------+------------+\n",
    "| 5    | show      | 285          | null       | 1         | 123        |\n",
    "| 5    | answer    | 285          | 124124     | 1         | 124        |\n",
    "| 5    | show      | 369          | null       | 2         | 125        |\n",
    "| 5    | skip      | 369          | null       | 2         | 126        |\n",
    "+------+-----------+--------------+------------+-----------+------------+\n",
    "Output:\n",
    "+-------------+\n",
    "| survey_log  |\n",
    "+-------------+\n",
    "|    285      |\n",
    "+-------------+\n",
    "Explanation:\n",
    "question 285 has answer rate 1/1, while question 369 has 0/1 answer rate, so output 285."
   ]
  },
  {
   "cell_type": "code",
   "execution_count": null,
   "metadata": {},
   "outputs": [],
   "source": [
    "Important to note\n",
    "\n",
    "Answer rate is simply number of ‘answer’ in column action divided by number of ‘show’ in the column. To get answer \n",
    "rate, we need to find number of ‘answer’ and number of ‘show’ in column action.\n",
    "\n"
   ]
  },
  {
   "cell_type": "code",
   "execution_count": null,
   "metadata": {},
   "outputs": [],
   "source": [
    "my initial query - not sure whether it will work but I understand the below solutions well so will go with them\n",
    "\n",
    "select question_id\n",
    "from\n",
    "\n",
    "(\n",
    "select count(answer_id)/(select count(action) from survey_log where action='answer') as rate\n",
    "from survey_log\n",
    "where answer_id is not null and action='answer'\n",
    "group by question_id\n",
    ") fog\n",
    "\n",
    "order by fog.rate DESC LIMIT 1;\n"
   ]
  },
  {
   "cell_type": "code",
   "execution_count": null,
   "metadata": {},
   "outputs": [],
   "source": [
    "\n",
    "Approach II: Using sub-query and COUNT(IF...) function\n",
    "\n",
    "This solution is very straight forward: use the COUNT() function to sum the answer and show time combining with \n",
    "the IF() function.\n",
    "\n",
    "select question_id as 'survey_log'\n",
    "from survey_log\n",
    "group by question_id\n",
    "order by count(answer_id)/count(if(action='show', 1, 0)) DESC\n",
    "limit 1;"
   ]
  },
  {
   "cell_type": "code",
   "execution_count": null,
   "metadata": {},
   "outputs": [],
   "source": [
    "Approach I: Using sub-query and SUM() function\n",
    "\n",
    "select question_id as 'survey_log'\n",
    "from\n",
    "(\n",
    "select question_id\n",
    "SUM(CASE WHEN action='show' THEN 1 ELSE 0 END) AS num_show\n",
    "SUM(CASE WHEN action='answer' THEN 1 ELSE 0 END) AS num_answer\n",
    "from survey_log\n",
    "group by question_id\n",
    ") fog\n",
    "order by (fog.num_answer/fog.num_show) DESC\n",
    "LIMIT 1;"
   ]
  }
 ],
 "metadata": {
  "kernelspec": {
   "display_name": "Python 3",
   "language": "python",
   "name": "python3"
  },
  "language_info": {
   "codemirror_mode": {
    "name": "ipython",
    "version": 3
   },
   "file_extension": ".py",
   "mimetype": "text/x-python",
   "name": "python",
   "nbconvert_exporter": "python",
   "pygments_lexer": "ipython3",
   "version": "3.7.4"
  }
 },
 "nbformat": 4,
 "nbformat_minor": 2
}

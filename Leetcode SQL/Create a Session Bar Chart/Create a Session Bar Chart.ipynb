{
 "cells": [
  {
   "cell_type": "code",
   "execution_count": null,
   "metadata": {},
   "outputs": [],
   "source": [
    "Table: Sessions\n",
    "\n",
    "+---------------------+---------+\n",
    "| Column Name         | Type    |\n",
    "+---------------------+---------+\n",
    "| session_id          | int     |\n",
    "| duration            | int     |\n",
    "+---------------------+---------+\n",
    "session_id is the primary key for this table.\n",
    "duration is the time in seconds that a user has visited the application.\n",
    "You want to know how long a user visits your application. You need to create bins of “[0-5>”, “[5-10>”, “[10-15>” and “15 minutes or more” and count the number of sessions on it.\n",
    "\n",
    "Write an SQL query to report the (bin, total) in any order.\n",
    "\n",
    "The query result format is in the following example.\n",
    "\n",
    "Sessions table:\n",
    "\n",
    "+-------------+---------------+\n",
    "| session_id  | duration      |\n",
    "+-------------+---------------+\n",
    "| 1           | 30            |\n",
    "| 2           | 299           |\n",
    "| 3           | 340           |\n",
    "| 4           | 580           |\n",
    "| 5           | 1000          |\n",
    "+-------------+---------------+\n",
    "Result table:\n",
    "\n",
    "+--------------+--------------+\n",
    "| bin          | total        |\n",
    "+--------------+--------------+\n",
    "| [0-5>        | 3            |\n",
    "| [5-10>       | 1            |\n",
    "| [10-15>      | 0            |\n",
    "| 15 or more   | 1            |\n",
    "+--------------+--------------+\n",
    "\n",
    "For session_id 1, 2 and 3 have a duration greater or equal than 0 minutes and less than 5 minutes.\n",
    "For session_id 4 has a duration greater or equal than 5 minutes and less than 10 minutes.\n",
    "There are no session with a duration greater or equial than 10 minutes and less than 15 minutes.\n",
    "For session_id 5 has a duration greater or equal than 15 minutes."
   ]
  },
  {
   "cell_type": "code",
   "execution_count": null,
   "metadata": {},
   "outputs": [],
   "source": [
    "select '[0-5>' as bin, count(1) as total\n",
    "from Sessions\n",
    "where duration>=0 and duration < 300\n",
    "union\n",
    "select '[5-10>' as bin, count(1) as total\n",
    "from Sessions\n",
    "where duration>=300 and duration < 600\n",
    "union\n",
    "select '[10-15>' as bin, count(1) as total\n",
    "from Sessions\n",
    "where duration>=600 and duration < 900\n",
    "union\n",
    "select '15 or more' as bin, count(1) as total\n",
    "from Sessions\n",
    "where duration >= 900"
   ]
  }
 ],
 "metadata": {
  "kernelspec": {
   "display_name": "Python 3",
   "language": "python",
   "name": "python3"
  },
  "language_info": {
   "codemirror_mode": {
    "name": "ipython",
    "version": 3
   },
   "file_extension": ".py",
   "mimetype": "text/x-python",
   "name": "python",
   "nbconvert_exporter": "python",
   "pygments_lexer": "ipython3",
   "version": "3.7.4"
  }
 },
 "nbformat": 4,
 "nbformat_minor": 2
}

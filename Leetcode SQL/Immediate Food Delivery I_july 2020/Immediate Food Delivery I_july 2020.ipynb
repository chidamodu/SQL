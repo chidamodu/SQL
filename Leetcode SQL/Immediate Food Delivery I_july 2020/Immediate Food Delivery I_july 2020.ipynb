{
 "cells": [
  {
   "cell_type": "code",
   "execution_count": null,
   "metadata": {},
   "outputs": [],
   "source": [
    "\n",
    "Table: Delivery\n",
    "+-----------------------------+---------+\n",
    "| Column Name                 | Type    |\n",
    "+-----------------------------+---------+\n",
    "| delivery_id                 | int     |\n",
    "| customer_id                 | int     |\n",
    "| order_date                  | date    |\n",
    "| customer_pref_delivery_date | date    |\n",
    "+-----------------------------+---------+\n",
    "delivery_id is the primary key of this table.\n",
    "\n",
    "The table holds information about food delivery to customers that make orders at some date and specify a preferred \n",
    "delivery date (on the same order date or after it).\n",
    "\n",
    "If the preferred delivery date of the customer is the same as the order date then the order is called immediate \n",
    "otherwise it’s called scheduled.\n",
    "\n",
    "Write an SQL query to find the percentage of immediate orders in the table, rounded to 2 decimal places.\n",
    "\n",
    "The query result format is in the following example:\n",
    "\n",
    "Delivery table:\n",
    "+-------------+-------------+------------+-----------------------------+\n",
    "| delivery_id | customer_id | order_date | customer_pref_delivery_date |\n",
    "+-------------+-------------+------------+-----------------------------+\n",
    "| 1           | 1           | 2019-08-01 | 2019-08-02                  |\n",
    "| 2           | 5           | 2019-08-02 | 2019-08-02                  |\n",
    "| 3           | 1           | 2019-08-11 | 2019-08-11                  |\n",
    "| 4           | 3           | 2019-08-24 | 2019-08-26                  |\n",
    "| 5           | 4           | 2019-08-21 | 2019-08-22                  |\n",
    "| 6           | 2           | 2019-08-11 | 2019-08-13                  |\n",
    "+-------------+-------------+------------+-----------------------------+\n",
    "\n",
    "Result table:\n",
    "+----------------------+\n",
    "| immediate_percentage |\n",
    "+----------------------+\n",
    "| 33.33                |\n",
    "+----------------------+\n",
    "The orders with delivery id 2 and 3 are immediate while the others are scheduled.\n"
   ]
  },
  {
   "cell_type": "code",
   "execution_count": null,
   "metadata": {},
   "outputs": [],
   "source": [
    "\n",
    "\n",
    "select round(100*sum(case when order_date=customer_pref_delivery_date then 1 else 0 end)/count(delivery_id), 2) \n",
    "as immediate_percentage \n",
    "from Delivery;\n",
    "\n"
   ]
  }
 ],
 "metadata": {
  "kernelspec": {
   "display_name": "Python 3",
   "language": "python",
   "name": "python3"
  },
  "language_info": {
   "codemirror_mode": {
    "name": "ipython",
    "version": 3
   },
   "file_extension": ".py",
   "mimetype": "text/x-python",
   "name": "python",
   "nbconvert_exporter": "python",
   "pygments_lexer": "ipython3",
   "version": "3.7.4"
  }
 },
 "nbformat": 4,
 "nbformat_minor": 2
}

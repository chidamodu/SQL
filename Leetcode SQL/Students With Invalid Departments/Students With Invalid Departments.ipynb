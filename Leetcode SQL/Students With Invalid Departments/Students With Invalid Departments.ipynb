{
 "cells": [
  {
   "cell_type": "code",
   "execution_count": null,
   "metadata": {},
   "outputs": [],
   "source": [
    "Table: Departments\n",
    "+---------------+---------+\n",
    "| Column Name   | Type    |\n",
    "+---------------+---------+\n",
    "| id            | int     |\n",
    "| name          | varchar |\n",
    "+---------------+---------+\n",
    "id is the primary key of this table.\n",
    "\n",
    "The table has information about the id of each department of a university.\n",
    "\n",
    "Table: Students\n",
    "+---------------+---------+\n",
    "| Column Name   | Type    |\n",
    "+---------------+---------+\n",
    "| id            | int     |\n",
    "| name          | varchar |\n",
    "| department_id | int     |\n",
    "+---------------+---------+\n",
    "id is the primary key of this table.\n",
    "The table has information about the id of each student at a university and the id of the department he/she studies at.\n",
    "\n",
    "Write an SQL query to find the id and the name of all students who are enrolled in departments that no longer exists.\n",
    "\n",
    "Return the result table in any order.\n",
    "\n",
    "The query result format is in the following example:\n",
    "\n",
    "Departments table:\n",
    "+------+--------------------------+\n",
    "| id   | name                     |\n",
    "+------+--------------------------+\n",
    "| 1    | Electrical Engineering   |\n",
    "| 7    | Computer Engineering     |\n",
    "| 13   | Bussiness Administration |\n",
    "+------+--------------------------+\n",
    "\n",
    "Students table:\n",
    "+------+----------+---------------+\n",
    "| id   | name     | department_id |\n",
    "+------+----------+---------------+\n",
    "| 23   | Alice    | 1             |\n",
    "| 1    | Bob      | 7             |\n",
    "| 5    | Jennifer | 13            |\n",
    "| 2    | John     | 14            |\n",
    "| 4    | Jasmine  | 77            |\n",
    "| 3    | Steve    | 74            |\n",
    "| 6    | Luis     | 1             |\n",
    "| 8    | Jonathan | 7             |\n",
    "| 7    | Daiana   | 33            |\n",
    "| 11   | Madelynn | 1             |\n",
    "+------+----------+---------------+\n",
    "\n",
    "Result table:\n",
    "+------+----------+\n",
    "| id   | name     |\n",
    "+------+----------+\n",
    "| 2    | John     |\n",
    "| 7    | Daiana   |\n",
    "| 4    | Jasmine  |\n",
    "| 3    | Steve    |\n",
    "+------+----------+\n",
    "\n",
    "John, Daiana, Steve and Jasmine are enrolled in departments 14, 33, 74 and 77 respectively. department 14, 33, 74 and \n",
    "77 doesn't exist in the Departments table."
   ]
  },
  {
   "cell_type": "code",
   "execution_count": null,
   "metadata": {},
   "outputs": [],
   "source": [
    "select id, name\n",
    "from Students\n",
    "where department_id not in (select id from Departments);"
   ]
  }
 ],
 "metadata": {
  "kernelspec": {
   "display_name": "Python 3",
   "language": "python",
   "name": "python3"
  },
  "language_info": {
   "codemirror_mode": {
    "name": "ipython",
    "version": 3
   },
   "file_extension": ".py",
   "mimetype": "text/x-python",
   "name": "python",
   "nbconvert_exporter": "python",
   "pygments_lexer": "ipython3",
   "version": "3.7.4"
  }
 },
 "nbformat": 4,
 "nbformat_minor": 2
}

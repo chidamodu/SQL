{
 "cells": [
  {
   "cell_type": "code",
   "execution_count": null,
   "id": "cd681ca3-911c-4ac3-965c-53cd8a246311",
   "metadata": {},
   "outputs": [],
   "source": [
    "\n",
    "Table: Events\n",
    "+---------------+---------+\n",
    "| Column Name   | Type    |\n",
    "+---------------+---------+\n",
    "| business_id   | int     |\n",
    "| event_type    | varchar |\n",
    "| occurences    | int     | \n",
    "+---------------+---------+\n",
    "(business_id, event_type) is the primary key of this table.\n",
    "Each row in the table logs the info that an event of some type occured at some business for a number of times.\n",
    "\n",
    "Write an SQL query to find all active businesses.\n",
    "\n",
    "An active business is a business that has more than one event type with occurences greater than the average occurences \n",
    "of that event type among all businesses.\n",
    "\n",
    "The query result format is in the following example:\n",
    "\n",
    "Events table:\n",
    "+-------------+------------+------------+\n",
    "| business_id | event_type | occurences |\n",
    "+-------------+------------+------------+\n",
    "| 1           | reviews    | 7          |\n",
    "| 3           | reviews    | 3          |\n",
    "| 1           | ads        | 11         |\n",
    "| 2           | ads        | 7          |\n",
    "| 3           | ads        | 6          |\n",
    "| 1           | page views | 3          |\n",
    "| 2           | page views | 12         |\n",
    "+-------------+------------+------------+\n",
    "\n",
    "Result table:\n",
    "+-------------+\n",
    "| business_id |\n",
    "+-------------+\n",
    "| 1           |\n",
    "+-------------+ \n",
    "\n",
    "Average for 'reviews', 'ads' and 'page views' are (7+3)/2=5, (11+7+6)/3=8, (3+12)/2=7.5 respectively.\n",
    "Business with id 1 has 7 'reviews' events (more than 5) and 11 'ads' events (more than 8) so it is an active business.\n",
    "\n"
   ]
  },
  {
   "cell_type": "code",
   "execution_count": null,
   "id": "b0add0e3-2133-4b73-8e69-c112b98afc4b",
   "metadata": {},
   "outputs": [],
   "source": [
    "\n",
    "with ev1 as (\n",
    "    select event_type, avg(occurrences) as tot\n",
    "    from events\n",
    "    group by event_type\n",
    "),\n",
    "\n",
    "    ev2 as (\n",
    "    select business_id, count(distinct(event_type)) as d_event from events e\n",
    "    join ev1\n",
    "    on ev1.event_type = e.event_type\n",
    "    where occurrences > ev1.tot\n",
    "    group by business_id\n",
    "    )\n",
    "\n",
    "select business_id from ev2\n",
    "where ev2.d_event > 1;\n",
    "\n"
   ]
  }
 ],
 "metadata": {
  "kernelspec": {
   "display_name": "Python 3 (ipykernel)",
   "language": "python",
   "name": "python3"
  },
  "language_info": {
   "codemirror_mode": {
    "name": "ipython",
    "version": 3
   },
   "file_extension": ".py",
   "mimetype": "text/x-python",
   "name": "python",
   "nbconvert_exporter": "python",
   "pygments_lexer": "ipython3",
   "version": "3.9.6"
  }
 },
 "nbformat": 4,
 "nbformat_minor": 5
}

{
 "cells": [
  {
   "cell_type": "code",
   "execution_count": null,
   "id": "82988adc-1c1f-4d26-9e3b-fb668de4b52b",
   "metadata": {},
   "outputs": [],
   "source": [
    "Another version for the active businesses problem\n",
    "\n",
    "WITH EventAvgs AS (\n",
    "    SELECT \n",
    "        event_type,\n",
    "        AVG(occurences) AS avg_occurences\n",
    "    FROM Events\n",
    "    GROUP BY event_type\n",
    ")\n",
    "\n",
    "SELECT business_id\n",
    "FROM Events e\n",
    "JOIN EventAvgs ea ON e.event_type = ea.event_type\n",
    "WHERE e.occurences > ea.avg_occurences\n",
    "GROUP BY business_id\n",
    "HAVING COUNT(DISTINCT e.event_type) > 1;\n",
    "\n"
   ]
  }
 ],
 "metadata": {
  "kernelspec": {
   "display_name": "Python 3 (ipykernel)",
   "language": "python",
   "name": "python3"
  },
  "language_info": {
   "codemirror_mode": {
    "name": "ipython",
    "version": 3
   },
   "file_extension": ".py",
   "mimetype": "text/x-python",
   "name": "python",
   "nbconvert_exporter": "python",
   "pygments_lexer": "ipython3",
   "version": "3.9.6"
  }
 },
 "nbformat": 4,
 "nbformat_minor": 5
}

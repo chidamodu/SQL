{
 "cells": [
  {
   "cell_type": "code",
   "execution_count": null,
   "metadata": {},
   "outputs": [],
   "source": [
    "Table: Project\n",
    "+-------------+---------+\n",
    "| Column Name | Type    |\n",
    "+-------------+---------+\n",
    "| project_id  | int     |\n",
    "| employee_id | int     |\n",
    "+-------------+---------+\n",
    "(project_id, employee_id) is the primary key of this table.\n",
    "employee_id is a foreign key to Employee table.\n",
    "\n",
    "Table: Employee\n",
    "+------------------+---------+\n",
    "| Column Name      | Type    |\n",
    "+------------------+---------+\n",
    "| employee_id      | int     |\n",
    "| name             | varchar |\n",
    "| experience_years | int     |\n",
    "+------------------+---------+\n",
    "employee_id is the primary key of this table.\n",
    "\n",
    "Write an SQL query that reports the average experience years of all the employees for each project, rounded to 2 \n",
    "digits.\n",
    "\n",
    "The query result format is in the following example:\n",
    "\n",
    "Project table:\n",
    "+-------------+-------------+\n",
    "| project_id  | employee_id |\n",
    "+-------------+-------------+\n",
    "| 1           | 1           |\n",
    "| 1           | 2           |\n",
    "| 1           | 3           |\n",
    "| 2           | 1           |\n",
    "| 2           | 4           |\n",
    "+-------------+-------------+\n",
    "\n",
    "Employee table:\n",
    "+-------------+--------+------------------+\n",
    "| employee_id | name   | experience_years |\n",
    "+-------------+--------+------------------+\n",
    "| 1           | Khaled | 3                |\n",
    "| 2           | Ali    | 2                |\n",
    "| 3           | John   | 1                |\n",
    "| 4           | Doe    | 2                |\n",
    "+-------------+--------+------------------+\n",
    "\n",
    "Result table:\n",
    "+-------------+---------------+\n",
    "| project_id  | average_years |\n",
    "+-------------+---------------+\n",
    "| 1           | 2.00          |\n",
    "| 2           | 2.50          |\n",
    "+-------------+---------------+\n",
    "The average experience years for the first project is (3 + 2 + 1) / 3 = 2.00 and for the second project is \n",
    "(3 + 2) / 2 = 2.50"
   ]
  },
  {
   "cell_type": "code",
   "execution_count": null,
   "metadata": {},
   "outputs": [],
   "source": [
    "\n",
    "\n",
    "select project_id, round(avg(experience_years), 2) as average_years\n",
    "from Project inner join Employee\n",
    "on Project.employee_id = Employee.employee_id\n",
    "group by project_id;\n"
   ]
  }
 ],
 "metadata": {
  "kernelspec": {
   "display_name": "Python 3",
   "language": "python",
   "name": "python3"
  },
  "language_info": {
   "codemirror_mode": {
    "name": "ipython",
    "version": 3
   },
   "file_extension": ".py",
   "mimetype": "text/x-python",
   "name": "python",
   "nbconvert_exporter": "python",
   "pygments_lexer": "ipython3",
   "version": "3.7.4"
  }
 },
 "nbformat": 4,
 "nbformat_minor": 2
}

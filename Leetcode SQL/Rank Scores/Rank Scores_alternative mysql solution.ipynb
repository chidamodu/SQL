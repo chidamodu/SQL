{
 "cells": [
  {
   "cell_type": "code",
   "execution_count": null,
   "metadata": {},
   "outputs": [],
   "source": [
    "Write a SQL query to rank scores. If there is a tie between two scores, both should have the same ranking. Note that \n",
    "after a tie, the next ranking number should be the next consecutive integer value. In other words, there should be \n",
    "no \"holes\" between ranks.\n",
    "\n",
    "+----+-------+\n",
    "| Id | Score |\n",
    "+----+-------+\n",
    "| 1  | 3.50  |\n",
    "| 2  | 3.65  |\n",
    "| 3  | 4.00  |\n",
    "| 4  | 3.85  |\n",
    "| 5  | 4.00  |\n",
    "| 6  | 3.65  |\n",
    "+----+-------+\n",
    "\n",
    "For example, given the above Scores table, your query should generate the following report (order by highest score):\n",
    "+-------+------+\n",
    "| Score | Rank |\n",
    "+-------+------+\n",
    "| 4.00  | 1    |\n",
    "| 4.00  | 1    |\n",
    "| 3.85  | 2    |\n",
    "| 3.65  | 3    |\n",
    "| 3.65  | 3    |\n",
    "| 3.50  | 4    |\n",
    "+-------+------+"
   ]
  },
  {
   "cell_type": "code",
   "execution_count": null,
   "metadata": {},
   "outputs": [],
   "source": [
    "SELECT A.score as Score, COUNT(B.score) AS 'Rank' FROM Scores A, (SELECT distinct(score) as score FROM Scores) B\n",
    "where A.score<=B.score\n",
    "GROUP BY A.id,A.Score\n",
    "ORDER BY A.score DESC;"
   ]
  },
  {
   "cell_type": "code",
   "execution_count": null,
   "metadata": {},
   "outputs": [],
   "source": [
    "Explanation:\n",
    "\n",
    "    First, we need 2 tables: The original table and another table where we only have distinct scores\n",
    "Table A: SELECT A.id, A.score FROM Scores A\n",
    "Table B: SELECT DISTINCT(score) as score FROM Scores B\n",
    "\n",
    "Then we JOIN both the tables where the scores from Table A <= Table B:\n",
    "\n",
    "SELECT A.id, A.score, B.score\n",
    "FROM Scores A JOIN (SELECT DISTINCT(score) as score FROM Scores) B ON A.score<=B.score\n",
    "ORDER BY A.id, A.score DESC, B.score ASC\n",
    "The trick here is where A.score <= B.score.\n",
    "\n",
    "Now, we GROUP BY A.id, COUNT B.score and lastly order A.score in descending order.\n",
    "\n",
    "SELECT A.score as Score, COUNT(B.score) as 'Rank'\n",
    "FROM Scores A JOIN (SELECT DISTINCT(score) as score FROM Scores) B ON A.score<=B.score\n",
    "GROUP BY A.id\n",
    "ORDER BY A.score DESC"
   ]
  }
 ],
 "metadata": {
  "kernelspec": {
   "display_name": "Python 3",
   "language": "python",
   "name": "python3"
  },
  "language_info": {
   "codemirror_mode": {
    "name": "ipython",
    "version": 3
   },
   "file_extension": ".py",
   "mimetype": "text/x-python",
   "name": "python",
   "nbconvert_exporter": "python",
   "pygments_lexer": "ipython3",
   "version": "3.7.4"
  }
 },
 "nbformat": 4,
 "nbformat_minor": 2
}

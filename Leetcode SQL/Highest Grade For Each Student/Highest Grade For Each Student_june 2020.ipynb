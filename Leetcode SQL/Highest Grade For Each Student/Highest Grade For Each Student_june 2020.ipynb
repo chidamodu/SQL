{
 "cells": [
  {
   "cell_type": "code",
   "execution_count": null,
   "metadata": {},
   "outputs": [],
   "source": [
    "Table: Enrollments\n",
    "+---------------+---------+\n",
    "| Column Name   | Type    |\n",
    "+---------------+---------+\n",
    "| student_id    | int     |\n",
    "| course_id     | int     |\n",
    "| grade         | int     |\n",
    "+---------------+---------+\n",
    "(student_id, course_id) is the primary key of this table.\n",
    "\n",
    "Write a SQL query to find the highest grade with its corresponding course for each student. In case of a tie, you should find the course with the smallest course_id. The output must be sorted by increasing student_id.\n",
    "\n",
    "The query result format is in the following example:\n",
    "Enrollments table:\n",
    "+------------+-------------------+\n",
    "| student_id | course_id | grade |\n",
    "+------------+-----------+-------+\n",
    "| 2          | 2         | 95    |\n",
    "| 2          | 3         | 95    |\n",
    "| 1          | 1         | 90    |\n",
    "| 1          | 2         | 99    |\n",
    "| 3          | 1         | 80    |\n",
    "| 3          | 2         | 75    |\n",
    "| 3          | 3         | 82    |\n",
    "+------------+-----------+-------+\n",
    "Result table:\n",
    "+------------+-------------------+\n",
    "| student_id | course_id | grade |\n",
    "+------------+-----------+-------+\n",
    "| 1          | 2         | 99    |\n",
    "| 2          | 2         | 95    |\n",
    "| 3          | 3         | 82    |\n",
    "+------------+-----------+-------+"
   ]
  },
  {
   "cell_type": "code",
   "execution_count": null,
   "metadata": {},
   "outputs": [],
   "source": [
    "\n",
    "select student_id, min(course_id)\n",
    "from Enrollments\n",
    "where (student_id and grade) in\n",
    "\n",
    "(\n",
    "select student_id, max(grade)\n",
    "from Enrollments\n",
    "group by student_id\n",
    ") fog\n",
    "\n",
    "group by student_id\n",
    "order by student_id;\n",
    "\n"
   ]
  }
 ],
 "metadata": {
  "kernelspec": {
   "display_name": "Python 3",
   "language": "python",
   "name": "python3"
  },
  "language_info": {
   "codemirror_mode": {
    "name": "ipython",
    "version": 3
   },
   "file_extension": ".py",
   "mimetype": "text/x-python",
   "name": "python",
   "nbconvert_exporter": "python",
   "pygments_lexer": "ipython3",
   "version": "3.7.4"
  }
 },
 "nbformat": 4,
 "nbformat_minor": 2
}

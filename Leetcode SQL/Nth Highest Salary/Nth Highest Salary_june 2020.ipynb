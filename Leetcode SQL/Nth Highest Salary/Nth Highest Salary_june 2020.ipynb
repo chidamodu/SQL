{
 "cells": [
  {
   "cell_type": "code",
   "execution_count": null,
   "metadata": {},
   "outputs": [],
   "source": [
    "Write a SQL query to get the nth highest salary from the Employee table.\n",
    "\n",
    "+----+--------+\n",
    "| Id | Salary |\n",
    "+----+--------+\n",
    "| 1  | 100    |\n",
    "| 2  | 200    |\n",
    "| 3  | 300    |\n",
    "+----+--------+\n",
    "\n",
    "For example, given the above Employee table, the nth highest salary where n = 2 is 200. If there is no nth highest \n",
    "salary, then the query should return null.\n",
    "\n",
    "+------------------------+\n",
    "| getNthHighestSalary(2) |\n",
    "+------------------------+\n",
    "| 200                    |\n",
    "+------------------------+"
   ]
  },
  {
   "cell_type": "code",
   "execution_count": null,
   "metadata": {},
   "outputs": [],
   "source": [
    "CREATE FUNCTION getNthHighestSalary(N INT) RETURNS INT\n",
    "BEGIN\n",
    "    RETURN (\n",
    "        /* Write your T-SQL query statement below. */\n",
    "        SELECT Salary FROM \n",
    "        (\n",
    "            SELECT\n",
    "                row_number() OVER (ORDER BY salary DESC) AS row_num,            \n",
    "                emp.salary\n",
    "            FROM (SELECT DISTINCT Salary FROM Employee) emp\n",
    "        ) result\n",
    "        WHERE row_num = N        \n",
    "    );\n",
    "END\n",
    "\n",
    "result:\n",
    "Runtime: 360 ms, faster than 65.91% of MySQL online submissions for Nth Highest Salary.\n",
    "Memory Usage: 0B, less than 100.00% of MySQL online submissions for Nth Highest Salary."
   ]
  }
 ],
 "metadata": {
  "kernelspec": {
   "display_name": "Python 3",
   "language": "python",
   "name": "python3"
  },
  "language_info": {
   "codemirror_mode": {
    "name": "ipython",
    "version": 3
   },
   "file_extension": ".py",
   "mimetype": "text/x-python",
   "name": "python",
   "nbconvert_exporter": "python",
   "pygments_lexer": "ipython3",
   "version": "3.7.4"
  }
 },
 "nbformat": 4,
 "nbformat_minor": 2
}

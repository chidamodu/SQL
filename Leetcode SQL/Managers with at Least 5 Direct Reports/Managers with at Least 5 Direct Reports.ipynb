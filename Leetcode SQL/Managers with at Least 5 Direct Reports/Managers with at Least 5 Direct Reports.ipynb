{
 "cells": [
  {
   "cell_type": "code",
   "execution_count": null,
   "metadata": {},
   "outputs": [],
   "source": [
    "The Employee table holds all employees including their managers. Every employee has an Id, and there is also a column \n",
    "for the manager Id.\n",
    "\n",
    "+------+----------+-----------+----------+\n",
    "|Id    |Name \t  |Department |ManagerId |\n",
    "+------+----------+-----------+----------+\n",
    "|101   |John \t  |A \t      |null      |\n",
    "|102   |Dan \t  |A \t      |101       |\n",
    "|103   |James \t  |A \t      |101       |\n",
    "|104   |Amy \t  |A \t      |101       |\n",
    "|105   |Anne \t  |A \t      |101       |\n",
    "|106   |Ron \t  |B \t      |101       |\n",
    "+------+----------+-----------+----------+\n",
    "\n",
    "\n",
    "Given the Employee table, write a SQL query that finds out managers with at least 5 direct report. For the above \n",
    "table, your SQL query should return:\n",
    "\n",
    "+-------+\n",
    "| Name  |\n",
    "+-------+\n",
    "| John  |\n",
    "+-------+\n",
    "\n",
    "Note:\n",
    "No one would report to himself."
   ]
  },
  {
   "cell_type": "code",
   "execution_count": null,
   "metadata": {},
   "outputs": [],
   "source": [
    "solution:1\n",
    "select name from Employee where id in \n",
    "(select ManagerId from Employee\n",
    " group by ManagerId\n",
    " having count(*)>=5)#or this statement can also be written as: having count(*)>4"
   ]
  },
  {
   "cell_type": "code",
   "execution_count": null,
   "metadata": {},
   "outputs": [],
   "source": [
    "solution:2\n",
    "select e1.name as name from Employee e1\n",
    "join\n",
    "Employee e2\n",
    "on e1.id=e2.ManagerId\n",
    "group by e2.name \n",
    "having count(e1.Name)>= 5;\n"
   ]
  }
 ],
 "metadata": {
  "kernelspec": {
   "display_name": "Python 3",
   "language": "python",
   "name": "python3"
  },
  "language_info": {
   "codemirror_mode": {
    "name": "ipython",
    "version": 3
   },
   "file_extension": ".py",
   "mimetype": "text/x-python",
   "name": "python",
   "nbconvert_exporter": "python",
   "pygments_lexer": "ipython3",
   "version": "3.7.4"
  }
 },
 "nbformat": 4,
 "nbformat_minor": 2
}

{
 "cells": [
  {
   "cell_type": "code",
   "execution_count": null,
   "metadata": {},
   "outputs": [],
   "source": [
    "Mary is a teacher in a middle school and she has a table seat storing students names and their corresponding seat ids.\n",
    "\n",
    "The column id is continuous increment.\n",
    " \n",
    "Mary wants to change seats for the adjacent students.\n",
    " \n",
    "Can you write a SQL query to output the result for Mary?\n",
    "+---------+---------+\n",
    "|    id   | student |\n",
    "+---------+---------+\n",
    "|    1    | Abbot   |\n",
    "|    2    | Doris   |\n",
    "|    3    | Emerson |\n",
    "|    4    | Green   |\n",
    "|    5    | Jeames  |\n",
    "+---------+---------+\n",
    "\n",
    "For the sample input, the output is:\n",
    "+---------+---------+\n",
    "|    id   | student |\n",
    "+---------+---------+\n",
    "|    1    | Doris   |\n",
    "|    2    | Abbot   |\n",
    "|    3    | Green   |\n",
    "|    4    | Emerson |\n",
    "|    5    | Jeames  |\n",
    "+---------+---------+\n",
    "\n",
    "Note:\n",
    "If the number of students is odd, there is no need to change the last one's seat."
   ]
  },
  {
   "cell_type": "code",
   "execution_count": null,
   "metadata": {},
   "outputs": [],
   "source": [
    "solution\n",
    "select case\n",
    "when mod(id, 2)!=0 and id=(select max(id) from seat) then id\n",
    "when mod(id, 2)!=0 then id+1\n",
    "when mod(id, 2)=0 then id-1\n",
    "end as id, student\n",
    "from seat\n",
    "order by 1;\n"
   ]
  }
 ],
 "metadata": {
  "kernelspec": {
   "display_name": "Python 3",
   "language": "python",
   "name": "python3"
  },
  "language_info": {
   "codemirror_mode": {
    "name": "ipython",
    "version": 3
   },
   "file_extension": ".py",
   "mimetype": "text/x-python",
   "name": "python",
   "nbconvert_exporter": "python",
   "pygments_lexer": "ipython3",
   "version": "3.7.4"
  }
 },
 "nbformat": 4,
 "nbformat_minor": 2
}

{
 "cells": [
  {
   "cell_type": "code",
   "execution_count": null,
   "metadata": {},
   "outputs": [],
   "source": [
    "The Employee table holds all employees. Every employee has an Id, a salary, and there is also a column for the \n",
    "department Id.\n",
    "\n",
    "+----+-------+--------+--------------+\n",
    "| Id | Name  | Salary | DepartmentId |\n",
    "+----+-------+--------+--------------+\n",
    "| 1  | Joe   | 70000  | 1            |\n",
    "| 2  | Jim   | 90000  | 1            |\n",
    "| 3  | Henry | 80000  | 2            |\n",
    "| 4  | Sam   | 60000  | 2            |\n",
    "| 5  | Max   | 90000  | 1            |\n",
    "+----+-------+--------+--------------+\n",
    "The Department table holds all departments of the company.\n",
    "\n",
    "+----+----------+\n",
    "| Id | Name     |\n",
    "+----+----------+\n",
    "| 1  | IT       |\n",
    "| 2  | Sales    |\n",
    "+----+----------+\n",
    "Write a SQL query to find employees who have the highest salary in each of the departments. For the above tables, \n",
    "your SQL query should return the following rows (order of rows does not matter).\n",
    "\n",
    "+------------+----------+--------+\n",
    "| Department | Employee | Salary |\n",
    "+------------+----------+--------+\n",
    "| IT         | Max      | 90000  |\n",
    "| IT         | Jim      | 90000  |\n",
    "| Sales      | Henry    | 80000  |\n",
    "+------------+----------+--------+\n",
    "\n",
    "Explanation:\n",
    "Max and Jim both have the highest salary in the IT department and Henry has the highest salary in the Sales department.\n",
    "\n"
   ]
  },
  {
   "cell_type": "code",
   "execution_count": null,
   "metadata": {},
   "outputs": [],
   "source": [
    "Why join twice you might ask? Well if we just do the inner join it wont return the correct answer, meaning it wont \n",
    "return all the employee names matching with the max salary and thats why we do the join in the outer loop.\n",
    "\n",
    "select fog.Department as Department, e1.name as Employee, e1.Salary as Salary\n",
    "from employee e1\n",
    "join\n",
    "(\n",
    "select e.name, max(e.Salary) as sal, d.name as Department\n",
    "from employee e\n",
    "join department d\n",
    "on e.DepartmentId=d.Id\n",
    "group by e.DepartmentId\n",
    ") fog\n",
    "on e1.DepartmentId=fog.Id\n",
    "where e1.Salary=fog.sal;\n",
    "\n"
   ]
  }
 ],
 "metadata": {
  "kernelspec": {
   "display_name": "Python 3",
   "language": "python",
   "name": "python3"
  },
  "language_info": {
   "codemirror_mode": {
    "name": "ipython",
    "version": 3
   },
   "file_extension": ".py",
   "mimetype": "text/x-python",
   "name": "python",
   "nbconvert_exporter": "python",
   "pygments_lexer": "ipython3",
   "version": "3.7.4"
  }
 },
 "nbformat": 4,
 "nbformat_minor": 2
}

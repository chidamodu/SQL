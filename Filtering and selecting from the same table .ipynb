{
 "cells": [
  {
   "cell_type": "code",
   "execution_count": null,
   "metadata": {},
   "outputs": [],
   "source": [
    "Whatever I tried... but the final query in the cells below\n",
    "\n",
    "Write your MySQL query statement below\n",
    "1. only employees\n",
    "(select Id, Name from Employee e1\n",
    "where ManagerId IS NULL) t1\n",
    "\n",
    "2. manager\n",
    "(select Id, Name from Employee e2\n",
    "where ManagerId IS NOT NULL) t2\n",
    "\n",
    "3. select t1.Name from\n",
    "(select * from Employee e1\n",
    "where ManagerId IS NULL) t1\n",
    "\n",
    "FULL JOIN\n",
    "\n",
    "\n",
    "(select * from Employee e2\n",
    "where ManagerId IS NOT NULL) t2\n",
    "\n",
    "where t.Salary>t2.Salary;\n",
    "\n",
    "select t1.Name from\n",
    "\n",
    "(select * from Employee e1\n",
    "where ManagerId IS NULL) t1\n",
    "\n",
    "JOIN\n",
    "\n",
    "(select * from Employee e2\n",
    "where ManagerId IS NOT NULL) t2\n",
    "\n",
    "where t1.Salary>t2.Salary;\n",
    "\n",
    "\n",
    "-----------------------------------------------------------------------------"
   ]
  },
  {
   "cell_type": "code",
   "execution_count": null,
   "metadata": {},
   "outputs": [],
   "source": [
    "\n",
    "\n",
    "SELECT E.Name as Employee\n",
    "FROM Employee E, Employee M\n",
    "WHERE E.Salary > M.Salary and E.ManagerId = M.Id;\n",
    "\n",
    "Outcome: Runtime: 311 ms, faster than 66.27% of MySQL online submissions for Employees Earning More Than Their Managers.\n",
    "\n"
   ]
  },
  {
   "cell_type": "code",
   "execution_count": null,
   "metadata": {},
   "outputs": [],
   "source": [
    "\n",
    "select e2.name as Employee\n",
    "from employee e1\n",
    "join employee e2\n",
    "on e1.id = e2.managerid\n",
    "where e2.salary > e1.salary;\n",
    "\n",
    "Outcome:Runtime: 288 ms, faster than 96.49% of MySQL online submissions for Employees Earning More Than Their Managers.\n",
    "\n"
   ]
  }
 ],
 "metadata": {
  "kernelspec": {
   "display_name": "Python 3",
   "language": "python",
   "name": "python3"
  },
  "language_info": {
   "codemirror_mode": {
    "name": "ipython",
    "version": 3
   },
   "file_extension": ".py",
   "mimetype": "text/x-python",
   "name": "python",
   "nbconvert_exporter": "python",
   "pygments_lexer": "ipython3",
   "version": "3.7.4"
  }
 },
 "nbformat": 4,
 "nbformat_minor": 2
}

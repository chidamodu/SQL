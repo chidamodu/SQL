{
 "cells": [
  {
   "cell_type": "code",
   "execution_count": null,
   "metadata": {},
   "outputs": [],
   "source": [
    "select p1.project_id, p1.employee_id\n",
    "from project p1\n",
    "join employee e1 \n",
    "on p1.employee_id=e1.employee_id\n",
    "JOIN\n",
    "(\n",
    "select p.project_id as pid, e.employee_id as eid, MAX(e.experience_years) as max_exp from project p\n",
    "join employee e\n",
    "on p.employee_id=e.employee_id\n",
    "group by p.project_id\n",
    ") goat\n",
    "\n",
    "on p1.project_id=goat.pid\n",
    "where e1.experience_years=goat.max_exp; \n",
    "\n",
    "\n",
    "\n",
    "Runtime: 307 ms, faster than 55.60% of MySQL online submissions for Project Employees III.\n",
    "Memory Usage: 0B, less than 100.00% of MySQL online submissions for Project Employees III."
   ]
  },
  {
   "cell_type": "code",
   "execution_count": null,
   "metadata": {},
   "outputs": [],
   "source": [
    "The following query using 'WHERE' clause wont work because the subquery returns more than 1 row and so I used JOIN as in the\n",
    "above query\n",
    "\n",
    "\n",
    "select p1.project_id, p1.employee_id\n",
    "from project p1\n",
    "join employee e1 \n",
    "on p1.employee_id=e1.employee_id\n",
    "where e1.experience_years=\n",
    "(select MAX(e.experience_years) as max_exp from project p\n",
    "join employee e\n",
    "on p.employee_id=e.employee_id \n",
    "group by p.project_id);"
   ]
  },
  {
   "cell_type": "code",
   "execution_count": null,
   "metadata": {},
   "outputs": [],
   "source": [
    "But the following with 'IN' works\n",
    "\n",
    "\n",
    "select p1.project_id, p1.employee_id\n",
    "from project p1\n",
    "join employee e1 \n",
    "on p1.employee_id=e1.employee_id\n",
    "where (p1.project_id, e1.experience_years) IN\n",
    "(select p.project_id, MAX(e.experience_years) as max_exp from project p\n",
    "join employee e\n",
    "on p.employee_id=e.employee_id \n",
    "group by p.project_id);\n",
    "\n",
    "Runtime: 335 ms, faster than 25.50% of MySQL online submissions for Project Employees III.\n",
    "Memory Usage: 0B, less than 100.00% of MySQL online submissions for Project Employees III.\n",
    "\n"
   ]
  },
  {
   "cell_type": "code",
   "execution_count": null,
   "metadata": {},
   "outputs": [],
   "source": [
    "Same as above but with 'USING' to join the tables. Dont forget to put the column names within brackets while joining the\n",
    "tables\n",
    "\n",
    "select p1.project_id, p1.employee_id\n",
    "from project p1\n",
    "join employee e1\n",
    "using (employee_id)\n",
    "where (p1.project_id, e1.experience_years) IN\n",
    "(select p.project_id, MAX(e.experience_years) as max_exp from project p\n",
    "join employee e\n",
    "using (employee_id)\n",
    "group by p.project_id);\n",
    "\n",
    "Runtime: 297 ms, faster than 69.97% of MySQL online submissions for Project Employees III.\n",
    "Memory Usage: 0B, less than 100.00% of MySQL online submissions for Project Employees III."
   ]
  }
 ],
 "metadata": {
  "kernelspec": {
   "display_name": "Python 3",
   "language": "python",
   "name": "python3"
  },
  "language_info": {
   "codemirror_mode": {
    "name": "ipython",
    "version": 3
   },
   "file_extension": ".py",
   "mimetype": "text/x-python",
   "name": "python",
   "nbconvert_exporter": "python",
   "pygments_lexer": "ipython3",
   "version": "3.7.4"
  }
 },
 "nbformat": 4,
 "nbformat_minor": 2
}

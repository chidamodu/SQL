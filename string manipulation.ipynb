{
 "cells": [
  {
   "cell_type": "code",
   "execution_count": 120,
   "metadata": {},
   "outputs": [],
   "source": [
    " String to Integer (atoi)\n",
    "\n",
    "#this version did not work out for float values \n",
    "#String to Integer (atoi)\n",
    "def myAtoi(s):\n",
    "#     d={'-':int(-), '+':int(+), '0':0, '1':1, '2':2, '3':3, '4':4, '5':5, '6':6, '7':7, '8':8, '9':9}\n",
    "    d=['-','+', '0','1','2','3','4','5','6','7','8','9']\n",
    "    res=''\n",
    "    s=s.strip().split()\n",
    "    for i in s:\n",
    "        if i[0] in d:\n",
    "            res+=i\n",
    "        else:\n",
    "            break\n",
    "    \n",
    "    \n",
    "    if res.strip():\n",
    "        if int(res) < (-2)**31:\n",
    "            return (-2)**31\n",
    "    \n",
    "    \n",
    "        elif int(res)>((2**31)-1):\n",
    "            return (2**31)-1\n",
    "    \n",
    "        else:\n",
    "            return int(res)\n",
    "        \n",
    "    else:\n",
    "        return 0\n",
    "        \n",
    "        \n",
    "    "
   ]
  },
  {
   "cell_type": "code",
   "execution_count": 121,
   "metadata": {},
   "outputs": [
    {
     "ename": "ValueError",
     "evalue": "invalid literal for int() with base 10: '3.14159'",
     "output_type": "error",
     "traceback": [
      "\u001b[0;31m---------------------------------------------------------------------------\u001b[0m",
      "\u001b[0;31mValueError\u001b[0m                                Traceback (most recent call last)",
      "\u001b[0;32m<ipython-input-121-c6fbbb7ca704>\u001b[0m in \u001b[0;36m<module>\u001b[0;34m\u001b[0m\n\u001b[0;32m----> 1\u001b[0;31m \u001b[0mmyAtoi\u001b[0m\u001b[0;34m(\u001b[0m\u001b[0;34m\"3.14159\"\u001b[0m\u001b[0;34m)\u001b[0m\u001b[0;34m\u001b[0m\u001b[0;34m\u001b[0m\u001b[0m\n\u001b[0m",
      "\u001b[0;32m<ipython-input-120-d6c885c2218e>\u001b[0m in \u001b[0;36mmyAtoi\u001b[0;34m(s)\u001b[0m\n\u001b[1;32m     14\u001b[0m \u001b[0;34m\u001b[0m\u001b[0m\n\u001b[1;32m     15\u001b[0m     \u001b[0;32mif\u001b[0m \u001b[0mres\u001b[0m\u001b[0;34m.\u001b[0m\u001b[0mstrip\u001b[0m\u001b[0;34m(\u001b[0m\u001b[0;34m)\u001b[0m\u001b[0;34m:\u001b[0m\u001b[0;34m\u001b[0m\u001b[0;34m\u001b[0m\u001b[0m\n\u001b[0;32m---> 16\u001b[0;31m         \u001b[0;32mif\u001b[0m \u001b[0mint\u001b[0m\u001b[0;34m(\u001b[0m\u001b[0mres\u001b[0m\u001b[0;34m)\u001b[0m \u001b[0;34m<\u001b[0m \u001b[0;34m(\u001b[0m\u001b[0;34m-\u001b[0m\u001b[0;36m2\u001b[0m\u001b[0;34m)\u001b[0m\u001b[0;34m**\u001b[0m\u001b[0;36m31\u001b[0m\u001b[0;34m:\u001b[0m\u001b[0;34m\u001b[0m\u001b[0;34m\u001b[0m\u001b[0m\n\u001b[0m\u001b[1;32m     17\u001b[0m             \u001b[0;32mreturn\u001b[0m \u001b[0;34m(\u001b[0m\u001b[0;34m-\u001b[0m\u001b[0;36m2\u001b[0m\u001b[0;34m)\u001b[0m\u001b[0;34m**\u001b[0m\u001b[0;36m31\u001b[0m\u001b[0;34m\u001b[0m\u001b[0;34m\u001b[0m\u001b[0m\n\u001b[1;32m     18\u001b[0m \u001b[0;34m\u001b[0m\u001b[0m\n",
      "\u001b[0;31mValueError\u001b[0m: invalid literal for int() with base 10: '3.14159'"
     ]
    }
   ],
   "source": [
    "myAtoi(\"3.14159\")"
   ]
  },
  {
   "cell_type": "code",
   "execution_count": 135,
   "metadata": {},
   "outputs": [],
   "source": [
    " String to Integer (atoi)\n",
    "\n",
    "import re\n",
    "def myAtoi(strn):\n",
    "        strn = strn.strip()\n",
    "        exp = re.compile(r\"^\\s*[-+]?\\d+\")\n",
    "        found = exp.findall(strn)\n",
    "        print(found)\n",
    "        if len(found) != 0:\n",
    "            num = int(found[0])\n",
    "            if num > 2**31 - 1:\n",
    "                return 2**31 - 1\n",
    "            elif num < -2**31:\n",
    "                return -2**31\n",
    "            else:\n",
    "                return num\n",
    "        else:\n",
    "            return 0\n",
    "        \n",
    "        \n",
    "# Runtime: 32 ms, faster than 98.46% of Python3 online submissions for String to Integer (atoi).\n",
    "# Memory Usage: 12.7 MB, less than 100.00% of Python3 online submissions for String to Integer (atoi)."
   ]
  },
  {
   "cell_type": "code",
   "execution_count": 136,
   "metadata": {},
   "outputs": [
    {
     "name": "stdout",
     "output_type": "stream",
     "text": [
      "['3']\n"
     ]
    },
    {
     "data": {
      "text/plain": [
       "3"
      ]
     },
     "execution_count": 136,
     "metadata": {},
     "output_type": "execute_result"
    }
   ],
   "source": [
    "myAtoi(\"3.14159\")"
   ]
  },
  {
   "cell_type": "code",
   "execution_count": 138,
   "metadata": {},
   "outputs": [],
   "source": [
    "def isPalindrome(x):\n",
    "    ori=x\n",
    "    res=0\n",
    "    if x<0:\n",
    "        return False\n",
    "    while x > 0:\n",
    "        res=(res*10)+ (x % 10)\n",
    "        print(res)\n",
    "        x//=10\n",
    "\n",
    "    if res==ori:\n",
    "        return True\n",
    "    return False"
   ]
  },
  {
   "cell_type": "code",
   "execution_count": 139,
   "metadata": {},
   "outputs": [
    {
     "name": "stdout",
     "output_type": "stream",
     "text": [
      "1\n",
      "12\n",
      "121\n"
     ]
    },
    {
     "data": {
      "text/plain": [
       "True"
      ]
     },
     "execution_count": 139,
     "metadata": {},
     "output_type": "execute_result"
    }
   ],
   "source": [
    "isPalindrome(121)"
   ]
  }
 ],
 "metadata": {
  "kernelspec": {
   "display_name": "Python 3",
   "language": "python",
   "name": "python3"
  },
  "language_info": {
   "codemirror_mode": {
    "name": "ipython",
    "version": 3
   },
   "file_extension": ".py",
   "mimetype": "text/x-python",
   "name": "python",
   "nbconvert_exporter": "python",
   "pygments_lexer": "ipython3",
   "version": "3.7.4"
  }
 },
 "nbformat": 4,
 "nbformat_minor": 2
}

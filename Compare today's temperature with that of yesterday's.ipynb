{
 "cells": [
  {
   "cell_type": "code",
   "execution_count": null,
   "metadata": {},
   "outputs": [],
   "source": [
    "Write your MySQL query statement below\n",
    "1. \n",
    "\n",
    "SELECT Temperature FROM Weather\n",
    "WHERE subdate(RecordDate, 1)\n",
    "\n",
    "\n",
    "2. \n",
    "SELECT id FROM Weather\n",
    "WHERE Temperature > 1\n",
    "\n",
    "3. \n",
    "\n",
    "SELECT id FROM Weather\n",
    "WHERE Temperature > (SELECT Temperature FROM Weather\n",
    "WHERE subdate(RecordDate, 1))\n",
    "ORDER BY id;\n",
    "\n"
   ]
  },
  {
   "cell_type": "code",
   "execution_count": null,
   "metadata": {},
   "outputs": [],
   "source": [
    "\n",
    "select w1.Id\n",
    "from Weather as w1, Weather as w2\n",
    "where w1.Temperature > w2.Temperature and w1.RecordDate = w2.RecordDate + INTERVAL 1 DAY;\n",
    "\n",
    "\n"
   ]
  },
  {
   "cell_type": "code",
   "execution_count": null,
   "metadata": {},
   "outputs": [],
   "source": [
    "SELECT w1.Id FROM Weather w1, Weather w2\n",
    "WHERE w1.Temperature > w2.Temperature AND DATEDIFF(w1.RecordDate, w2.RecordDate) = 1;\n",
    "\n",
    "\n"
   ]
  }
 ],
 "metadata": {
  "kernelspec": {
   "display_name": "Python 3",
   "language": "python",
   "name": "python3"
  },
  "language_info": {
   "codemirror_mode": {
    "name": "ipython",
    "version": 3
   },
   "file_extension": ".py",
   "mimetype": "text/x-python",
   "name": "python",
   "nbconvert_exporter": "python",
   "pygments_lexer": "ipython3",
   "version": "3.7.4"
  }
 },
 "nbformat": 4,
 "nbformat_minor": 2
}

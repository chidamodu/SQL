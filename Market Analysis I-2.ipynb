{
 "cells": [
  {
   "cell_type": "code",
   "execution_count": null,
   "metadata": {},
   "outputs": [],
   "source": [
    "my code\n",
    "\n",
    "select user_id as buyer_id, join_date, IFNULL(fog.item, 0) as orders_in_2019 from users\n",
    "left join\n",
    "(\n",
    "select buyer_id, count(item_id) as item from orders\n",
    "where YEAR(order_date)= \"2019\"\n",
    "group by buyer_id\n",
    ") fog\n",
    "on user_id=fog.buyer_id;\n",
    "\n",
    "Runtime: 1315 ms, faster than 5.03% of MySQL online submissions for Market Analysis I.\n",
    "Memory Usage: 0B, less than 100.00% of MySQL online submissions for Market Analysis I."
   ]
  },
  {
   "cell_type": "code",
   "execution_count": null,
   "metadata": {},
   "outputs": [],
   "source": [
    "an alternative solution from leetcode\n",
    "\n",
    "select u.user_id as \"buyer_id\", u.join_date, count(o.order_id) as \"orders_in_2019\"\n",
    "from Users u left join \n",
    "(select order_id, buyer_id from Orders where year(order_date) = '2019') as o\n",
    "on u.user_id = o.buyer_id\n",
    "group by u.user_id;\n",
    "\n",
    "Runtime: 601 ms, faster than 74.83% of MySQL online submissions for Market Analysis I.\n",
    "Memory Usage: 0B, less than 100.00% of MySQL online submissions for Market Analysis I."
   ]
  }
 ],
 "metadata": {
  "kernelspec": {
   "display_name": "Python 3",
   "language": "python",
   "name": "python3"
  },
  "language_info": {
   "codemirror_mode": {
    "name": "ipython",
    "version": 3
   },
   "file_extension": ".py",
   "mimetype": "text/x-python",
   "name": "python",
   "nbconvert_exporter": "python",
   "pygments_lexer": "ipython3",
   "version": "3.7.4"
  }
 },
 "nbformat": 4,
 "nbformat_minor": 2
}

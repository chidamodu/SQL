{
 "cells": [
  {
   "cell_type": "code",
   "execution_count": null,
   "metadata": {},
   "outputs": [],
   "source": [
    "SELECT DATE_FORMAT(trans_date,'%Y-%m') AS month,\n",
    "country,\n",
    "SUM(CASE WHEN state = 'approved' THEN 1 ELSE 0 END) AS approved_count,\n",
    "SUM(CASE WHEN state = 'approved' THEN amount ELSE 0 END) AS approved_amount,\n",
    "SUM(CASE WHEN state = '0' THEN 1 ELSE 0 END) AS chargeback_count,\n",
    "SUM(CASE WHEN state = '0' THEN amount ELSE 0 END) AS chargeback_amount\n",
    "FROM (\n",
    "SELECT id, country, amount,state, trans_date\n",
    "FROM Transactions T\n",
    "WHERE state = 'approved'\n",
    "UNION ALL\n",
    "SELECT C.trans_id,T1.country,T1.amount,0, C.trans_date\n",
    "FROM Chargebacks C JOIN Transactions T1 ON C.trans_id = T1.id) tbl\n",
    "GROUP BY month,country\n",
    ";\n",
    "Runtime: 291 ms, faster than 57.43% of MySQL online submissions for Monthly Transactions II.\n",
    "Memory Usage: 0B, less than 100.00% of MySQL online submissions for Monthly Transactions II.\n",
    "\n",
    "\n",
    "\n",
    "\n",
    "\n"
   ]
  },
  {
   "cell_type": "code",
   "execution_count": null,
   "metadata": {},
   "outputs": [],
   "source": [
    "tried this version but did not work\n",
    "# select left(trans_date, 7) as month, country, count(*) as approved_count, amount as approved_amount, (select count(*) from chargebacks c join transactions t on t.id=c.trans_id) as chargeback_count\n",
    "# from transactions\n",
    "# group by month, country;\n"
   ]
  },
  {
   "cell_type": "code",
   "execution_count": null,
   "metadata": {},
   "outputs": [],
   "source": [
    "this works except for the glitch but this does not have the date:  2019-09-18 in chargebacks table\n",
    "\n",
    "    select left(c.trans_date, 7) as month, count(*) as approved_count, sum(case when left(t.trans_date, 7)=left(c.trans_date, 7) then amount else 0 end) as approved_amount from transactions t\n",
    "join chargebacks c\n",
    "on left(t.trans_date, 7)=left(c.trans_date, 7)\n",
    "where t.state=\"approved\"\n",
    "group by left(c.trans_date, 7);\n",
    "\n"
   ]
  },
  {
   "cell_type": "code",
   "execution_count": null,
   "metadata": {},
   "outputs": [],
   "source": [
    "select t. month\n",
    "      ,t.country\n",
    "      ,sum(t.approved_count) as approved_count\n",
    "      ,sum(t.approved_amount) as approved_amount\n",
    "      ,sum(t.chargeback_count) as chargeback_count\n",
    "      ,sum(t.chargeback_amount) as chargeback_amount\n",
    " from (SELECT left(t.trans_date, 7) as month\n",
    "             ,t.country\n",
    "             ,sum(amount) as approved_amount\n",
    "             ,count(*) as approved_count\n",
    "             ,0 as chargeback_amount\n",
    "             ,0 as chargeback_count\n",
    "         from Transactions t\n",
    "        where t.state = 'approved' \n",
    "       #and t.id = 101\n",
    "      group by left(t.trans_date, 7) \n",
    "              ,t.country\n",
    "UNION ALL \n",
    "         SELECT left(c.trans_date, 7)  as month\n",
    "                ,t.country\n",
    "                ,0 as approved_amount\n",
    "                ,0 as approved_count          \n",
    "                ,sum(t.amount) as chargeback_amount\n",
    "                ,count(*) as chargeback_count\n",
    "            from Chargebacks c\n",
    "      inner join Transactions t\n",
    "              on t.id = c.trans_id\n",
    "       #and c.trans_id = 102\n",
    "        group by left(c.trans_date, 7)  \n",
    "                ,t.country )t  \n",
    "group by t.month, t.country\n",
    "\n",
    "Runtime: 302 ms, faster than 33.43% of MySQL online submissions for Monthly Transactions II.\n",
    "Memory Usage: 0B, less than 100.00% of MySQL online submissions for Monthly Transactions II."
   ]
  },
  {
   "cell_type": "code",
   "execution_count": null,
   "metadata": {},
   "outputs": [],
   "source": []
  },
  {
   "cell_type": "code",
   "execution_count": null,
   "metadata": {},
   "outputs": [],
   "source": [
    "Transactions table:\n",
    "+------+---------+----------+--------+------------+\n",
    "| id   | country | state    | amount | trans_date |\n",
    "+------+---------+----------+--------+------------+\n",
    "| 101  | US      | approved | 1000   | 2019-05-18 |\n",
    "| 102  | US      | declined | 2000   | 2019-05-19 |\n",
    "| 103  | US      | approved | 3000   | 2019-06-10 |\n",
    "| 104  | US      | approved | 4000   | 2019-06-13 |\n",
    "| 105  | US      | approved | 5000   | 2019-06-15 |\n",
    "+------+---------+----------+--------+------------+\n",
    "\n",
    "Chargebacks table:\n",
    "+------------+------------+\n",
    "| trans_id   | trans_date |\n",
    "+------------+------------+\n",
    "| 102        | 2019-05-29 |\n",
    "| 101        | 2019-06-30 |\n",
    "| 105        | 2019-09-18 |\n",
    "+------------+------------+"
   ]
  },
  {
   "cell_type": "code",
   "execution_count": null,
   "metadata": {},
   "outputs": [],
   "source": [
    "SELECT C.trans_id,T1.country,T1.amount,0, C.trans_date\n",
    "FROM Chargebacks C JOIN Transactions T1 ON C.trans_id = T1.id;\n",
    "\n",
    "\n",
    "{\"headers\": [\"trans_id\", \"country\", \"amount\", \"0\", \"trans_date\"], \"values\": [[101, \"US\", 1000, 0, \"2019-06-30\"], [102, \"US\", 2000, 0, \"2019-05-29\"], [105, \"US\", 5000, 0, \"2019-09-18\"]]}"
   ]
  },
  {
   "cell_type": "code",
   "execution_count": null,
   "metadata": {},
   "outputs": [],
   "source": [
    "SELECT id, country, amount,state, trans_date\n",
    "FROM Transactions T\n",
    "WHERE state = 'approved';\n",
    "\n",
    "glitch: id:104 can not be found in the outcome of this query\n",
    "{\"headers\": [\"id\", \"country\", \"amount\", \"state\", \"trans_date\"], \"values\": [[101, \"US\", 1000, \"approved\", \"2019-05-18\"], [103, \"US\", 3000, \"approved\", \"2019-06-10\"], [105, \"US\", 5000, \"approved\", \"2019-06-15\"]]}\n",
    "\n"
   ]
  },
  {
   "cell_type": "code",
   "execution_count": null,
   "metadata": {},
   "outputs": [],
   "source": [
    "i think there was a glitch on leetcode re the problem. my query worked. I could not print the 0 values for the dates \n",
    "that are available in one table but not in the other. but my logic was right. the code did not produce any outcome for\n",
    "id: 104 in the transactions table. weird!"
   ]
  },
  {
   "cell_type": "code",
   "execution_count": null,
   "metadata": {},
   "outputs": [],
   "source": [
    "SELECT id, country, amount,state, trans_date\n",
    "FROM Transactions T\n",
    "WHERE state = 'approved';\n",
    "UNION ALL\n",
    "SELECT C.trans_id,T1.country,T1.amount,0, C.trans_date\n",
    "FROM Chargebacks C JOIN Transactions T1 ON C.trans_id = T1.id;\n",
    "\n",
    "\n",
    "{\"headers\": [\"id\", \"country\", \"amount\", \"state\", \"trans_date\"], \"values\": [[101, \"US\", 1000, \"approved\", \"2019-05-18\"], [103, \"US\", 3000, \"approved\", \"2019-06-10\"], [105, \"US\", 5000, \"approved\", \"2019-06-15\"], [101, \"US\", 1000, \"0\", \"2019-06-30\"], [102, \"US\", 2000, \"0\", \"2019-05-29\"], [105, \"US\", 5000, \"0\", \"2019-09-18\"]]}"
   ]
  }
 ],
 "metadata": {
  "kernelspec": {
   "display_name": "Python 3",
   "language": "python",
   "name": "python3"
  },
  "language_info": {
   "codemirror_mode": {
    "name": "ipython",
    "version": 3
   },
   "file_extension": ".py",
   "mimetype": "text/x-python",
   "name": "python",
   "nbconvert_exporter": "python",
   "pygments_lexer": "ipython3",
   "version": "3.7.4"
  }
 },
 "nbformat": 4,
 "nbformat_minor": 2
}

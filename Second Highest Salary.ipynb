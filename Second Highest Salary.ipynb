{
 "cells": [
  {
   "cell_type": "code",
   "execution_count": null,
   "metadata": {},
   "outputs": [],
   "source": [
    "SELECT MAX(e1.Salary) AS SecondHighestSalary FROM Employee e1 WHERE e1.Salary < (SELECT MAX(Salary) FROM Employee);\n",
    "\n",
    "Runtime: 146 ms, faster than 47.39% of MySQL online submissions for Second Highest Salary."
   ]
  },
  {
   "cell_type": "code",
   "execution_count": null,
   "metadata": {},
   "outputs": [],
   "source": [
    "other variations I have tried for the same problem\n",
    "\n",
    "select CASE WHEN MIN(Salary) AS SecondHighestSalary ELSE NULL END\n",
    "from \n",
    "(\n",
    "SELECT Salary FROM Employee\n",
    "order by Salary DESC LIMIT 2\n",
    ") fog;\n",
    "\n",
    "\n"
   ]
  },
  {
   "cell_type": "code",
   "execution_count": null,
   "metadata": {},
   "outputs": [],
   "source": [
    "SELECT MAX(e1.Salary) AS SecondHighestSalary FROM Employee e1 WHERE e1.Salary NOT IN (SELECT MAX(Salary) FROM Employee);\n",
    "\n",
    "Outcome: Runtime: 131 ms, faster than 83.12% of MySQL online submissions for Second Highest Salary.\n"
   ]
  }
 ],
 "metadata": {
  "kernelspec": {
   "display_name": "Python 3",
   "language": "python",
   "name": "python3"
  },
  "language_info": {
   "codemirror_mode": {
    "name": "ipython",
    "version": 3
   },
   "file_extension": ".py",
   "mimetype": "text/x-python",
   "name": "python",
   "nbconvert_exporter": "python",
   "pygments_lexer": "ipython3",
   "version": "3.7.4"
  }
 },
 "nbformat": 4,
 "nbformat_minor": 2
}

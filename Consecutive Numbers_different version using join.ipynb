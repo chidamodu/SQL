{
 "cells": [
  {
   "cell_type": "code",
   "execution_count": null,
   "metadata": {},
   "outputs": [],
   "source": [
    "\n",
    "SELECT \n",
    "    DISTINCT l1.Num AS ConsecutiveNums\n",
    "FROM\n",
    "    Logs l1\n",
    "    JOIN\n",
    "    Logs l2\n",
    "    ON l1.Id = l2.Id - 1\n",
    "   \n",
    "    JOIN\n",
    "    Logs l3\n",
    "ON l2.Id = l3.Id - 1\n",
    "WHERE l1.Num = l2.Num AND l2.Num = l3.Num;\n",
    "\n",
    "\n",
    "Runtime: 327 ms, faster than 88.40% of MySQL online submissions for Consecutive Numbers.\n",
    "\n"
   ]
  }
 ],
 "metadata": {
  "kernelspec": {
   "display_name": "Python 3",
   "language": "python",
   "name": "python3"
  },
  "language_info": {
   "codemirror_mode": {
    "name": "ipython",
    "version": 3
   },
   "file_extension": ".py",
   "mimetype": "text/x-python",
   "name": "python",
   "nbconvert_exporter": "python",
   "pygments_lexer": "ipython3",
   "version": "3.7.4"
  }
 },
 "nbformat": 4,
 "nbformat_minor": 2
}

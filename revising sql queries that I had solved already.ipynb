{
 "cells": [
  {
   "cell_type": "code",
   "execution_count": null,
   "metadata": {},
   "outputs": [],
   "source": [
    "Trial/error\n",
    "# select DATE_FORMAT(t.trans_date, '%Y-%m') AS month, t.country, count(case when t.state=\"approved\" then t.amount as approved_count else 0 end), \n",
    "# sum(case when t.state=\"approved\" then t.amount as approved_amount else 0 end),\n",
    "# from transactions t\n",
    "# group by month;\n",
    "\n",
    "\n",
    "# left join chargebacks c\n",
    "# on t.\n",
    "\n",
    "\n",
    "# \"DATE_FORMAT(now(), '%Y-%m') AS dated_now\","
   ]
  },
  {
   "cell_type": "code",
   "execution_count": null,
   "metadata": {},
   "outputs": [],
   "source": [
    "this solution here is the same as the one below this cell but it did not work. it even gave the same answer; weird!\n",
    "select left(trans_date, 7) as month, country, \n",
    "\n",
    "sum(case when state=\"approved\" then 1 else 0 end) as approved_count,\n",
    "\n",
    "sum(case when state=\"approved\" then amount else 0 end) as approved_amount,\n",
    "\n",
    "sum(case when state=\"0\" then 1 else 0 end) as chargeback_count,\n",
    "\n",
    "sum(case when state=\"0\" then amount else 0 end) as chargeback_mount\n",
    "\n",
    "from\n",
    "(\n",
    "select t.id, t.country, t.amount, t.state, t.trans_date as trans_date from transactions t\n",
    "where state=\"approved\"\n",
    "union all\n",
    "select c.trans_id, t1.country, t1.amount, 0, c.trans_date from transactions t1\n",
    "join chargebacks c\n",
    "on t1.id=c.trans_id\n",
    ") fog\n",
    "group by month, country;"
   ]
  },
  {
   "cell_type": "code",
   "execution_count": null,
   "metadata": {},
   "outputs": [],
   "source": [
    "already submitted solution to the same problem\n",
    "\n",
    "SELECT left(trans_date,7) AS month,\n",
    "country,\n",
    "SUM(CASE WHEN state = 'approved' THEN 1 ELSE 0 END) AS approved_count,\n",
    "SUM(CASE WHEN state = 'approved' THEN amount ELSE 0 END) AS approved_amount,\n",
    "SUM(CASE WHEN state = '0' THEN 1 ELSE 0 END) AS chargeback_count,\n",
    "SUM(CASE WHEN state = '0' THEN amount ELSE 0 END) AS chargeback_amount\n",
    "FROM (\n",
    "SELECT id, country, amount,state, trans_date\n",
    "FROM Transactions T\n",
    "WHERE state = 'approved'\n",
    "UNION ALL\n",
    "SELECT C.trans_id,T1.country, 0, T1.amount,C.trans_date\n",
    "FROM Chargebacks C JOIN Transactions T1 ON C.trans_id = T1.id) tbl\n",
    "GROUP BY month,country\n",
    ";\n",
    "\n",
    "\n"
   ]
  },
  {
   "cell_type": "code",
   "execution_count": null,
   "metadata": {},
   "outputs": [],
   "source": [
    "# (\n",
    "# select left(t1.trans_date, 7) as month, t1.country,\n",
    "# count(*) as trans_count, sum(t1.amount) as trans_total_amount\n",
    "# from transactions t1\n",
    "# group by month, country\n",
    "\n",
    "# join\n",
    "    \n",
    "# select left(t2.trans_date, 7) as month, t2.country,\n",
    "# count(*) as approved_count, sum(t2.amount) as approved_total_amount\n",
    "# from transactions t2\n",
    "# where state=\"approved\"\n",
    "# group by month, country\n",
    "    \n",
    "    \n",
    "\n",
    "    \n",
    "select left(trans_date, 7) as month, country, count(*) as trans_count,\n",
    "\n",
    "sum(case when state=\"approved\" then 1 else 0 end) as approved_count, \n",
    "\n",
    "sum(amount) as trans_total_amount, sum(case when state=\"approved\" then amount else 0 end) as approved_total_amount\n",
    "\n",
    "from transactions\n",
    "group by month, country;\n",
    "\n",
    "\n",
    "\n",
    "\n",
    "\n",
    "\n"
   ]
  },
  {
   "cell_type": "code",
   "execution_count": null,
   "metadata": {},
   "outputs": [],
   "source": [
    "select u.user_id as buyer_id, u.join_date, count(fog.order_id) as orders_in_2019\n",
    "from users u\n",
    "left join \n",
    "\n",
    "(select order_id, buyer_id from orders where left(order_date, 4)=\"2019\") fog\n",
    "\n",
    "on u.user_id=fog.buyer_id\n",
    "group by u.user_id;\n",
    "\n"
   ]
  },
  {
   "cell_type": "code",
   "execution_count": null,
   "metadata": {},
   "outputs": [],
   "source": [
    "select u.user_id as buyer_id, u.join_date, count(fog.order_id) as orders_in_2019\n",
    "from users u\n",
    "left join \n",
    "\n",
    "(select order_id, buyer_id from orders where left(order_date, 4)=\"2019\") fog\n",
    "\n",
    "on u.user_id=fog.buyer_id\n",
    "group by u.user_id;\n",
    "\n",
    "------------------------------------------------------------------------------------------------\n",
    "\n",
    "select user_id as buyer_id, join_date, IFNULL(fog.item, 0) as orders_in_2019 from users\n",
    "left join\n",
    "(\n",
    "select buyer_id, count(item_id) as item from orders\n",
    "where YEAR(order_date)= \"2019\"\n",
    "group by buyer_id\n",
    ") fog\n",
    "on user_id=fog.buyer_id;"
   ]
  },
  {
   "cell_type": "code",
   "execution_count": null,
   "metadata": {},
   "outputs": [],
   "source": [
    "Article Views II\n",
    "\n",
    "select distinct(viewer_id) as id from views\n",
    "group by viewer_id, view_date\n",
    "having count(distinct article_id)>1;"
   ]
  }
 ],
 "metadata": {
  "kernelspec": {
   "display_name": "Python 3",
   "language": "python",
   "name": "python3"
  },
  "language_info": {
   "codemirror_mode": {
    "name": "ipython",
    "version": 3
   },
   "file_extension": ".py",
   "mimetype": "text/x-python",
   "name": "python",
   "nbconvert_exporter": "python",
   "pygments_lexer": "ipython3",
   "version": "3.7.4"
  }
 },
 "nbformat": 4,
 "nbformat_minor": 2
}

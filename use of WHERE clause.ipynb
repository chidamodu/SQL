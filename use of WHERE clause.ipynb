{
 "cells": [
  {
   "cell_type": "code",
   "execution_count": null,
   "metadata": {},
   "outputs": [],
   "source": [
    "This form here was faster than regular select statement: meaning having everything done in one select statement which is in \n",
    "the cell below\n",
    "\n",
    "SELECT * FROM\n",
    "(\n",
    "SELECT * FROM cinema\n",
    "WHERE id%2 !=0 and description != \"boring\"\n",
    ")tb\n",
    "ORDER BY rating DESC;\n",
    "\n",
    "\n",
    "Runtime: 121 ms, faster than 81.31% of MySQL online submissions for Not Boring Movies.\n"
   ]
  },
  {
   "cell_type": "code",
   "execution_count": null,
   "metadata": {},
   "outputs": [],
   "source": [
    "The above query was faster than the one mentioned here\n",
    "\n",
    "SELECT * FROM\n",
    "(\n",
    "SELECT * FROM cinema\n",
    "WHERE description != \"boring\"\n",
    ")tb\n",
    "WHERE id%2 !=0\n",
    "ORDER BY rating DESC;"
   ]
  },
  {
   "cell_type": "code",
   "execution_count": null,
   "metadata": {},
   "outputs": [],
   "source": [
    "Definitely faster than the one mentioned here\n",
    "\n",
    "SELECT id, movie, description, rating\n",
    "FROM cinema\n",
    "WHERE id%2 !=0 and description != \"boring\"\n",
    "ORDER BY rating DESC;\n",
    "\n"
   ]
  }
 ],
 "metadata": {
  "kernelspec": {
   "display_name": "Python 3",
   "language": "python",
   "name": "python3"
  },
  "language_info": {
   "codemirror_mode": {
    "name": "ipython",
    "version": 3
   },
   "file_extension": ".py",
   "mimetype": "text/x-python",
   "name": "python",
   "nbconvert_exporter": "python",
   "pygments_lexer": "ipython3",
   "version": "3.7.4"
  }
 },
 "nbformat": 4,
 "nbformat_minor": 2
}

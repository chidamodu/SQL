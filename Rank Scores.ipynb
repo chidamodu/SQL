{
 "cells": [
  {
   "cell_type": "code",
   "execution_count": null,
   "metadata": {},
   "outputs": [],
   "source": [
    "i tried this\n",
    "SELECT    Score,\n",
    "          @curRank := @curRank + 1 AS Rank\n",
    "FROM      Score (SELECT @curRank := 1) \n",
    "ORDER BY  Score DESC;\n",
    "\n",
    "\n"
   ]
  },
  {
   "cell_type": "code",
   "execution_count": null,
   "metadata": {},
   "outputs": [],
   "source": [
    "i tried this\n",
    "SELECT    Score, DENSE_RANK() OVER(order by Score DESC) dr1 AS Rank\n",
    "FROM      Scores\n",
    "ORDER BY Score DESC;\n",
    "\n",
    "\n",
    "\n",
    "\n"
   ]
  },
  {
   "cell_type": "code",
   "execution_count": null,
   "metadata": {},
   "outputs": [],
   "source": [
    "select \n",
    "    Score,\n",
    "    dense_rank() over (order by score desc) As Rank\n",
    "from Scores\n",
    "order by score desc;\n",
    "\n"
   ]
  },
  {
   "cell_type": "code",
   "execution_count": null,
   "metadata": {},
   "outputs": [],
   "source": [
    "This solution here worked:\n",
    "\n",
    "SELECT  s1.Score, COUNT(DISTINCT s2.Score) AS Rank FROM Scores s1, Scores s2 WHERE s1.Score <= s2.Score GROUP BY s1.Id  ORDER BY s1.Score DESC;\n",
    "\n",
    "\n",
    "Runtime: 709 ms, faster than 15.21% of MySQL online submissions for Rank Scores.\n"
   ]
  }
 ],
 "metadata": {
  "kernelspec": {
   "display_name": "Python 3",
   "language": "python",
   "name": "python3"
  },
  "language_info": {
   "codemirror_mode": {
    "name": "ipython",
    "version": 3
   },
   "file_extension": ".py",
   "mimetype": "text/x-python",
   "name": "python",
   "nbconvert_exporter": "python",
   "pygments_lexer": "ipython3",
   "version": "3.7.4"
  }
 },
 "nbformat": 4,
 "nbformat_minor": 2
}

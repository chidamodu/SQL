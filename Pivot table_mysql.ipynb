{
 "cells": [
  {
   "cell_type": "code",
   "execution_count": null,
   "metadata": {},
   "outputs": [],
   "source": [
    "This gives a clean output with null values converted into 0s\n",
    "SELECT id, \n",
    "COALESCE(SUM(CASE WHEN month=\"Jan\" THEN revenue end), 0) AS Jan_revenue, \n",
    "COALESCE(SUM(CASE WHEN month=\"Feb\" THEN revenue end), 0) AS Feb_revenue,\n",
    "COALESCE(SUM(CASE WHEN month=\"Mar\" THEN revenue end), 0) AS Mar_revenue,\n",
    "COALESCE(SUM(CASE WHEN month=\"Apr\" THEN revenue end), 0) AS Apr_revenue,\n",
    "COALESCE(SUM(CASE WHEN month=\"May\" THEN revenue end), 0) AS May_revenue,\n",
    "COALESCE(SUM(CASE WHEN month=\"Jun\" THEN revenue end), 0) AS Jun_revenue,\n",
    "COALESCE(SUM(CASE WHEN month=\"Jul\" THEN revenue end), 0) AS Jul_revenue,\n",
    "COALESCE(SUM(CASE WHEN month=\"Aug\" THEN revenue end), 0) AS Aug_revenue,\n",
    "COALESCE(SUM(CASE WHEN month=\"Sep\" THEN revenue end), 0) AS Sep_revenue,\n",
    "COALESCE(SUM(CASE WHEN month=\"Oct\" THEN revenue end), 0) AS Oct_revenue,\n",
    "COALESCE(SUM(CASE WHEN month=\"Nov\" THEN revenue end), 0) AS Nov_revenue,\n",
    "COALESCE(SUM(CASE WHEN month=\"Dec\" THEN revenue end), 0) AS Dec_revenue\n",
    "FROM department\n",
    "GROUP BY id;\n",
    "\n",
    "\n",
    "\n",
    "\n",
    "If you have to have null in the output:\n",
    "SELECT id,\n",
    "SUM(CASE WHEN month=\"Jan\" THEN revenue else null end) AS Jan_Revenue, \n",
    "SUM(CASE WHEN month=\"Feb\" THEN revenue else null end) AS Feb_Revenue,\n",
    "SUM(CASE WHEN month=\"Mar\" THEN revenue else null end) AS Mar_Revenue,\n",
    "SUM(CASE WHEN month=\"Apr\" THEN revenue else null end) AS Apr_Revenue,\n",
    "SUM(CASE WHEN month=\"May\" THEN revenue else null end) AS May_Revenue,\n",
    "SUM(CASE WHEN month=\"Jun\" THEN revenue else null end) AS Jun_Revenue,\n",
    "SUM(CASE WHEN month=\"Jul\" THEN revenue else null end) AS Jul_Revenue,\n",
    "SUM(CASE WHEN month=\"Aug\" THEN revenue else null end) AS Aug_Revenue,\n",
    "SUM(CASE WHEN month=\"Sep\" THEN revenue else null end) AS Sep_Revenue,\n",
    "SUM(CASE WHEN month=\"Oct\" THEN revenue else null end) AS Oct_Revenue,\n",
    "SUM(CASE WHEN month=\"Nov\" THEN revenue else null end) AS Nov_Revenue,\n",
    "SUM(CASE WHEN month=\"Dec\" THEN revenue else null end) AS Dec_Revenue\n",
    "FROM department\n",
    "GROUP BY id;\n",
    "\n",
    "Output: {\"headers\":[\"id\",\"Jan_Revenue\",\"Feb_Revenue\",\"Mar_Revenue\",\"Apr_Revenue\",\"May_Revenue\",\"Jun_Revenue\",\"Jul_Revenue\",\"Aug_Revenue\",\"Sep_Revenue\",\"Oct_Revenue\",\"Nov_Revenue\",\"Dec_Revenue\"],\"values\":[[1,8000,7000,6000,null,null,null,null,null,null,null,null,null],[2,9000,null,null,null,null,null,null,null,null,null,null,null],[3,null,10000,null,null,null,null,null,null,null,null,null,null]]}\n",
    "\n",
    "\n",
    "I thought it would be less time consuming if there is a way to automate the column name selection and value assignment while creating pivot table. Tried the following but it did not work; not sure about the syntax. \n",
    "SELECT id,\n",
    "EXPAND(SUM(CASE WHEN month=(SELECT DISTINCT(month) AS month_name FROM department) s1 THEN revenue else null)) As s1.month_name\n",
    "FROM department\n",
    "GROUP BY id;\n",
    "\n"
   ]
  }
 ],
 "metadata": {
  "kernelspec": {
   "display_name": "Python 3",
   "language": "python",
   "name": "python3"
  },
  "language_info": {
   "codemirror_mode": {
    "name": "ipython",
    "version": 3
   },
   "file_extension": ".py",
   "mimetype": "text/x-python",
   "name": "python",
   "nbconvert_exporter": "python",
   "pygments_lexer": "ipython3",
   "version": "3.7.4"
  }
 },
 "nbformat": 4,
 "nbformat_minor": 2
}

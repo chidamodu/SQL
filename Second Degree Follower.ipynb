{
 "cells": [
  {
   "cell_type": "code",
   "execution_count": null,
   "metadata": {},
   "outputs": [],
   "source": [
    "Yay! I got it worked!\n",
    "\n",
    "select distinct(f1.followee) as follower, count(distinct f1.follower) as num\n",
    "from follow f1\n",
    "join\n",
    "follow f2\n",
    "on f1.followee=f2.follower\n",
    "group by follower\n",
    "having num is not null;\n",
    "\n",
    "\n",
    "Runtime: 536 ms, faster than 11.43% of MySQL online submissions for Second Degree Follower.\n",
    "Memory Usage: 0B, less than 100.00% of MySQL online submissions for Second Degree Follower.\n"
   ]
  },
  {
   "cell_type": "code",
   "execution_count": null,
   "metadata": {},
   "outputs": [],
   "source": [
    "look, look, look my code is awesome! I did not add distinct the first time and that is why it did not work look like!\n",
    "It is by far has given the best result in terms of performance\n",
    "\n",
    "Runtime: 226 ms, faster than 86.19% of MySQL online submissions for Second Degree Follower.\n",
    "Memory Usage: 0B, less than 100.00% of MySQL online submissions for Second Degree Follower.\n",
    "    \n",
    "    \n",
    "\n",
    "select followee as follower, count(distinct follower) as num \n",
    "from follow\n",
    "where followee in (select distinct(follower) from follow)\n",
    "group by followee\n",
    "having num >0;"
   ]
  },
  {
   "cell_type": "code",
   "execution_count": null,
   "metadata": {},
   "outputs": [],
   "source": [
    "This alternative solution coded by me works too:\n",
    "    \n",
    "    \n",
    "select distinct(followee) as follower, count(distinct follower) as num from follow\n",
    "where followee in \n",
    "(\n",
    "select distinct(f1.followee)\n",
    "from follow f1\n",
    "join\n",
    "follow f2\n",
    "on f1.followee=f2.follower\n",
    ")\n",
    "group by followee;\n",
    "\n",
    "Runtime: 811 ms, faster than 5.02% of MySQL online submissions for Second Degree Follower.\n",
    "Memory Usage: 0B, less than 100.00% of MySQL online submissions for Second Degree Follower."
   ]
  },
  {
   "cell_type": "code",
   "execution_count": null,
   "metadata": {},
   "outputs": [],
   "source": [
    "The same solution as the one in the immediate cell above, but without distinct in the subquery. Results in boosting the\n",
    "performance!\n",
    "\n",
    "\n",
    "select distinct(followee) as follower, count(distinct follower) as num from follow\n",
    "where followee in \n",
    "(\n",
    "select f1.followee\n",
    "from follow f1\n",
    "join\n",
    "follow f2\n",
    "on f1.followee=f2.follower\n",
    ")\n",
    "group by followee;\n",
    "\n",
    "\n",
    "Runtime: 406 ms, faster than 21.75% of MySQL online submissions for Second Degree Follower.\n",
    "Memory Usage: 0B, less than 100.00% of MySQL online submissions for Second Degree Follower.\n",
    "\n"
   ]
  },
  {
   "cell_type": "code",
   "execution_count": null,
   "metadata": {},
   "outputs": [],
   "source": [
    "Alternative solution joining tables twice in separate sub queries. I thought it was super redundant. Looks like the SQL\n",
    "engine prefers simplicity and the more you not complicate things the better fetching the results take, I think!\n",
    "\n",
    "select follower, follower_num as num\n",
    "from (select follower, count(distinct followee) as followee_num from follow group by follower) a\n",
    "left join (select followee, count(distinct follower) as follower_num from follow group by followee) b\n",
    "on a.follower = b.followee\n",
    "where followee is not null\n",
    ";\n",
    "\n",
    "Runtime: 310 ms, faster than 74.67% of MySQL online submissions for Second Degree Follower.\n",
    "Memory Usage: 0B, less than 100.00% of MySQL online submissions for Second Degree Follower.\n"
   ]
  },
  {
   "cell_type": "code",
   "execution_count": null,
   "metadata": {},
   "outputs": [],
   "source": [
    "have tried the following so far\n",
    "\n",
    "# select followee as follower, count(follower) as num \n",
    "# from follow\n",
    "# where followee in (select distinct(follower) from follow)\n",
    "# group by followee\n",
    "# having num >=1;\n",
    "\n",
    "\n",
    "# select distinct(f1.followee) as follower, count(f1.follower) as num\n",
    "# from follow f1\n",
    "# join\n",
    "# follow f2\n",
    "# on f1.followee=f2.follower\n",
    "# group by f1.followee;\n",
    "\n",
    "\n",
    "# select distinct(followee) as follower, count(follower) as num from follow\n",
    "# where followee in \n",
    "# (\n",
    "# select distinct(f1.followee)\n",
    "# from follow f1\n",
    "# join\n",
    "# follow f2\n",
    "# on f1.followee=f2.follower\n",
    "# )\n",
    "# group by followee;\n",
    "\n"
   ]
  }
 ],
 "metadata": {
  "kernelspec": {
   "display_name": "Python 3",
   "language": "python",
   "name": "python3"
  },
  "language_info": {
   "codemirror_mode": {
    "name": "ipython",
    "version": 3
   },
   "file_extension": ".py",
   "mimetype": "text/x-python",
   "name": "python",
   "nbconvert_exporter": "python",
   "pygments_lexer": "ipython3",
   "version": "3.7.4"
  }
 },
 "nbformat": 4,
 "nbformat_minor": 2
}

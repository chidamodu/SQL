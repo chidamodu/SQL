{
 "cells": [
  {
   "cell_type": "code",
   "execution_count": null,
   "metadata": {},
   "outputs": [],
   "source": [
    "select  extra as report_reason , count(distinct post_id) as report_count\n",
    "from actions\n",
    "where action=\"report\" and action_date = \"2019-07-04\"\n",
    "group by extra;\n",
    "\n",
    "Runtime: 422 ms, faster than 68.67% of MySQL online submissions for Reported Posts.\n",
    "Memory Usage: 0B, less than 100.00% of MySQL online submissions for Reported Posts.\n",
    "\n"
   ]
  },
  {
   "cell_type": "code",
   "execution_count": null,
   "metadata": {},
   "outputs": [],
   "source": [
    "select  extra as report_reason , count(distinct post_id) as report_count\n",
    "from actions\n",
    "where action=\"report\" and action_date = DATE_SUB(\"2019-07-05\", INTERVAL 1 DAY)\n",
    "group by extra;\n",
    "\n",
    "Runtime: 430 ms, faster than 55.44% of MySQL online submissions for Reported Posts.\n",
    "Memory Usage: 0B, less than 100.00% of MySQL online submissions for Reported Posts."
   ]
  }
 ],
 "metadata": {
  "kernelspec": {
   "display_name": "Python 3",
   "language": "python",
   "name": "python3"
  },
  "language_info": {
   "codemirror_mode": {
    "name": "ipython",
    "version": 3
   },
   "file_extension": ".py",
   "mimetype": "text/x-python",
   "name": "python",
   "nbconvert_exporter": "python",
   "pygments_lexer": "ipython3",
   "version": "3.7.4"
  }
 },
 "nbformat": 4,
 "nbformat_minor": 2
}

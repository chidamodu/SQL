{
 "cells": [
  {
   "cell_type": "code",
   "execution_count": null,
   "metadata": {},
   "outputs": [],
   "source": [
    "This one did better\n",
    "\n",
    "CREATE FUNCTION getNthHighestSalary(N INT) RETURNS INT\n",
    "BEGIN\n",
    "\n",
    "DECLARE M INT;\n",
    "SET M = N - 1;\n",
    "  RETURN (\n",
    "    \n",
    "      SELECT DISTINCT Salary\n",
    "      FROM Employee\n",
    "      ORDER BY Salary DESC\n",
    "      LIMIT 1 OFFSET M\n",
    "      \n",
    "  );\n",
    "END\n",
    "\n",
    "\n",
    "       \n",
    "\n"
   ]
  },
  {
   "cell_type": "code",
   "execution_count": null,
   "metadata": {},
   "outputs": [],
   "source": [
    "other variations that I tried"
   ]
  },
  {
   "cell_type": "code",
   "execution_count": null,
   "metadata": {},
   "outputs": [],
   "source": [
    "CREATE FUNCTION getNthHighestSalary(N INT) RETURNS INT\n",
    "BEGIN\n",
    "  DECLARE nth int;\n",
    "      SELECT N-1 INTO nth;\n",
    "\n",
    "          RETURN (\n",
    "      # Write your MySQL query statement below.\n",
    "      SELECT Salary\n",
    "      FROM Employee\n",
    "      GROUP BY Salary\n",
    "      ORDER BY Salary DESC\n",
    "      LIMIT 1 OFFSET nth\n",
    "  );\n",
    "END\n",
    "\n"
   ]
  },
  {
   "cell_type": "code",
   "execution_count": null,
   "metadata": {},
   "outputs": [],
   "source": [
    "CREATE FUNCTION getNthHighestSalary(@N INT) RETURNS INT AS\n",
    "BEGIN\n",
    "    RETURN (\n",
    "        /* Write your T-SQL query statement below. */\n",
    "        SELECT Salary FROM \n",
    "        (\n",
    "            SELECT\n",
    "                row_number() OVER (ORDER BY salary DESC) AS row_num,            \n",
    "                emp.salary\n",
    "            FROM (SELECT DISTINCT Salary FROM Employee) emp\n",
    "        ) result\n",
    "        WHERE row_num = @N        \n",
    "    );\n",
    "END\n",
    "\n",
    "\n",
    "\n"
   ]
  }
 ],
 "metadata": {
  "kernelspec": {
   "display_name": "Python 3",
   "language": "python",
   "name": "python3"
  },
  "language_info": {
   "codemirror_mode": {
    "name": "ipython",
    "version": 3
   },
   "file_extension": ".py",
   "mimetype": "text/x-python",
   "name": "python",
   "nbconvert_exporter": "python",
   "pygments_lexer": "ipython3",
   "version": "3.7.4"
  }
 },
 "nbformat": 4,
 "nbformat_minor": 2
}

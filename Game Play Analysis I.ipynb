{
 "cells": [
  {
   "cell_type": "code",
   "execution_count": null,
   "metadata": {},
   "outputs": [],
   "source": [
    "select player_id, min(event_date) as first_login\n",
    "from activity\n",
    "group by player_id;\n",
    "\n",
    "\n",
    "Runtime: 622 ms, faster than 5.05% of MySQL online submissions for Game Play Analysis I.\n",
    "Memory Usage: 0B, less than 100.00% of MySQL online submissions for Game Play Analysis I."
   ]
  },
  {
   "cell_type": "code",
   "execution_count": null,
   "metadata": {},
   "outputs": [],
   "source": [
    "an alternative solution from leetcode\n",
    "\n",
    "select a.player_id,a.event_date as first_login\n",
    "from (select player_id,event_date,dense_rank() over (partition by player_id order by event_date)\n",
    "as Rank\n",
    "from activity) as a\n",
    "where Rank < 2;\n",
    "\n",
    "\n",
    "dense rank Vs. rank\n",
    "\n",
    "RANK gives you the ranking within your ordered partition. Ties are assigned the same rank, with the next ranking(s)\n",
    "skipped.\n",
    "\n",
    "DENSE_RANK again gives you the ranking within your ordered partition, but the ranks are consecutive.\n",
    "No ranks are skipped if there are ranks with multiple items."
   ]
  }
 ],
 "metadata": {
  "kernelspec": {
   "display_name": "Python 3",
   "language": "python",
   "name": "python3"
  },
  "language_info": {
   "codemirror_mode": {
    "name": "ipython",
    "version": 3
   },
   "file_extension": ".py",
   "mimetype": "text/x-python",
   "name": "python",
   "nbconvert_exporter": "python",
   "pygments_lexer": "ipython3",
   "version": "3.7.4"
  }
 },
 "nbformat": 4,
 "nbformat_minor": 2
}

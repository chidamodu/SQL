{
 "cells": [
  {
   "cell_type": "code",
   "execution_count": null,
   "metadata": {},
   "outputs": [],
   "source": [
    "select distinct s.product_id, p.product_name from sales s\n",
    "join product p\n",
    "on s.product_id=p.product_id\n",
    "where s.sale_date between \"2019-01-01\" and \"2019-03-31\" and\n",
    "s.product_id not in\n",
    "(\n",
    "select distinct product_id from sales\n",
    "where sale_date > \"2019-03-31\" \n",
    ");\n",
    "\n",
    "\n",
    "Output\n",
    "[[1, \"v\"], [2, \"jfrkzmmkoo\"], [4, \"btmwpadknq\"], [5, \"udmznzsra\"], [6, \"uksl\"], [7, \"sqsbnzsv\"], [8, \"quvwyl\"], [9, \"fvsh\"], [10, \"qerbdrvj\"], [11, \"hzvah\"], [14, \"vx\"], [15, \"jzojymmu\"], [16, \"iPhone\"], [17, \"gffqywcdo\"], [18, \"cyjwtmt\"], [19, \"n\"], [20, \"w\"], [21, \"knvnewti\"], [22, \"ctpwdf\"], [23, \"lpyontofln\"], [25, \"ghfk\"], [26, \"nb\"], [27, \"bwmqpbcwte\"], [29, \"bmnvfgga\"], [30, \"vwi\"], [32, \"aeo\"], [34, \"v\"], [35, \"ah\"], [36, \"kgda\"], [37, \"mpagcdoyea\"], [38, \"norrpnmv\"], [40, \"upkikw\"], [41, \"vwru\"], [42, \"noktyjrgsh\"], [44, \"ksepshidwk\"], [45, \"xsmu\"], [47, \"cdpedt\"], [48, \"gcu\"], [49, \"debitkp\"], [50, \"gujxmhcubz\"]]}\n",
    "\n",
    "\n",
    "Expected\n",
    "{\"headers\":[\"product_id\",\"product_name\"],\"values\":[[1,\"v\"],[2,\"jfrkzmmkoo\"],[4,\"btmwpadknq\"],[5,\"udmznzsra\"],[6,\"uksl\"],[7,\"sqsbnzsv\"],[8,\"quvwyl\"],[9,\"fvsh\"],[10,\"qerbdrvj\"],[11,\"hzvah\"],[14,\"vx\"],[15,\"jzojymmu\"],[16,\"iPhone\"],[17,\"gffqywcdo\"],[18,\"cyjwtmt\"],[19,\"n\"],[20,\"w\"],[21,\"knvnewti\"],[22,\"ctpwdf\"],[23,\"lpyontofln\"],[25,\"ghfk\"],[26,\"nb\"],[27,\"bwmqpbcwte\"],[29,\"bmnvfgga\"],[30,\"vwi\"],[32,\"aeo\"],[34,\"v\"],[35,\"ah\"],[36,\"kgda\"],[38,\"norrpnmv\"],[40,\"upkikw\"],[41,\"vwru\"],[42,\"noktyjrgsh\"],[44,\"ksepshidwk\"],[45,\"xsmu\"],[47,\"cdpedt\"],[48,\"gcu\"],[49,\"debitkp\"],[50,\"gujxmhcubz\"]]}\n",
    "\n"
   ]
  },
  {
   "cell_type": "code",
   "execution_count": null,
   "metadata": {},
   "outputs": [],
   "source": [
    "select distinct p.product_id, p.product_name from product p\n",
    "where p.product_id in\n",
    "(\n",
    "select product_id from sales\n",
    "group by product_id\n",
    "having MIN(sale_date) >=\"2019-01-01\" and MAX(sale_date)<=\"2019-03-31\" \n",
    ");\n",
    "\n",
    "Runtime: 779 ms, faster than 95.95% of MySQL online submissions for Sales Analysis III.\n",
    "Memory Usage: 0B, less than 100.00% of MySQL online submissions for Sales Analysis III.\n",
    "\n",
    "FYI: The HAVING clause is used for aggregate functions\n",
    "\n",
    "\n"
   ]
  }
 ],
 "metadata": {
  "kernelspec": {
   "display_name": "Python 3",
   "language": "python",
   "name": "python3"
  },
  "language_info": {
   "codemirror_mode": {
    "name": "ipython",
    "version": 3
   },
   "file_extension": ".py",
   "mimetype": "text/x-python",
   "name": "python",
   "nbconvert_exporter": "python",
   "pygments_lexer": "ipython3",
   "version": "3.7.4"
  }
 },
 "nbformat": 4,
 "nbformat_minor": 2
}

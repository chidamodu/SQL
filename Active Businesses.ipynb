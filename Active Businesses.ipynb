{
 "cells": [
  {
   "cell_type": "code",
   "execution_count": null,
   "metadata": {},
   "outputs": [],
   "source": [
    "select e.business_id as business_id from events e\n",
    "join\n",
    "(\n",
    "select event_type, avg(occurences) as event_avg \n",
    "from events \n",
    "group by event_type   \n",
    ") fog\n",
    "on e.event_type=fog.event_type\n",
    "where e.occurences>fog.event_avg\n",
    "group by e.business_id\n",
    "having count(*) > 1\n",
    ";\n",
    "\n",
    "Runtime: 610 ms, faster than 95.11% of MySQL online submissions for Active Businesses.\n",
    "Memory Usage: 0B, less than 100.00% of MySQL online submissions for Active Businesses.\n",
    "\n",
    "\n"
   ]
  },
  {
   "cell_type": "code",
   "execution_count": null,
   "metadata": {},
   "outputs": [],
   "source": [
    "select goat.business_id from\n",
    "(\n",
    "select cat.business_id as business_id, count(*) as no_times from\n",
    "\n",
    "(select e.business_id as business_id, e.event_type as event_type, avg(e.occurences) as business_avg from events e\n",
    "group by e.business_id, e.event_type) cat\n",
    "\n",
    "join\n",
    "\n",
    "(\n",
    "select event_type, avg(occurences) as event_avg \n",
    "from events \n",
    "group by event_type   \n",
    ") fog\n",
    "\n",
    "on cat.event_type=fog.event_type\n",
    "where cat.business_avg>fog.event_avg\n",
    "group by cat.business_id\n",
    ") goat\n",
    "where goat.no_times>1\n",
    ";\n",
    "\n",
    "it worked but the logic is not right and was faster only than 5% of online submission. I calculated an additional average\n",
    "unnecessarily.\n",
    "\n",
    "\n",
    "I have to say that I also thought about row number and incrementing it by 1 for every additional record per business_id\n",
    "and getting the one with more than 1: did not execute it because I was not super confident on using the syntax to execute\n",
    "the row number\n",
    "    \n",
    "# @rownum := @rownum + 1 as row_number\n",
    "# (select @row_count:=0) goat\n",
    "\n",
    "# where business_avg > fog.event_avg"
   ]
  }
 ],
 "metadata": {
  "kernelspec": {
   "display_name": "Python 3",
   "language": "python",
   "name": "python3"
  },
  "language_info": {
   "codemirror_mode": {
    "name": "ipython",
    "version": 3
   },
   "file_extension": ".py",
   "mimetype": "text/x-python",
   "name": "python",
   "nbconvert_exporter": "python",
   "pygments_lexer": "ipython3",
   "version": "3.7.4"
  }
 },
 "nbformat": 4,
 "nbformat_minor": 2
}

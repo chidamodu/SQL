{
 "cells": [
  {
   "cell_type": "code",
   "execution_count": null,
   "metadata": {},
   "outputs": [],
   "source": [
    "I have a Table for Customers by name : Customer_SCD in SQL I have 3 Columns present in it : Customer_Name, \n",
    "Customer_ID Customer_TimeStamp\n",
    "\n",
    "There are duplicate entries in this table with different Timestamp.\n",
    "\n",
    "For example\n",
    "\n",
    "ABC, 1, 2012-12-05 11:58:20.370\n",
    "\n",
    "ABC, 1, 2012-12-03 12:11:09.840\n",
    "\n",
    "I want to eliminate this from the database and keep the first time/date available.\n",
    "\n"
   ]
  },
  {
   "cell_type": "code",
   "execution_count": null,
   "metadata": {},
   "outputs": [],
   "source": [
    "Remember we are deleting records with duplicate timestamps keeping only the min(timestamp), i.e., the first timestamp\n",
    "\n",
    "DELETE Customer_SCD\n",
    "OUTPUT deleted.*#means whatever records affected by the query statement\n",
    "from Customer_SCD b\n",
    "join\n",
    "\n",
    "(\n",
    "select a.Customer_Name as cust_name, a.Customer_ID as cust_id, min(a.Customer_TimeStamp) as cust_timestamp\n",
    "from Customer_SCD a\n",
    "group by a.Customer_Name, a.Customer_ID\n",
    ") fog\n",
    "\n",
    "on b.cust_id=fog.cust_id\n",
    "and b.cust_id=fog.cust_id\n",
    "and b.Customer_TimeStamp<>fog.cust_timestamp;\n"
   ]
  },
  {
   "cell_type": "code",
   "execution_count": null,
   "metadata": {},
   "outputs": [],
   "source": [
    "Alternative solution row_number\n",
    "\n",
    "\n",
    "DELETE  Customer_SCD\n",
    "OUTPUT  deleted.*\n",
    "FROM    Customer_SCD b\n",
    "JOIN    (\n",
    "    SELECT  Customer_ID,\n",
    "            Customer_Name,\n",
    "            Customer_TimeStamp,\n",
    "            ROW_NUMBER() OVER (PARTITION BY Customer_ID, Customer_Name ORDER BY Customer_TimeStamp) num\n",
    "    FROM    Customer_SCD\n",
    ") c ON \n",
    "    c.Customer_ID = b.Customer_ID\n",
    "AND c.Customer_Name = b.Customer_Name\n",
    "AND c.Customer_TimeStamp = b.Customer_TimeStamp\n",
    "AND c.num <> 1 #which means except the row number 1 delete the rest from the table\n"
   ]
  },
  {
   "cell_type": "code",
   "execution_count": null,
   "metadata": {},
   "outputs": [],
   "source": [
    "This is in SQL Server\n",
    "\n",
    "The TIMESTAMP datatype in SQL Server (and SQL Azure) is NOT what the ISO/ANSI Standard defines \n",
    "(this is a leftover of the original Sybase heritage of SQL Server).\n",
    "\n",
    "It's really just a binary counter for optimistic concurrency checking - it has NOTHING to do with a date and/or time \n",
    "at all!\n",
    "\n",
    "To store and handle dates and times, use the datatype DATE (for just dates - no time) or DATETIME2(n) for date&time \n",
    "instead\n",
    "\n"
   ]
  },
  {
   "cell_type": "code",
   "execution_count": null,
   "metadata": {},
   "outputs": [],
   "source": [
    "\n",
    "\n",
    "The DATETIME type is used when you need values that contain both date and time information. MySQL retrieves and \n",
    "displays DATETIME values in 'YYYY-MM-DD HH:MM:SS' format. The supported range is '1000-01-01 00:00:00' \n",
    "to '9999-12-31 23:59:59'.\n",
    "\n",
    "...\n",
    "\n",
    "The TIMESTAMP data type has a range of '1970-01-01 00:00:01' UTC to '2038-01-09 03:14:07' UTC. It has varying \n",
    "properties, depending on the MySQL version and the SQL mode the server is running in.\n",
    "\n"
   ]
  },
  {
   "cell_type": "code",
   "execution_count": null,
   "metadata": {},
   "outputs": [],
   "source": [
    "What if you want to keep the latest date and delete the rest of the records per id?\n",
    "\n",
    "\n",
    "\n",
    "CREATE TABLE dummy1\n",
    "\t(`id` int, `name` varchar(5), `last_used_date` datetime)\n",
    ";\n",
    "\t\n",
    "INSERT INTO dummy1\n",
    "\t(`id`, `name`, `last_used_date`)\n",
    "VALUES\n",
    "\t(1, 'name1', '2013-06-01 00:12:13'),\n",
    "\t(1, 'name1', '2013-06-01 18:00:13'),\n",
    "\t(2, 'name2', '2013-06-01 00:12:13'),\n",
    "\t(2, 'name2', '2013-07-01 00:12:13'),\n",
    "\t(2, 'name2', '2013-08-01 22:12:13'),\n",
    "\t(1, 'name1', '2013-09-01 00:12:13')\n",
    ";\n",
    "\n",
    "\n",
    "\n",
    "DELETE d\n",
    "  FROM dummy1 d JOIN \n",
    "(\n",
    "  SELECT d1.id, d1.name, MAX(d1.last_used_date) max_date\n",
    "    FROM dummy1 d1 JOIN dummy1 d2\n",
    "      ON d1.id = d2.id AND d1.name = d2.name\n",
    "   GROUP BY id, name\n",
    ") q ON d.id = q.id AND d.name = q.name AND d.last_used_date <> q.max_date;\n",
    "\n"
   ]
  },
  {
   "cell_type": "code",
   "execution_count": null,
   "metadata": {},
   "outputs": [],
   "source": [
    "\n",
    "Timestamp/DateTime should never be used for any primary key the first issue being you can insert more than 1 record in \n",
    "second, leading to duplicate primary keys.\n",
    "\n",
    "Use and integer with auto increment for your primary key then create a timestamp/Datetime and create an index on the \n",
    "column.\n",
    "\n"
   ]
  }
 ],
 "metadata": {
  "kernelspec": {
   "display_name": "Python 3",
   "language": "python",
   "name": "python3"
  },
  "language_info": {
   "codemirror_mode": {
    "name": "ipython",
    "version": 3
   },
   "file_extension": ".py",
   "mimetype": "text/x-python",
   "name": "python",
   "nbconvert_exporter": "python",
   "pygments_lexer": "ipython3",
   "version": "3.7.4"
  }
 },
 "nbformat": 4,
 "nbformat_minor": 2
}

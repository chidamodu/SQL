{
 "cells": [
  {
   "cell_type": "code",
   "execution_count": null,
   "metadata": {},
   "outputs": [],
   "source": [
    "In order to use UNION on two tables:\n",
    "\n",
    "The following are basic rules for combining the result sets of two queries by using UNION:\n",
    "\n",
    "The number and the order of the columns must be the same in all queries.\n",
    "The data types must be compatible.\n"
   ]
  },
  {
   "cell_type": "code",
   "execution_count": null,
   "metadata": {},
   "outputs": [],
   "source": [
    "Then how we could do this?\n",
    "\n",
    "Alternative solution 1:\n",
    "    \n",
    "A workaround will be to create a row number using window funciton in Common Table Expressions and then \n",
    "full outer join the tables with uncommon columns.\n",
    "\n",
    "Example:\n",
    "    \n",
    "Let us consider the following tables:\n",
    "\n",
    "product:              customer:\n",
    "+----+----------+   +-----+------+\n",
    "| id | descrip  |   | id | name |\n",
    "+----+----------+   +-----+------+\n",
    "|  1 | Sprocket |   | 100 | Bob  |\n",
    "|  2 | Flange   |   | 101 | Paul |\n",
    "+----+----------+   +-----+------+\n",
    "    \n",
    "The two tables do not have any common columns but the question is how we merge these two tables?\n",
    "    \n",
    "    \n",
    "with product1 as\n",
    "(\n",
    "Select *, row_number() over(order by p.id) as rownum\n",
    "    from product p\n",
    "),\n",
    "\n",
    "customer1 as\n",
    "(\n",
    "Select *, row_number() over(order by c.id) as rownum\n",
    "    from customer c\n",
    ")\n",
    "\n",
    "Select * from product1 \n",
    "full outer join\n",
    "customer1\n",
    "on product1.rownum=customer1.rownum;\n",
    "\n"
   ]
  },
  {
   "cell_type": "code",
   "execution_count": null,
   "metadata": {},
   "outputs": [],
   "source": [
    "Alternative solution 2: Lets use union to accomplish the task. Caution: you wont get the result of two tables side by\n",
    "side as there will be null values in the two tables obviously because of uncommon fields.\n",
    "    \n",
    "but using CTEs and row_number solution in the cell above is the way to go!\n",
    "    \n",
    "select p.id as product_id, p.descrip as description, null as customer_id, null as customer_name from product p\n",
    "UNION\n",
    "select null as product_id, null as description, c.id as customer_id, c.name as customer_name from customer c;\n",
    "\n",
    "\n",
    "outcome will be like:\n",
    "\n",
    "product_id   description     customer_id   customer_name\n",
    "    ---       ----             ---            ----\n",
    "                               101            Bob \n",
    "                               102            Paul\n",
    "    1        Sprocket\n",
    "    2        Flange"
   ]
  },
  {
   "cell_type": "code",
   "execution_count": null,
   "metadata": {},
   "outputs": [],
   "source": [
    "Which situations you think we might need to combine two tables with uncommon fields/columns?\n",
    "\n",
    "1. In case of establishing a relationship between new data and historical data by implementing a foreign key constraint \n",
    "between the two tables whose only common field was the id on a one-many relationship. So we combine the two tables \n",
    "so the field can be made unique and non-nullable moving forward.\n",
    "\n",
    "2. Business logic changes and so new relationships have to be established.\n"
   ]
  }
 ],
 "metadata": {
  "kernelspec": {
   "display_name": "Python 3",
   "language": "python",
   "name": "python3"
  },
  "language_info": {
   "codemirror_mode": {
    "name": "ipython",
    "version": 3
   },
   "file_extension": ".py",
   "mimetype": "text/x-python",
   "name": "python",
   "nbconvert_exporter": "python",
   "pygments_lexer": "ipython3",
   "version": "3.7.4"
  }
 },
 "nbformat": 4,
 "nbformat_minor": 2
}

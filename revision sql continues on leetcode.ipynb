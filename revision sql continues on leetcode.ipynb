{
 "cells": [
  {
   "cell_type": "code",
   "execution_count": null,
   "metadata": {},
   "outputs": [],
   "source": [
    "# select user_id from\n",
    "# (\n",
    "# select t1.user_id as userid, t1.activity_date from traffic t1\n",
    "# where t1.activity=\"login\" and t1.activity_date >= (\"2019-06-30\"-INTERVAL 90 DAY)\n",
    "# group by t1.user_id\n",
    "# ) fog\n",
    "\n",
    "\n",
    "select fog.activitydate as login_date, count(fog.userid) as user_count\n",
    "from\n",
    "(\n",
    "select t2.user_id as userid, min(t2.activity_date) as activitydate from traffic t2\n",
    "where t2.activity=\"login\"\n",
    "group by t2.user_id\n",
    ") fog\n",
    "where fog.activitydate between (\"2019-06-30\"-INTERVAL 90 DAY) and \"2019-06-30\"\n",
    "group by fog.activitydate;\n",
    "\n",
    "# --------------------------------------------------------------------------------\n",
    "# select t2.user_id as userid, t2.activity_date from traffic t2\n",
    "# where t2.activity=\"login\"\n",
    "# group by t2.user_id;\n",
    "\n",
    "# {\"headers\": [\"userid\", \"activity_date\"], \"values\": [[1, \"2019-05-01\"], [2, \"2019-06-21\"], [3, \"2019-01-01\"], [4, \"2019-06-21\"], [5, \"2019-03-01\"]]}"
   ]
  }
 ],
 "metadata": {
  "kernelspec": {
   "display_name": "Python 3",
   "language": "python",
   "name": "python3"
  },
  "language_info": {
   "codemirror_mode": {
    "name": "ipython",
    "version": 3
   },
   "file_extension": ".py",
   "mimetype": "text/x-python",
   "name": "python",
   "nbconvert_exporter": "python",
   "pygments_lexer": "ipython3",
   "version": "3.7.4"
  }
 },
 "nbformat": 4,
 "nbformat_minor": 2
}

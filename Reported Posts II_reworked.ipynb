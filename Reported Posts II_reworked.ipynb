{
 "cells": [
  {
   "cell_type": "code",
   "execution_count": null,
   "metadata": {},
   "outputs": [],
   "source": [
    "Leetcode submission solution\n",
    "\n",
    "select round(AVG(goggins.daily_percentage), 2) as average_daily_percent from\n",
    "(\n",
    "select (count(distinct(r.post_id))/count(distinct(a.post_id)))*100 as daily_percentage from actions a\n",
    "left join \n",
    "removals r\n",
    "on r.post_id=a.post_id\n",
    "where a.action=\"report\" and a.extra=\"spam\"\n",
    "group by a.action_date\n",
    "    ) goggins;\n",
    "\n",
    "Runtime: 568 ms, faster than 78.78% of MySQL online submissions for Reported Posts II.\n",
    "Memory Usage: 0B, less than 100.00% of MySQL online submissions for Reported Posts II."
   ]
  },
  {
   "cell_type": "code",
   "execution_count": null,
   "metadata": {},
   "outputs": [],
   "source": [
    "tried the following!\n",
    "\n",
    "# Write your MySQL query statement below\n",
    "\n",
    "\n",
    "# select round(AVG(goggins.daily_percentage), 2) as average_daily_percent from\n",
    "# (\n",
    "# select (count(distinct r.post_id)*100/goat.tot_spam) as daily_percentage  from removals r\n",
    "# left join \n",
    "# (\n",
    "# select count(distinct post_id) as tot_spam, post_id, action_date from actions\n",
    "# where action=\"report\" and extra=\"spam\"\n",
    "# group by action_date\n",
    "# ) goat\n",
    "# on r.post_id=goat.post_id\n",
    "# group by goat.action_date\n",
    "# ) goggins;\n",
    "\n"
   ]
  }
 ],
 "metadata": {
  "kernelspec": {
   "display_name": "Python 3",
   "language": "python",
   "name": "python3"
  },
  "language_info": {
   "codemirror_mode": {
    "name": "ipython",
    "version": 3
   },
   "file_extension": ".py",
   "mimetype": "text/x-python",
   "name": "python",
   "nbconvert_exporter": "python",
   "pygments_lexer": "ipython3",
   "version": "3.7.4"
  }
 },
 "nbformat": 4,
 "nbformat_minor": 2
}

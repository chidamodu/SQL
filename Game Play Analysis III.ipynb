{
 "cells": [
  {
   "cell_type": "code",
   "execution_count": null,
   "metadata": {},
   "outputs": [],
   "source": [
    "This solution using window function should work but it is noit working on leetcode mysql: but the logic is right\n",
    "\n",
    "select player_id, event_date, sum(games_played) over(partition by player_id order by event_date) as games_played_so_far\n",
    "where device_id not null;\n",
    "\n"
   ]
  },
  {
   "cell_type": "code",
   "execution_count": null,
   "metadata": {},
   "outputs": [],
   "source": [
    "it is weird: when I executed this one with just join it was faster than approx. 85% but when I executed the one \n",
    "below with left join this one, it was faster only than approx. 15% \n",
    "\n",
    "\n",
    "select a1.player_id, a1.event_date, sum(a2.games_played) as games_played_so_far from activity a1\n",
    "join\n",
    "activity a2\n",
    "on a1.player_id=a2.player_id and a2.event_date<=a1.event_date\n",
    "group by a1.player_id, a1.event_date\n",
    ";\n",
    "Runtime: 1095 ms, faster than 85.23% of MySQL online submissions for Game Play Analysis III.\n",
    "Memory Usage: 0B, less than 100.00% of MySQL online submissions for Game Play Analysis III.\n",
    "\n",
    "---------------------------------------------------------------------------------------------------------------------------------\n",
    "    \n",
    "    \n",
    "select a1.player_id, a1.event_date, sum(a2.games_played) as games_played_so_far from activity a1\n",
    "left join\n",
    "activity a2\n",
    "on a1.player_id=a2.player_id and a2.event_date<=a1.event_date\n",
    "group by a1.player_id, a1.event_date\n",
    ";\n",
    "\n",
    "Runtime: 1580 ms, faster than 15.47% of MySQL online submissions for Game Play Analysis III.\n",
    "Memory Usage: 0B, less than 100.00% of MySQL online submissions for Game Play Analysis III."
   ]
  }
 ],
 "metadata": {
  "kernelspec": {
   "display_name": "Python 3",
   "language": "python",
   "name": "python3"
  },
  "language_info": {
   "codemirror_mode": {
    "name": "ipython",
    "version": 3
   },
   "file_extension": ".py",
   "mimetype": "text/x-python",
   "name": "python",
   "nbconvert_exporter": "python",
   "pygments_lexer": "ipython3",
   "version": "3.7.4"
  }
 },
 "nbformat": 4,
 "nbformat_minor": 2
}

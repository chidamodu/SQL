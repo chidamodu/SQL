{
 "cells": [
  {
   "cell_type": "code",
   "execution_count": null,
   "metadata": {},
   "outputs": [],
   "source": [
    "select p.project_id \n",
    "from Project p\n",
    "group by p.project_id\n",
    "having count(*) = (select COUNT(DISTINCT p.employee_id) as emp_count from Project p group by p.project_id order by \n",
    "                   emp_count DESC LIMIT 1);\n",
    "\n",
    "\n",
    "Runtime: 475 ms, faster than 94.27% of MySQL online submissions for Project Employees II.\n",
    "Memory Usage: 0B, less than 100.00% of MySQL online submissions for Project Employees II."
   ]
  },
  {
   "cell_type": "code",
   "execution_count": null,
   "metadata": {},
   "outputs": [],
   "source": [
    "But I tried these before arriving at the above answer:\n",
    "    \n",
    "# Write your MySQL query statement below\n",
    "# select p.project_id, MAX(select COUNT(p.employee_id) from Project p join Employee e \n",
    "# group by p.project_id) fog\n",
    "# from Project p\n",
    "# join Employee e\n",
    "# group by p.project_id;\n",
    "# # having COUNT(DISTINCT e.employee_id) AS emp_count\n",
    "\n",
    "# order by COUNT(DISTINCT e.employee_id) desc limit 1;\n",
    "\n",
    "\n",
    "# select p.project_id\n",
    "# from Project p\n",
    "# join\n",
    "# Employee e\n",
    "# on p.employee_id=e.employee_id\n",
    "# group by p.project_id\n",
    "# having MAX(COUNT(p.employee_id));\n",
    "# # order by emp_count desc limit 1;\n",
    "\n"
   ]
  }
 ],
 "metadata": {
  "kernelspec": {
   "display_name": "Python 3",
   "language": "python",
   "name": "python3"
  },
  "language_info": {
   "codemirror_mode": {
    "name": "ipython",
    "version": 3
   },
   "file_extension": ".py",
   "mimetype": "text/x-python",
   "name": "python",
   "nbconvert_exporter": "python",
   "pygments_lexer": "ipython3",
   "version": "3.7.4"
  }
 },
 "nbformat": 4,
 "nbformat_minor": 2
}

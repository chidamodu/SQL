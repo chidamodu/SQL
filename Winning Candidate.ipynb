{
 "cells": [
  {
   "cell_type": "code",
   "execution_count": null,
   "metadata": {},
   "outputs": [],
   "source": [
    "my code rocks, yay!!!\n",
    "\n",
    "select c.name as Name from candidate c\n",
    "join\n",
    "(\n",
    "select candidateId, count(id) as num_vote from vote\n",
    "group by candidateId\n",
    "order by num_vote desc limit 1\n",
    ") g\n",
    "where c.id=g.candidateId;\n",
    "\n",
    "Runtime: 249 ms, faster than 54.02% of MySQL online submissions for Winning Candidate.\n",
    "Memory Usage: 0B, less than 100.00% of MySQL online submissions for Winning Candidate."
   ]
  },
  {
   "cell_type": "code",
   "execution_count": null,
   "metadata": {},
   "outputs": [],
   "source": [
    "Instead of where in the above cell, the following query uses join\n",
    "\n",
    "select c.name as Name from candidate c\n",
    "join\n",
    "(\n",
    "select candidateId, count(id) as num_vote from vote\n",
    "group by candidateId\n",
    "order by num_vote desc limit 1\n",
    ") g\n",
    "on c.id=g.candidateId;\n",
    "\n",
    "It was a tad faster\n",
    "Runtime: 248 ms, faster than 55.47% of MySQL online submissions for Winning Candidate.\n",
    "Memory Usage: 0B, less than 100.00% of MySQL online submissions for Winning Candidate."
   ]
  },
  {
   "cell_type": "code",
   "execution_count": null,
   "metadata": {},
   "outputs": [],
   "source": [
    "Instead of selecting count(id) separately and assigning it to a variable and then order by the variable, looks like I can\n",
    "directly order by the count(id) and it resulted as a much faster query\n",
    "\n",
    "select c.name as Name from candidate c\n",
    "join\n",
    "(\n",
    "select candidateId\n",
    "from vote\n",
    "group by candidateId\n",
    "order by count(id) desc limit 1\n",
    ") g\n",
    "on c.id=g.candidateId;\n",
    "\n",
    "\n",
    "result:\n",
    "Runtime: 233 ms, faster than 84.19% of MySQL online submissions for Winning Candidate.\n",
    "Memory Usage: 0B, less than 100.00% of MySQL online submissions for Winning Candidate."
   ]
  }
 ],
 "metadata": {
  "kernelspec": {
   "display_name": "Python 3",
   "language": "python",
   "name": "python3"
  },
  "language_info": {
   "codemirror_mode": {
    "name": "ipython",
    "version": 3
   },
   "file_extension": ".py",
   "mimetype": "text/x-python",
   "name": "python",
   "nbconvert_exporter": "python",
   "pygments_lexer": "ipython3",
   "version": "3.7.4"
  }
 },
 "nbformat": 4,
 "nbformat_minor": 2
}

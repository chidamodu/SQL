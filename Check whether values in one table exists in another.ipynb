{
 "cells": [
  {
   "cell_type": "code",
   "execution_count": null,
   "metadata": {},
   "outputs": [],
   "source": [
    "# Write your MySQL query statement below\n",
    "\n",
    "select name AS Customers from customers c\n",
    "where c.id NOT IN (\n",
    "\n",
    "select c1.name AS Customers from customers c1)\n",
    "left join orders o1\n",
    "on c1.id=o1.CustomerId\n",
    "WHERE o1.Id IS NULL;\n",
    "\n",
    "Output:Runtime: 235 ms, faster than 84.28% of MySQL online submissions for Customers Who Never Order.\n",
    "\n"
   ]
  },
  {
   "cell_type": "code",
   "execution_count": null,
   "metadata": {},
   "outputs": [],
   "source": [
    "\n",
    "SELECT Name AS Customers FROM Customers c WHERE c.id NOT IN\n",
    "(SELECT CustomerId FROM Orders);\n",
    "\n",
    "\n"
   ]
  },
  {
   "cell_type": "code",
   "execution_count": null,
   "metadata": {},
   "outputs": [],
   "source": [
    "SELECT Name AS Customers FROM Customers AS c\n",
    "LEFT JOIN Orders AS o ON c.Id = o.CustomerId\n",
    "WHERE o.Id IS NULL;"
   ]
  }
 ],
 "metadata": {
  "kernelspec": {
   "display_name": "Python 3",
   "language": "python",
   "name": "python3"
  },
  "language_info": {
   "codemirror_mode": {
    "name": "ipython",
    "version": 3
   },
   "file_extension": ".py",
   "mimetype": "text/x-python",
   "name": "python",
   "nbconvert_exporter": "python",
   "pygments_lexer": "ipython3",
   "version": "3.7.4"
  }
 },
 "nbformat": 4,
 "nbformat_minor": 2
}

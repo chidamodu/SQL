{
 "cells": [
  {
   "cell_type": "code",
   "execution_count": null,
   "metadata": {},
   "outputs": [],
   "source": [
    "MYSQL\n",
    "\n",
    "To list all the databases\n",
    "SHOW DATABASES"
   ]
  },
  {
   "cell_type": "code",
   "execution_count": null,
   "metadata": {},
   "outputs": [],
   "source": [
    "to create a database\n",
    "CREATE DATABASE retention;"
   ]
  },
  {
   "cell_type": "code",
   "execution_count": null,
   "metadata": {},
   "outputs": [],
   "source": [
    "to use a particular database\n",
    "USE DATABASE retention;"
   ]
  },
  {
   "cell_type": "code",
   "execution_count": null,
   "metadata": {},
   "outputs": [],
   "source": [
    "to create a table\n",
    "CREATE TABLE actives (userid SMALLINT, date_det TIMESTAMP);"
   ]
  },
  {
   "cell_type": "code",
   "execution_count": null,
   "metadata": {},
   "outputs": [],
   "source": [
    "to insert values into a table\n",
    "INSERT INTO actives VALUES(3567, '2019-09-19 12:30:45');"
   ]
  },
  {
   "cell_type": "code",
   "execution_count": null,
   "metadata": {},
   "outputs": [],
   "source": [
    "to create a table and initiate the fields\n",
    "CREATE TABLE signups (userid SMALLINT, action VARCHAR(10),date_joined TIMESTAMP);"
   ]
  },
  {
   "cell_type": "code",
   "execution_count": null,
   "metadata": {},
   "outputs": [],
   "source": [
    "using common table expression to select values in within a week from now (the current date)\n",
    "\n",
    "with cte1 as ( select count(distinct userid) as active_users, date(date_det) as dateval from actives where date(date_det) >= DATE_SUB(CURDATE(), INTERVAL 7 DAY) group by dateval )\n",
    "select active_users from cte1;"
   ]
  },
  {
   "cell_type": "code",
   "execution_count": null,
   "metadata": {},
   "outputs": [],
   "source": [
    "selecting both active_users, dateval\n",
    "\n",
    "with cte1 as ( select count(distinct userid) as active_users, date(date_det) as dateval from actives where date(date_det) >= DATE_SUB(CURDATE(), INTERVAL 7 DAY) group by dateval )\n",
    "select active_users, dateval from cte1;"
   ]
  },
  {
   "cell_type": "code",
   "execution_count": null,
   "metadata": {},
   "outputs": [],
   "source": [
    "active_users, dateval and userid\n",
    "\n",
    "with cte1 as ( select count(distinct userid) as active_users, userid, date(date_det) as dateval from actives where date(date_det) >= DATE_SUB(CURDATE(), INTERVAL 7 DAY) group by userid, dateval )\n",
    "select active_users, userid, dateval from cte1;"
   ]
  },
  {
   "cell_type": "code",
   "execution_count": null,
   "metadata": {},
   "outputs": [],
   "source": [
    "trial 1: trying to get yesterdays values from the week calculated in the previous cells\n",
    "\n",
    "with cte1 as ( select count(distinct userid) as active_users, userid, date(date_det) as dateval from actives where date(date_det) >= DATE_SUB(CURDATE(), INTERVAL 7 DAY) group by userid, dateval ), cte2 as  ( select count(distinct active_users) as previous_users from cte1 where dateval=DATE_SUB(dateval, INTERVAL 1 DAY) )\n",
    "select previous_users from cte2;\n",
    "\n",
    "+----------------+\n",
    "| previous_users |\n",
    "+----------------+\n",
    "|              0 |\n",
    "+----------------+\n"
   ]
  },
  {
   "cell_type": "code",
   "execution_count": null,
   "metadata": {},
   "outputs": [],
   "source": [
    "Checking how date_sub works for selecting previous day values\n",
    "\n",
    "with cte2 as  (select distinct(userid) as previous_users from actives where DATE_SUB(date_det, INTERVAL 1 DAY))\n",
    "    -> select previous_users from cte2;"
   ]
  },
  {
   "cell_type": "code",
   "execution_count": null,
   "metadata": {},
   "outputs": [],
   "source": [
    "made some changes and trying again to select previous day values\n",
    "\n",
    "with cte1 as ( select count(distinct userid) as active_users, userid, date(date_det) as dateval from actives where date(date_det) >= DATE_SUB(CURDATE(), INTERVAL 7 DAY) group by userid, dateval ), cte2 as  (select active_users as previous_users from cte1 where DATE_SUB(dateval, INTERVAL 1 DAY))\n",
    "    -> select previous_users from cte2;"
   ]
  },
  {
   "cell_type": "code",
   "execution_count": null,
   "metadata": {},
   "outputs": [],
   "source": [
    "counting distinct userids\n",
    "\n",
    "with cte1 as ( select distinct(userid) as active_users, date(date_det) as dateval from actives where date(date_det) >= DATE_SUB(CURDATE(), INTERVAL 7 DAY) group by userid, dateval ), cte2 as (select active_users as previous_users from cte1 where DATE_SUB(cte1.dateval, INTERVAL 1 DAY)) select distinct(previous_users) from cte2;\n",
    "\n"
   ]
  },
  {
   "cell_type": "code",
   "execution_count": null,
   "metadata": {},
   "outputs": [],
   "source": [
    "counting distinct userids\n",
    "\n",
    "with cte1 as ( select count(distinct userid) as active_users, userid, date(date_det) as dateval from actives where date(date_det) >= DATE_SUB(CURDATE(), INTERVAL 7 DAY) group by userid, dateval ), cte2 as (select count(distinct c1.active_users) as previous_users,a.date_det as date_previous from cte1 as c1, actives a where date(a.date_det)=DATE_SUB(c1.dateval, INTERVAL 1 DAY) group by a.date_det) select previous_users, date_previous from cte2;\n",
    "\n",
    "\n"
   ]
  },
  {
   "cell_type": "code",
   "execution_count": null,
   "metadata": {},
   "outputs": [],
   "source": [
    "trial adn error: counting distinct userids\n",
    "\n",
    "with cte1 as ( select count(distinct userid) as active_users, userid, date(date_det) as dateval from actives where date(date_det) >= DATE_SUB(CURDATE(), INTERVAL 7 DAY) group by userid, dateval ), cte2 as (select count(distinct c1.active_users) as previous_users,a.date_det as date_previous from cte1 as c1, actives a where date(a.date_det)=DATE_SUB(c1.dateval, INTERVAL 1 DAY) group by a.date_det) select previous_users, date_previous from cte2;\n",
    "+----------------+---------------------+\n",
    "| previous_users | date_previous       |\n",
    "+----------------+---------------------+\n",
    "|              1 | 2019-09-14 09:34:43 |\n",
    "|              1 | 2019-09-14 12:32:54 |\n",
    "|              1 | 2019-09-14 16:17:53 |\n",
    "|              1 | 2019-09-14 16:43:33 |\n",
    "|              1 | 2019-09-14 17:19:54 |\n",
    "|              1 | 2019-09-14 19:13:15 |\n",
    "|              1 | 2019-09-14 19:19:34 |\n",
    "|              1 | 2019-09-14 19:23:43 |\n",
    "|              1 | 2019-09-14 22:32:13 |\n",
    "|              1 | 2019-09-14 23:43:05 |\n",
    "|              1 | 2019-09-15 02:15:32 |\n",
    "|              1 | 2019-09-15 06:05:13 |\n",
    "|              1 | 2019-09-15 08:11:22 |\n",
    "|              1 | 2019-09-15 19:18:23 |\n",
    "|              1 | 2019-09-15 21:21:09 |\n",
    "|              1 | 2019-09-15 22:32:43 |\n",
    "|              1 | 2019-09-15 23:32:43 |\n",
    "|              1 | 2019-09-16 06:03:44 |\n",
    "|              1 | 2019-09-16 09:17:22 |\n",
    "|              1 | 2019-09-16 12:43:32 |\n",
    "|              1 | 2019-09-16 15:55:02 |\n",
    "|              1 | 2019-09-16 19:18:45 |\n",
    "|              1 | 2019-09-16 19:34:43 |\n",
    "|              1 | 2019-09-16 21:23:43 |\n",
    "|              1 | 2019-09-16 22:32:43 |\n",
    "|              1 | 2019-09-16 22:34:36 |\n",
    "|              1 | 2019-09-16 23:16:24 |\n",
    "|              1 | 2019-09-16 23:54:46 |\n",
    "|              1 | 2019-09-17 03:04:22 |\n",
    "|              1 | 2019-09-17 04:03:33 |\n",
    "|              1 | 2019-09-17 08:43:25 |\n",
    "|              1 | 2019-09-17 13:08:36 |\n",
    "|              1 | 2019-09-17 16:05:55 |\n",
    "|              1 | 2019-09-17 22:13:32 |\n",
    "|              1 | 2019-09-17 22:45:47 |\n",
    "|              1 | 2019-09-17 23:24:43 |\n",
    "|              1 | 2019-09-18 03:44:34 |\n",
    "|              1 | 2019-09-18 05:34:09 |\n",
    "|              1 | 2019-09-18 08:43:02 |\n",
    "|              1 | 2019-09-18 13:04:45 |\n",
    "|              1 | 2019-09-18 14:06:09 |\n",
    "|              1 | 2019-09-18 17:03:54 |\n",
    "|              1 | 2019-09-18 17:08:43 |\n",
    "|              1 | 2019-09-18 18:23:25 |\n",
    "|              1 | 2019-09-18 20:33:25 |\n",
    "|              1 | 2019-09-18 22:54:34 |\n",
    "+----------------+---------------------+\n",
    "46 rows in set (0.00 sec)\n"
   ]
  },
  {
   "cell_type": "code",
   "execution_count": null,
   "metadata": {},
   "outputs": [],
   "source": [
    "summing distinct users on specific dates\n",
    "\n",
    "with cte1 as ( select count(distinct userid) as active_users, userid, date(date_det) as dateval from actives where date(date_det) >= DATE_SUB(CURDATE(), INTERVAL 7 DAY) group by userid, dateval )\n",
    "    -> select SUM(active_users), dateval from cte1 group by dateval;\n",
    "+-------------------+------------+\n",
    "| SUM(active_users) | dateval    |\n",
    "+-------------------+------------+\n",
    "|                 6 | 2019-09-15 |\n",
    "|                 7 | 2019-09-17 |\n",
    "|                 8 | 2019-09-19 |\n",
    "|                 7 | 2019-09-16 |\n",
    "|                 7 | 2019-09-18 |\n",
    "|                 1 | 2019-09-23 |\n",
    "+-------------------+------------+\n"
   ]
  }
 ],
 "metadata": {
  "kernelspec": {
   "display_name": "Python 3",
   "language": "python",
   "name": "python3"
  },
  "language_info": {
   "codemirror_mode": {
    "name": "ipython",
    "version": 3
   },
   "file_extension": ".py",
   "mimetype": "text/x-python",
   "name": "python",
   "nbconvert_exporter": "python",
   "pygments_lexer": "ipython3",
   "version": "3.7.4"
  }
 },
 "nbformat": 4,
 "nbformat_minor": 2
}

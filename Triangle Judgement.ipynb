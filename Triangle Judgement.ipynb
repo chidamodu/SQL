{
 "cells": [
  {
   "cell_type": "code",
   "execution_count": null,
   "metadata": {},
   "outputs": [],
   "source": [
    "select x, y, z, (case\n",
    "when (x+y>z and y+z>x and x+z>y) then \"Yes\" else \"No\" end) as triangle\n",
    "from triangle;\n",
    "\n",
    "\n",
    "Runtime: 477 ms, faster than 5.03% of MySQL online submissions for Triangle Judgement.\n",
    "Memory Usage: 0B, less than 100.00% of MySQL online submissions for Triangle Judgement."
   ]
  },
  {
   "cell_type": "code",
   "execution_count": null,
   "metadata": {},
   "outputs": [],
   "source": [
    "select x, y, z, (case\n",
    "when NOT ((x+y>z) and (y+z>x) and (x+z>y)) then \"No\" else \"Yes\" end) as triangle\n",
    "from triangle;\n",
    "\n",
    "Runtime: 149 ms, faster than 75.35% of MySQL online submissions for Triangle Judgement.\n",
    "Memory Usage: 0B, less than 100.00% of MySQL online submissions for Triangle Judgement.\n"
   ]
  },
  {
   "cell_type": "code",
   "execution_count": null,
   "metadata": {},
   "outputs": [],
   "source": [
    "an alternative solution from leetcode - not that effective but hey a different perspective!\n",
    "\n",
    "select x, y, z, case\n",
    "when (abs(x-y)<z and z < (x+y)) then \"Yes\" else \"No\" end as triangle\n",
    "from triangle;\n",
    "\n",
    "Runtime: 161 ms, faster than 41.16% of MySQL online submissions for Triangle Judgement.\n",
    "Memory Usage: 0B, less than 100.00% of MySQL online submissions for Triangle Judgement.\n"
   ]
  }
 ],
 "metadata": {
  "kernelspec": {
   "display_name": "Python 3",
   "language": "python",
   "name": "python3"
  },
  "language_info": {
   "codemirror_mode": {
    "name": "ipython",
    "version": 3
   },
   "file_extension": ".py",
   "mimetype": "text/x-python",
   "name": "python",
   "nbconvert_exporter": "python",
   "pygments_lexer": "ipython3",
   "version": "3.7.4"
  }
 },
 "nbformat": 4,
 "nbformat_minor": 2
}

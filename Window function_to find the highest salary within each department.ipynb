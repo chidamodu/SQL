{
 "cells": [
  {
   "cell_type": "code",
   "execution_count": null,
   "metadata": {},
   "outputs": [],
   "source": [
    "\n",
    "select d.name AS Department,e.name AS Employee, e.Salary As Salary\n",
    "from Employee e\n",
    "join Department d\n",
    "on e.DepartmentId=d.Id\n",
    "where (e.DepartmentId, e.Salary) in\n",
    "(\n",
    "select DepartmentId, MAX(Salary) from Employee\n",
    "group by DepartmentId\n",
    ");\n",
    "\n",
    "Runtime: 306 ms, faster than 69.31% of MySQL online submissions for Department Highest Salary.\n"
   ]
  },
  {
   "cell_type": "code",
   "execution_count": null,
   "metadata": {},
   "outputs": [],
   "source": [
    "I also tried window function, but could not execute it as the MYSQL version on Leetcode did not support window function\n",
    "\n",
    "not sure whether order by necessary inside OVER\n",
    "\n",
    "SELECT d.Name, e.Name, MAX(e.Salary) OVER(PARTITION BY DepartmentId ORDER BY e.Salary) AS Salary\n",
    "FROM Employee e\n",
    "Join Department d\n",
    "on e.DepartmentId=d.Id;\n",
    "\n"
   ]
  }
 ],
 "metadata": {
  "kernelspec": {
   "display_name": "Python 3",
   "language": "python",
   "name": "python3"
  },
  "language_info": {
   "codemirror_mode": {
    "name": "ipython",
    "version": 3
   },
   "file_extension": ".py",
   "mimetype": "text/x-python",
   "name": "python",
   "nbconvert_exporter": "python",
   "pygments_lexer": "ipython3",
   "version": "3.7.4"
  }
 },
 "nbformat": 4,
 "nbformat_minor": 2
}

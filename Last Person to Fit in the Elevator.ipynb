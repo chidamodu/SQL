{
 "cells": [
  {
   "cell_type": "code",
   "execution_count": null,
   "metadata": {},
   "outputs": [],
   "source": [
    "select fog.person_name from\n",
    "(\n",
    "select q.person_name as person_name, q.turn as num_turns, (@max_sum := @max_sum + q.weight) AS max_weight\n",
    "from queue q, (SELECT @max_sum:=0) c\n",
    "order by q.turn\n",
    ") fog\n",
    "where fog.max_weight<=1000\n",
    "ORDER BY fog.num_turns DESC\n",
    "LIMIT 1;\n",
    "\n",
    "\n",
    "Runtime: 438 ms, faster than 95.22% of MySQL online submissions for Last Person to Fit in the Elevator.\n",
    "Memory Usage: 0B, less than 100.00% of MySQL online submissions for Last Person to Fit in the Elevator.\n",
    "\n",
    "    \n",
    "This statement is -- generally -- not correct. SQL is parsed in the order that you describe.\n",
    "However, the execution is determined by the optimizer and might have little to do with the original query.\n",
    "Remember: SQL is a descriptive language, not a procedural language. It describes the result set, not the specific\n",
    "steps for calculating it.\n",
    "\n",
    "That said, MySQL execution plan is much closer to the query than most other databases\n",
    "(particularly more advanced databases with better optimizers). And, almost any database is going to proceed in the\n",
    "steps you describe for this query. The aggregation in the subquery limits the choices for optimization.\n",
    "\n",
    "I tried to understand by using EXPLAIN but the resulting explanation was not clear!\n",
    "\n",
    "\n",
    "\n"
   ]
  }
 ],
 "metadata": {
  "kernelspec": {
   "display_name": "Python 3",
   "language": "python",
   "name": "python3"
  },
  "language_info": {
   "codemirror_mode": {
    "name": "ipython",
    "version": 3
   },
   "file_extension": ".py",
   "mimetype": "text/x-python",
   "name": "python",
   "nbconvert_exporter": "python",
   "pygments_lexer": "ipython3",
   "version": "3.7.4"
  }
 },
 "nbformat": 4,
 "nbformat_minor": 2
}

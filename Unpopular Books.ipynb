{
 "cells": [
  {
   "cell_type": "code",
   "execution_count": null,
   "metadata": {},
   "outputs": [],
   "source": [
    "select goat.book_id, goat.name from\n",
    "(\n",
    "select * from books b\n",
    "where b.available_from < DATE_SUB('2019-06-23', INTERVAL 1 MONTH) \n",
    ") goat\n",
    "\n",
    "where goat.book_id not in\n",
    "\n",
    "(select book_id from orders where dispatch_date >= '2018-06-23' group by book_id having sum(quantity) >= 10);\n",
    "\n",
    "\n",
    "Runtime: 521 ms, faster than 82.16% of MySQL online submissions for Unpopular Books.\n",
    "Memory Usage: 0B, less than 100.00% of MySQL online submissions for Unpopular Books.\n"
   ]
  },
  {
   "cell_type": "code",
   "execution_count": null,
   "metadata": {},
   "outputs": [],
   "source": [
    "# have tried:\n",
    "    \n",
    "    \n",
    "\n",
    "select b.book_id, b.name from books b\n",
    "# join orders o\n",
    "# on b.book_id=o.book_id\n",
    "# where b.available_from > DATE_SUB('2019-06-23', INTERVAL 1 MONTH);\n",
    "where DATEDIFF(b.available_from, DATE('2019-06-23'))> 30;\n",
    "and o.quantity < 10 and YEAR(o.dispatch_date)='2019';\n",
    "\n",
    "-------------------------------------------------------------------------------------------------------------\n",
    "\n",
    "select b.book_id, b.name from books b\n",
    "join orders o\n",
    "on b.book_id=o.book_id\n",
    "where b.available_from < DATE_SUB('2019-06-23', INTERVAL 1 MONTH) \n",
    "and o.quantity < 10 and YEAR(o.dispatch_date) = '2019';\n",
    "Output: {\"headers\": [\"book_id\", \"name\"], \"values\": []}\n",
    "\n",
    "-------------------------------------------------------------------------------------------------------------\n",
    "\n",
    "select goat.book_id, goat.name from\n",
    "(\n",
    "select * from books b\n",
    "where b.available_from < DATE_SUB('2019-06-23', INTERVAL 1 MONTH) \n",
    ") goat\n",
    "\n",
    "left join\n",
    "orders o\n",
    "on goat.book_id=o.book_id\n",
    "\n",
    "group by goat.book_id;\n",
    "having sum(o.quantity) < 10;\n",
    "\n",
    "output: {\"headers\": [\"book_id\", \"name\"], \"values\": [[1, \"Kalila And Demna\"], [2, \"28 Letters\"], [3, \"The Hobbit\"], [4, \"13 Reasons Why\"], [5, \"The Hunger Games\"]]}\n",
    "\n",
    "expected: {\"headers\":[\"book_id\",\"name\"],\"values\":[[1,\"Kalila And Demna\"],[2,\"28 Letters\"],[3,\"The Hobbit\"],[5,\"The Hunger Games\"]]}\n",
    "\n"
   ]
  }
 ],
 "metadata": {
  "kernelspec": {
   "display_name": "Python 3",
   "language": "python",
   "name": "python3"
  },
  "language_info": {
   "codemirror_mode": {
    "name": "ipython",
    "version": 3
   },
   "file_extension": ".py",
   "mimetype": "text/x-python",
   "name": "python",
   "nbconvert_exporter": "python",
   "pygments_lexer": "ipython3",
   "version": "3.7.4"
  }
 },
 "nbformat": 4,
 "nbformat_minor": 2
}

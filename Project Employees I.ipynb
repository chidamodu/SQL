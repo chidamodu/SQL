{
 "cells": [
  {
   "cell_type": "code",
   "execution_count": null,
   "metadata": {},
   "outputs": [],
   "source": [
    "select p.project_id, ROUND(AVG(e.experience_years), 2) AS average_years\n",
    "from Project p\n",
    "join Employee e\n",
    "on p.employee_id=e.employee_id\n",
    "group by p.project_id;\n",
    "\n",
    "Runtime: 539 ms, faster than 86.67% of MySQL online submissions for Project Employees I.\n",
    "Memory Usage: 0B, less than 100.00% of MySQL online submissions for Project Employees I.\n"
   ]
  }
 ],
 "metadata": {
  "kernelspec": {
   "display_name": "Python 3",
   "language": "python",
   "name": "python3"
  },
  "language_info": {
   "codemirror_mode": {
    "name": "ipython",
    "version": 3
   },
   "file_extension": ".py",
   "mimetype": "text/x-python",
   "name": "python",
   "nbconvert_exporter": "python",
   "pygments_lexer": "ipython3",
   "version": "3.7.4"
  }
 },
 "nbformat": 4,
 "nbformat_minor": 2
}

{
 "cells": [
  {
   "cell_type": "code",
   "execution_count": null,
   "metadata": {},
   "outputs": [],
   "source": [
    "select name from customer \n",
    "where referee_id is Null or referee_id !=2;\n",
    "\n",
    "Runtime: 281 ms, faster than 13.12% of MySQL online submissions for Find Customer Referee.\n",
    "Memory Usage: 0B, less than 100.00% of MySQL online submissions for Find Customer Referee."
   ]
  },
  {
   "cell_type": "code",
   "execution_count": null,
   "metadata": {},
   "outputs": [],
   "source": [
    "an alternative solution\n",
    "\n",
    "SELECT\n",
    "\n",
    "name\n",
    "\n",
    "FROM CUSTOMER\n",
    "\n",
    "where id IN\n",
    "\n",
    "(SELECT id FROM customer\n",
    "\n",
    "WHERE referee_id is null or (referee_id IS NOT NULL and referee_id!=2) );\n",
    "\n",
    "\n",
    "Runtime: 265 ms, faster than 33.79% of MySQL online submissions for Find Customer Referee.\n",
    "Memory Usage: 0B, less than 100.00% of MySQL online submissions for Find Customer Referee."
   ]
  }
 ],
 "metadata": {
  "kernelspec": {
   "display_name": "Python 3",
   "language": "python",
   "name": "python3"
  },
  "language_info": {
   "codemirror_mode": {
    "name": "ipython",
    "version": 3
   },
   "file_extension": ".py",
   "mimetype": "text/x-python",
   "name": "python",
   "nbconvert_exporter": "python",
   "pygments_lexer": "ipython3",
   "version": "3.7.4"
  }
 },
 "nbformat": 4,
 "nbformat_minor": 2
}

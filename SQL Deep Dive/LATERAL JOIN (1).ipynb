{
 "cells": [
  {
   "cell_type": "code",
   "execution_count": null,
   "metadata": {},
   "outputs": [],
   "source": [
    "I came across this post on StackOverflow titled as:\n",
    "\n",
    "Optimize GROUP BY query to retrieve latest row per user\n",
    "\n",
    "\n"
   ]
  },
  {
   "cell_type": "code",
   "execution_count": null,
   "metadata": {},
   "outputs": [],
   "source": [
    "Let us assume we have a table (users log table) like as follows:\n",
    "\n",
    "CREATE TABLE log (\n",
    "    log_date DATE,\n",
    "    user_id  INTEGER,\n",
    "    payload  INTEGER\n",
    ");\n",
    "\n"
   ]
  },
  {
   "cell_type": "code",
   "execution_count": null,
   "metadata": {},
   "outputs": [],
   "source": [
    "Grouping by to figure out the latest record per user within certain date is extremely slow:\n",
    "    \n",
    "SELECT user_id, max(log_date), max(payload) \n",
    "FROM log \n",
    "WHERE log_date <= :mydate \n",
    "GROUP BY user_id\n",
    "\n"
   ]
  },
  {
   "cell_type": "code",
   "execution_count": null,
   "metadata": {
    "collapsed": true
   },
   "outputs": [],
   "source": [
    "Is there a way to speed up the row retrieval? thats where LATERAL JOIN comes in handy!\n",
    "\n",
    "\n",
    "\n",
    "\n",
    "The LATERAL key word can precede a sub-SELECT FROM item. This allows the sub-SELECT to refer to columns of FROM items\n",
    "that appear before it in the FROM list. (Without LATERAL, each sub-SELECT is evaluated independently and so cannot \n",
    "                                         cross-reference any other FROM item.)\n",
    "\n",
    "When a FROM item contains LATERAL cross-references, evaluation proceeds as follows: for each row of the FROM item \n",
    "providing the cross-referenced column(s), or set of rows of multiple FROM items providing the columns, the \n",
    "LATERAL item is evaluated using that row or row set’s values of the columns. The resulting row(s) are joined as \n",
    "usual with the rows they were computed from. This is repeated for each row or set of rows from the column source \n",
    "table(s).\n",
    "\n",
    "This is a bit dense. Loosely, it means that a LATERAL join is like a SQL foreach loop, in which PostgreSQL will \n",
    "iterate over each row in a result set and evaluate a subquery using that row as a parameter.\n",
    "\n",
    "\n",
    "If we assume that we a table with unique userid as primary key then we can Lateral Join that with the log table.\n",
    "\n",
    "Still not sure how LATERAL JOIN (by this we mean adding LATERAL to a JOIN statement. it does not have to be a CROSS \n",
    "                                 JOIN per se)\n",
    "is speeding up the process. It is clear that it runs efficiently though."
   ]
  },
  {
   "cell_type": "code",
   "execution_count": null,
   "metadata": {},
   "outputs": [],
   "source": [
    "can specify the mydate with specific date, say, mydate=\"2020-09-20\"\n",
    "\n",
    "SELECT u.user_id, l.log_date, l.payload\n",
    "FROM   users u\n",
    "CROSS JOIN LATERAL (\n",
    "   SELECT l.log_date, l.payload\n",
    "   FROM   log l\n",
    "   WHERE  l.user_id = u.user_id\n",
    "   AND    l.log_date <= :mydate\n",
    "   ORDER  BY l.log_date DESC NULLS LAST\n",
    "   LIMIT  1\n",
    "   ) l;"
   ]
  }
 ],
 "metadata": {
  "kernelspec": {
   "display_name": "Python 3",
   "language": "python",
   "name": "python3"
  },
  "language_info": {
   "codemirror_mode": {
    "name": "ipython",
    "version": 3
   },
   "file_extension": ".py",
   "mimetype": "text/x-python",
   "name": "python",
   "nbconvert_exporter": "python",
   "pygments_lexer": "ipython3",
   "version": "3.7.4"
  }
 },
 "nbformat": 4,
 "nbformat_minor": 2
}

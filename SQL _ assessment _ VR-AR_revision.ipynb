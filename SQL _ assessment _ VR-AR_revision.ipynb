#!/usr/bin/env python
# coding: utf-8

# In[ ]:


SQL exercises

Table: email_events
Columns: user_id, event, campaign, date
Example: dan, open, quest, 2019-07-01

Question #1: Write a query that accomplishes the following: return a list of email campaigns run during June 2019 and the number of opens per campaign

Quest 1,000
Go 800
Rift 600

Questions I could asked: 
get_ipython().set_next_input('Are there null values in the table');get_ipython().run_line_magic('pinfo', 'table')
Are there duplicate values in the table? (meaning: emails sent to the same customer, so there will be duplicate values)


Pseudo:
1. First filter records by June 2019
2. Then filter only the opened ones out of the first step
3. Count per campaign
4. is it possible that emails were sent to a same customer more than one time? 


select campaign, count(event) AS event_count
from email_events
where event LIKE '%open%'
groupby campaign;



Select count(event) AS event_num
from
(
Select *
from email_events
where MONTH(date)=6
#YEAR(date)='2019'#quest is only released in 2019 so this is not necessary
)
where event like '%open%'
groupby campaign;


If there are duplicate values then can groupby userid as well, but this entirely depends on the context. Maybe it is compeltely ok to target the same customers many times a month.



get_ipython().set_next_input('Why not');get_ipython().run_line_magic('pinfo', 'not')

select campaign, count(*) AS num_open 
from email_events
where event="open" and MONTH(date)=6
group by campaign;


# In[ ]:





# In[ ]:


Question #2: write a query that returns the campaigns that had the most clicks among women age 20-29

Table #2: user_info
Columns: user_id, age, gender
Example: dan, 30, male

    
    


I did not even realize that I had join the tables: email_events and user_info for the Question #2

1.
select * from email_events e
inner join 
select * from user_info u
on e.user_id=u.user_id

At the end of step 1: I will have the columns as: user_id, event, campaign, date, age, gender

2. 
select fog.campaign AS campaign_det, count(fog.event) AS num_event, fog.age AS age_det
from 
(
select * from email_events e
inner join 
select * from user_info u
on e.user_id=u.user_id
) fog
where fog.event like '%clicks%' AND fog.gender like '%female%'
groupby campaign_det;

3. Final query output

select rain.campaign_det AS campaign, rain.num_event AS event_count
from 
(
select fog.campaign AS campaign_det, count(fog.event) AS num_event, fog.age AS age_det
from 
(
select * from email_events e
inner join 
select * from user_info u
on e.user_id=u.user_id
) fog
where fog.event like '%clicks%' AND fog.gender like '%female%'
groupby campaign_det
) rain
where rain.age_det BETWEEN 20 AND 29
order by num_event DESC;


Output:
campaign | event_count

---------------------------------------------------------------------------------------------------------------------

this is all I did at the collaborative assessment:
select * from user_info
where age (BETWEEN 20 AND 29) AND gender LIKE '%women%'


# In[ ]:


1.

select * from email_events e
join
user_info u
on e.userid=u.userid


2. 

select fog.campaign as campaign_name, COUNT(*) AS num_clicks

(
    
select * from email_events e
join
user_info u
on e.userid=u.userid

) fog

where fog.gender='female' and fog.age BETWEEN 20 and 29
group by fog.campaign
order by num_clicks DESC
LIMIT 1;


# In[ ]:


optimization step


1. filter email_events

select e.user_id, e.event, e.campaign, e.date
from email_events e
where event="click";




2. filter user_info


select u.user_id, u.age, u.gender
from user_info u
where gender="female" and age BETWEEN 20 and 29;


3. join these two tables


select goat.campaign, COUNT(*) as number_clicks

(
select user_id, event, campaign, date
from email_events 
where event="click"
) goat

JOIN

(
select user_id, age, gender
from user_info
where gender="female" and age BETWEEN 20 and 29;

) mountain

on goat.user_id=mountain.user_id
group by goat.campaign
order by number_clicks DESC
LIMIT 1;





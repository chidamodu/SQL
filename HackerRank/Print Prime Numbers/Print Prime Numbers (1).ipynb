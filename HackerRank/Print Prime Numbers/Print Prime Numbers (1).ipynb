{
 "cells": [
  {
   "cell_type": "code",
   "execution_count": null,
   "metadata": {},
   "outputs": [],
   "source": [
    "Write a query to print all prime numbers less than or equal to 1000. Print your result on a single line, and use the \n",
    "ampersand (&) character as your separator (instead of a space).\n",
    "\n",
    "For example, the output for all prime numbers <=10 would be:\n",
    "\n",
    "2&3&5&7"
   ]
  },
  {
   "cell_type": "code",
   "execution_count": null,
   "metadata": {},
   "outputs": [],
   "source": [
    "Trial\n",
    "\n",
    "# -- set @prime=1;\n",
    "# -- set @divisor=1;\n",
    "\n",
    "# -- select group_concat(prime separator '&')\n",
    "# -- from\n",
    "# -- (\n",
    "# -- select @prime:= @prime+1 as prime\n",
    "# -- from information_schema.tables t1, information_schema.tables t2\n",
    "# -- limit 1000    \n",
    "# -- ) selection1\n",
    "\n",
    "# -- where not exists\n",
    "# -- (\n",
    "# -- select * from\n",
    "# -- (\n",
    "# -- select @divisor:= @divisor=+1 as divisor\n",
    "# -- from information_schema.tables t3, information_schema.tables t4\n",
    "# -- limit 1000\n",
    "# -- ) selection2\n",
    "# -- where mod(prime,divisor)=0 and prime <> divisor\n",
    "# -- );\n",
    "\n"
   ]
  },
  {
   "cell_type": "code",
   "execution_count": null,
   "metadata": {},
   "outputs": [],
   "source": [
    "Submission version\n",
    "\n",
    "SET @potential_prime = 1;\n",
    "SET @divisor = 1;\n",
    "\n",
    "SELECT GROUP_CONCAT(POTENTIAL_PRIME SEPARATOR '&') FROM\n",
    "    (SELECT @potential_prime := @potential_prime + 1 AS POTENTIAL_PRIME FROM\n",
    "    information_schema.tables t1,\n",
    "    information_schema.tables t2\n",
    "    LIMIT 1000) list_of_potential_primes\n",
    "WHERE NOT EXISTS(\n",
    "    SELECT * FROM\n",
    "        (SELECT @divisor := @divisor + 1 AS DIVISOR FROM\n",
    "        information_schema.tables t4,\n",
    "        information_schema.tables t5\n",
    "        LIMIT 1000) list_of_divisors\n",
    "    WHERE MOD(POTENTIAL_PRIME, DIVISOR) = 0 AND POTENTIAL_PRIME <> DIVISOR);\n",
    "\n"
   ]
  },
  {
   "cell_type": "code",
   "execution_count": null,
   "metadata": {},
   "outputs": [],
   "source": [
    "Explanation:\n",
    "\n",
    "1) The two inner SELECTs (SELECT @potential_prime and SELECT @divisor) create two lists. Both of them contain numbers \n",
    "from 1 to 1000. The first list is list_of_potential_primes and the second is list_of_divisors.\n",
    "\n",
    "2) Then, we iterate over the list of the potential primes (the outer SELECT) and for each number from this list we \n",
    "look for divisors (SELECT * FROM clause) that can divide the number without a reminder and are not equal to the \n",
    "number (WHERE MOD... clause). If at least one such divisor exists, the number is not prime and is not selected \n",
    "(WHERE NOT EXISTS... clause)."
   ]
  }
 ],
 "metadata": {
  "kernelspec": {
   "display_name": "Python 3",
   "language": "python",
   "name": "python3"
  },
  "language_info": {
   "codemirror_mode": {
    "name": "ipython",
    "version": 3
   },
   "file_extension": ".py",
   "mimetype": "text/x-python",
   "name": "python",
   "nbconvert_exporter": "python",
   "pygments_lexer": "ipython3",
   "version": "3.7.4"
  }
 },
 "nbformat": 4,
 "nbformat_minor": 2
}

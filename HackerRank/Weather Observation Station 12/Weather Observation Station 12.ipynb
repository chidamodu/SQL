{
 "cells": [
  {
   "cell_type": "code",
   "execution_count": null,
   "metadata": {},
   "outputs": [],
   "source": [
    "Query the list of CITY names from STATION that do not start with vowels and do not end with vowels. Your result cannot contain duplicates.\n",
    "\n",
    "Input Format\n",
    "The STATION table is described as follows:\n",
    " \n",
    "Station\n",
    "Field            Type\n",
    "ID            NUMBER\n",
    "CITY         VARCHAR2(21) \n",
    "STATE        VARCHAR2(2) \n",
    "LAT_N        NUMBER\n",
    "LONG_W       NUMBER\n",
    "\n",
    "where LAT_N is the northern latitude and LONG_W is the western longitude.\n",
    "    "
   ]
  },
  {
   "cell_type": "code",
   "execution_count": null,
   "metadata": {},
   "outputs": [],
   "source": [
    "select distinct(city) from station\n",
    "where (left(city, 1) not in ('a','e','i','o','u') and\n",
    "right(city, 1) not in ('a','e','i','o','u'));\n",
    "\n"
   ]
  }
 ],
 "metadata": {
  "kernelspec": {
   "display_name": "Python 3",
   "language": "python",
   "name": "python3"
  },
  "language_info": {
   "codemirror_mode": {
    "name": "ipython",
    "version": 3
   },
   "file_extension": ".py",
   "mimetype": "text/x-python",
   "name": "python",
   "nbconvert_exporter": "python",
   "pygments_lexer": "ipython3",
   "version": "3.7.4"
  }
 },
 "nbformat": 4,
 "nbformat_minor": 2
}

{
 "cells": [
  {
   "cell_type": "code",
   "execution_count": null,
   "metadata": {},
   "outputs": [],
   "source": [
    "\n",
    "Julia asked her students to create some coding challenges. Write a query to print the hacker_id, name, and the total \n",
    "number of challenges created by each student. Sort your results by the total number of challenges in descending order. \n",
    "If more than one student created the same number of challenges, then sort the result by hacker_id. If more than one \n",
    "student created the same number of challenges and the count is less than the maximum number of challenges created, \n",
    "then exclude those students from the result.\n",
    "\n",
    "Input Format\n",
    "\n",
    "The following tables contain challenge data:\n",
    "\n",
    "Hackers: The hacker_id is the id of the hacker, and name is the name of the hacker. \n",
    "    \n",
    "Challenges: The challenge_id is the id of the challenge, and hacker_id is the id of the student who created the \n",
    "challenge.\n",
    "\n",
    "\n",
    "    "
   ]
  },
  {
   "cell_type": "code",
   "execution_count": null,
   "metadata": {},
   "outputs": [],
   "source": [
    "This query in MS SQL Server, but recent version of MYSQL supports Common Table Expressions\n",
    "\n",
    "\n",
    "with num_challenges as\n",
    "(\n",
    "SELECT c.hacker_id as id, h.name as name, count(c.hacker_id) as count_challenges\n",
    "FROM Hackers h\n",
    "JOIN Challenges c on c.hacker_id = h.hacker_id\n",
    "GROUP BY c.hacker_id, h.name\n",
    ")\n",
    "\n",
    "\n",
    "SELECT id, name, count_challenges\n",
    "FROM num_challenges\n",
    "WHERE\n",
    "\n",
    "count_challenges=(SELECT max(count_challenges) FROM num_challenges)\n",
    "\n",
    "OR\n",
    "\n",
    "count_challenges in \n",
    "\n",
    "(SELECT count_challenges FROM num_challenges\n",
    "GROUP BY count_challenges\n",
    "HAVING count(count_challenges)=1 )\n",
    "\n",
    "\n",
    "ORDER BY count_challenges desc, id;"
   ]
  }
 ],
 "metadata": {
  "kernelspec": {
   "display_name": "Python 3",
   "language": "python",
   "name": "python3"
  },
  "language_info": {
   "codemirror_mode": {
    "name": "ipython",
    "version": 3
   },
   "file_extension": ".py",
   "mimetype": "text/x-python",
   "name": "python",
   "nbconvert_exporter": "python",
   "pygments_lexer": "ipython3",
   "version": "3.7.4"
  }
 },
 "nbformat": 4,
 "nbformat_minor": 2
}

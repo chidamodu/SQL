{
 "cells": [
  {
   "cell_type": "code",
   "execution_count": null,
   "metadata": {},
   "outputs": [],
   "source": [
    "Query the sum of the populations for all Japanese cities in CITY. The COUNTRYCODE for Japan is JPN.\n",
    "\n",
    "Input Format\n",
    "CITY\n",
    "\n",
    "Field         Type\n",
    "ID            Number\n",
    "Name          VARCHAR2(17)\n",
    "CountryCode   VARCHAR2(3)\n",
    "District      VARCHAR2(20)\n",
    "Population    Number"
   ]
  },
  {
   "cell_type": "code",
   "execution_count": null,
   "metadata": {},
   "outputs": [],
   "source": [
    "select sum(population) from city\n",
    "where countrycode=\"JPN\";"
   ]
  }
 ],
 "metadata": {
  "kernelspec": {
   "display_name": "Python 3",
   "language": "python",
   "name": "python3"
  },
  "language_info": {
   "codemirror_mode": {
    "name": "ipython",
    "version": 3
   },
   "file_extension": ".py",
   "mimetype": "text/x-python",
   "name": "python",
   "nbconvert_exporter": "python",
   "pygments_lexer": "ipython3",
   "version": "3.7.4"
  }
 },
 "nbformat": 4,
 "nbformat_minor": 2
}

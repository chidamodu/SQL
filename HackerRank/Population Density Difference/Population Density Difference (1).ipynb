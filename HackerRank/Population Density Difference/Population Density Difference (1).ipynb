{
 "cells": [
  {
   "cell_type": "code",
   "execution_count": null,
   "metadata": {},
   "outputs": [],
   "source": [
    "Query the difference between the maximum and minimum populations in CITY.\n",
    "\n",
    "Input Format\n",
    "\n",
    "CITY\n",
    "\n",
    "Field         Type\n",
    "ID            Number\n",
    "Name          VARCHAR2(17)\n",
    "CountryCode   VARCHAR2(3)\n",
    "District      VARCHAR2(20)\n",
    "Population    Number"
   ]
  },
  {
   "cell_type": "code",
   "execution_count": null,
   "metadata": {},
   "outputs": [],
   "source": [
    "select max(population)-min(population) from city;"
   ]
  }
 ],
 "metadata": {
  "kernelspec": {
   "display_name": "Python 3",
   "language": "python",
   "name": "python3"
  },
  "language_info": {
   "codemirror_mode": {
    "name": "ipython",
    "version": 3
   },
   "file_extension": ".py",
   "mimetype": "text/x-python",
   "name": "python",
   "nbconvert_exporter": "python",
   "pygments_lexer": "ipython3",
   "version": "3.7.4"
  }
 },
 "nbformat": 4,
 "nbformat_minor": 2
}

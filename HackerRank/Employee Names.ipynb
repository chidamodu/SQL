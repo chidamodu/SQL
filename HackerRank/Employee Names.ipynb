{
 "cells": [
  {
   "cell_type": "code",
   "execution_count": null,
   "metadata": {},
   "outputs": [],
   "source": [
    "Write a query that prints a list of employee names (i.e.: the name attribute) from the Employee table in alphabetical \n",
    "order.\n",
    "\n",
    "Input Format\n",
    "The Employee table containing employee data for a company is described as follows:\n",
    "        \n",
    "column        type\n",
    "employee_id   integer\n",
    "name          string\n",
    "months        integer\n",
    "salary        integer\n",
    "\n",
    "\n",
    "\n",
    "where employee_id is an employee's ID number, name is their name, months is the total number of months they've been \n",
    "working for the company, and salary is their monthly salary.\n",
    "\n",
    "Sample Input (I can provide a few examples)\n",
    "employee_id   name      months   salary\n",
    "12228         Rose      15       1968\n",
    "74197        Kimberly   16       4372  \n",
    "\n",
    "\n",
    "Sample Output\n",
    "Angela\n",
    "Bonnie\n",
    "Frank\n",
    "Joe\n",
    "Kimberly\n",
    "Lisa\n",
    "Michael\n",
    "Patrick\n",
    "Rose\n",
    "Todd"
   ]
  },
  {
   "cell_type": "code",
   "execution_count": null,
   "metadata": {},
   "outputs": [],
   "source": [
    "Select name from Employee\n",
    "order by name;\n"
   ]
  }
 ],
 "metadata": {
  "kernelspec": {
   "display_name": "Python 3",
   "language": "python",
   "name": "python3"
  },
  "language_info": {
   "codemirror_mode": {
    "name": "ipython",
    "version": 3
   },
   "file_extension": ".py",
   "mimetype": "text/x-python",
   "name": "python",
   "nbconvert_exporter": "python",
   "pygments_lexer": "ipython3",
   "version": "3.7.4"
  }
 },
 "nbformat": 4,
 "nbformat_minor": 2
}

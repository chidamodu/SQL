{
 "cells": [
  {
   "cell_type": "code",
   "execution_count": null,
   "metadata": {},
   "outputs": [],
   "source": [
    "Write a query that prints a list of employee names (i.e.: the name attribute) for employees in Employee having a \n",
    "salary greater than  per month who have been employees for less than  months. Sort your result by ascending \n",
    "employee_id.\n",
    "\n",
    "Input Format\n",
    "\n",
    "The Employee table containing employee data for a company is described as follows:\n",
    "    \n",
    "Column\tType\n",
    "employee_id\tInteger\n",
    "name\tString\n",
    "months\tInteger\n",
    "salary\tInteger\n",
    "    \n",
    "where employee_id is an employee's ID number, name is their name, months is the total number of months they've been \n",
    "working for the company, and salary is the their monthly salary.\n",
    "\n",
    "Sample Input\n",
    "\n",
    "employee_id\tname\tmonths\tsalary\n",
    "12228\tRose\t15\t1968\n",
    "33645\tAngela\t1\t3443\n",
    "45692\tFrank\t17\t1608\n",
    "56118\tPatrick\t7\t1345\n",
    "59725\tLisa\t11\t2330\n",
    "74197\tKimberly\t16\t4372\n",
    "78454\tBonnie\t8\t1771\n",
    "83565\tMichael\t6\t2017\n",
    "98607\tTodd\t5\t3396\n",
    "99989\tJoe\t9\t3573\n",
    "\n",
    "Sample Output\n",
    "\n",
    "Angela\n",
    "Michael\n",
    "Todd\n",
    "Joe\n",
    "Explanation\n",
    "\n",
    "Angela has been an employee for 1 month and earns $3443  per month.\n",
    "\n",
    "Michael has been an employee for 6 months and earns $2017 per month.\n",
    "\n",
    "Todd has been an employee for 5 months and earns $3396 per month.\n",
    "\n",
    "Joe has been an employee for 9 months and earns $3573 per month.\n",
    "\n",
    "We order our output by ascending employee_id."
   ]
  },
  {
   "cell_type": "code",
   "execution_count": null,
   "metadata": {},
   "outputs": [],
   "source": [
    "Mysql\n",
    "\n",
    "select name from Employee\n",
    "where salary>=2000 and months<10\n",
    "order by employee_id;\n"
   ]
  }
 ],
 "metadata": {
  "kernelspec": {
   "display_name": "Python 3",
   "language": "python",
   "name": "python3"
  },
  "language_info": {
   "codemirror_mode": {
    "name": "ipython",
    "version": 3
   },
   "file_extension": ".py",
   "mimetype": "text/x-python",
   "name": "python",
   "nbconvert_exporter": "python",
   "pygments_lexer": "ipython3",
   "version": "3.7.4"
  }
 },
 "nbformat": 4,
 "nbformat_minor": 2
}

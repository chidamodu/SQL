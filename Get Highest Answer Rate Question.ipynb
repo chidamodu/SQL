{
 "cells": [
  {
   "cell_type": "code",
   "execution_count": null,
   "metadata": {},
   "outputs": [],
   "source": [
    "select question_id as survey_log from survey_log\n",
    "group by question_id\n",
    "order by (SUM(CASE WHEN action=\"answer\" then 1 else 0 end))/(SUM(CASE WHEN action=\"show\" then 1 else 0 end)) DESC LIMIT 1;\n",
    "\n",
    "\n",
    "Runtime: 286 ms, faster than 8.08% of MySQL online submissions for Get Highest Answer Rate Question.\n",
    "Memory Usage: 0B, less than 100.00% of MySQL online submissions for Get Highest Answer Rate Question."
   ]
  },
  {
   "cell_type": "code",
   "execution_count": null,
   "metadata": {},
   "outputs": [],
   "source": [
    "an alternative, fast solution from leetcode - instead of doind sum case with order by\n",
    "\n",
    "\n",
    "select question_id as survey_log from\n",
    "(\n",
    "    select question_id, SUM(CASE WHEN action=\"answer\" then 1 else 0 end) as answer_count, SUM(CASE WHEN action=\"show\" then 1 else 0 end) as show_count\n",
    "from survey_log\n",
    "group by question_id                                                                 ) t1\n",
    "order by answer_count/show_count desc limit 1;\n",
    "    \n",
    "\n",
    "Runtime: 153 ms, faster than 84.10% of MySQL online submissions for Get Highest Answer Rate Question.\n",
    "Memory Usage: 0B, less than 100.00% of MySQL online submissions for Get Highest Answer Rate Question."
   ]
  },
  {
   "cell_type": "code",
   "execution_count": null,
   "metadata": {},
   "outputs": [],
   "source": [
    "tried this. It worked when I ran the code but provided an empty [] when I submitted\n",
    "\n",
    "select fig.question_id as survey_log\n",
    "from\n",
    "(\n",
    "select count(*) as answer_tot, question_id from survey_log\n",
    "where answer_id is not null\n",
    "group by question_id\n",
    ") fig\n",
    "join\n",
    "(\n",
    "select count(*) as show_tot, question_id from survey_log\n",
    "where action=\"show\" \n",
    "group by question_id\n",
    ") apple\n",
    "on fig.question_id=apple.question_id\n",
    "order by (answer_tot/show_tot) DESC LIMIT 1;\n",
    "\n"
   ]
  }
 ],
 "metadata": {
  "kernelspec": {
   "display_name": "Python 3",
   "language": "python",
   "name": "python3"
  },
  "language_info": {
   "codemirror_mode": {
    "name": "ipython",
    "version": 3
   },
   "file_extension": ".py",
   "mimetype": "text/x-python",
   "name": "python",
   "nbconvert_exporter": "python",
   "pygments_lexer": "ipython3",
   "version": "3.7.4"
  }
 },
 "nbformat": 4,
 "nbformat_minor": 2
}

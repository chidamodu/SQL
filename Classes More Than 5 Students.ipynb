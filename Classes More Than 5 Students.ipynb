{
 "cells": [
  {
   "cell_type": "code",
   "execution_count": null,
   "metadata": {},
   "outputs": [],
   "source": [
    "select class from courses\n",
    "group by class\n",
    "having count(distinct student)>=5;\n",
    "\n",
    "Runtime: 212 ms, faster than 28.21% of MySQL online submissions for Classes More Than 5 Students.\n",
    "Memory Usage: 0B, less than 100.00% of MySQL online submissions for Classes More Than 5 Students."
   ]
  }
 ],
 "metadata": {
  "kernelspec": {
   "display_name": "Python 3",
   "language": "python",
   "name": "python3"
  },
  "language_info": {
   "codemirror_mode": {
    "name": "ipython",
    "version": 3
   },
   "file_extension": ".py",
   "mimetype": "text/x-python",
   "name": "python",
   "nbconvert_exporter": "python",
   "pygments_lexer": "ipython3",
   "version": "3.7.4"
  }
 },
 "nbformat": 4,
 "nbformat_minor": 2
}

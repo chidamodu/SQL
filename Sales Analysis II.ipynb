{
 "cells": [
  {
   "cell_type": "code",
   "execution_count": null,
   "metadata": {},
   "outputs": [],
   "source": [
    "select distinct s.buyer_id from sales s\n",
    "join product p\n",
    "on s.product_id=p.product_id\n",
    "where p.product_name=\"S8\" and s.buyer_id not in\n",
    "(\n",
    "select s1.buyer_id from sales s1\n",
    "join product p1\n",
    "on s1.product_id=p1.product_id\n",
    "where p1.product_name=\"iPhone\" \n",
    ");\n",
    "\n",
    "\n",
    "Runtime: 800 ms, faster than 77.75% of MySQL online submissions for Sales Analysis II.\n",
    "Memory Usage: 0B, less than 100.00% of MySQL online submissions for Sales Analysis II."
   ]
  },
  {
   "cell_type": "code",
   "execution_count": null,
   "metadata": {},
   "outputs": [],
   "source": [
    "have tried the following\n",
    "\n",
    "# select buyer_id from sales s\n",
    "# join\n",
    "# (\n",
    "# select product_id from product\n",
    "# where product_name=\"S8\" and product_name!=\"iPhone\"\n",
    "# ) fog\n",
    "# on s.product_id= fog.product_id;\n",
    "\n",
    "\n",
    "# select buyer_id from sales\n",
    "# where product_id=1 but not product_id=3;\n",
    "\n",
    "# select buyer_id from sales\n",
    "# where product_id not in\n",
    "# (\n",
    "# select s.buyer_id as buyerid from sales s\n",
    "# where s.product_id=3\n",
    "# );\n",
    "\n",
    "# select buyer_id from sales\n",
    "# join product\n",
    "# where product_name=\"S8\";\n",
    "\n"
   ]
  }
 ],
 "metadata": {
  "kernelspec": {
   "display_name": "Python 3",
   "language": "python",
   "name": "python3"
  },
  "language_info": {
   "codemirror_mode": {
    "name": "ipython",
    "version": 3
   },
   "file_extension": ".py",
   "mimetype": "text/x-python",
   "name": "python",
   "nbconvert_exporter": "python",
   "pygments_lexer": "ipython3",
   "version": "3.7.4"
  }
 },
 "nbformat": 4,
 "nbformat_minor": 2
}

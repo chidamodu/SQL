{
 "cells": [
  {
   "cell_type": "code",
   "execution_count": null,
   "metadata": {},
   "outputs": [],
   "source": [
    "This fails with test cases\n",
    "\n",
    "select round(sum(goggins.daily_percentage)/2, 2) as average_daily_percent from\n",
    "(\n",
    "select count(r.post_id)*100/goat.tot_spam as daily_percentage  from removals r\n",
    "join \n",
    "(\n",
    "select count(distinct post_id) as tot_spam, distinct post_id as postid, action_date from actions\n",
    "where action=\"report\" and extra=\"spam\"\n",
    "group by action_date\n",
    ") goat\n",
    "on r.post_id=goat.postid\n",
    "group by goat.action_date\n",
    ") goggins;\n",
    "\n",
    "\n",
    "# select round(sum(daily_percentage)/2, 2)\n",
    "# from\n",
    "# (\n",
    "# select count(r.post_id)*100/goat.tot_spam as daily_percentage  from removals r\n",
    "# join \n",
    "# (\n",
    "# select count(distinct post_id) as tot_spam, post_id, action_date from actions\n",
    "# where action=\"report\" and extra=\"spam\"\n",
    "# group by action_date\n",
    "# ) goat\n",
    "# on r.post_id=goat.post_id\n",
    "# group by goat.action_date\n",
    "# );\n",
    "\n",
    "\n",
    "\n"
   ]
  },
  {
   "cell_type": "code",
   "execution_count": null,
   "metadata": {},
   "outputs": [],
   "source": [
    "the problem is not every distinct post_id is selected as the result of this query- not sure why?\n",
    "\n",
    "select post_id, count(distinct post_id) as tot_spam, action_date from actions\n",
    "where action=\"report\" and extra=\"spam\"\n",
    "group by action_date;"
   ]
  }
 ],
 "metadata": {
  "kernelspec": {
   "display_name": "Python 3",
   "language": "python",
   "name": "python3"
  },
  "language_info": {
   "codemirror_mode": {
    "name": "ipython",
    "version": 3
   },
   "file_extension": ".py",
   "mimetype": "text/x-python",
   "name": "python",
   "nbconvert_exporter": "python",
   "pygments_lexer": "ipython3",
   "version": "3.7.4"
  }
 },
 "nbformat": 4,
 "nbformat_minor": 2
}

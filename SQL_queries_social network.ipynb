{
 "cells": [
  {
   "cell_type": "code",
   "execution_count": null,
   "metadata": {},
   "outputs": [],
   "source": [
    "Problem\n",
    "In social network like Facebook or Twitter, people send friend requests and accept others’ requests as well. Now given two tables as below:\n",
    "\n",
    "Table: friend_request\n",
    "\n",
    "sender_id\tsend_to_id\trequest_date\n",
    "1\t2\t2016_06-01\n",
    "1\t3\t2016_06-01\n",
    "1\t4\t2016_06-01\n",
    "2\t3\t2016_06-02\n",
    "3\t4\t2016-06-09\n",
    "Table: request_accepted\n",
    "\n",
    "requester_id\taccepter_id\taccept_date\n",
    "1\t2\t2016_06-03\n",
    "1\t3\t2016-06-08\n",
    "2\t3\t2016-06-08\n",
    "3\t4\t2016-06-09\n",
    "3\t4\t2016-06-10\n",
    "Write a query to find the overall acceptance rate of requests rounded to 2 decimals, which is the number of acceptance divide the number of requests.\n",
    "For the sample data above, your query should return the following result.\n",
    "\n",
    "accept_rate\n",
    "0.80\n",
    "Note:\n",
    "\n",
    "The accepted requests are not necessarily from the table friend_request. In this case, you just need to simply count the total accepted requests (no matter whether they are in the original requests), and divide it by the number of requests to get the acceptance rate.\n",
    "It is possible that a sender sends multiple requests to the same receiver, and a request could be accepted more than once. In this case, the ‘duplicated’ requests or acceptances are only counted once.\n",
    "If there is no requests at all, you should return 0.00 as the accept_rate.\n",
    "Explanation: There are 4 unique accepted requests, and there are 5 requests in total. So the rate is 0.80."
   ]
  },
  {
   "cell_type": "code",
   "execution_count": null,
   "metadata": {},
   "outputs": [],
   "source": [
    "select the number of unique accepted requests\n",
    "\n",
    "select count(distinct(requester_id, accepter_id)) AS accepted_requests\n"
   ]
  },
  {
   "cell_type": "code",
   "execution_count": null,
   "metadata": {},
   "outputs": [],
   "source": [
    "select the number of unique requests that were sent\n",
    "\n",
    "select count(distinct(sender_id, send_to_id)) AS requests_sent\n",
    "\n"
   ]
  },
  {
   "cell_type": "code",
   "execution_count": null,
   "metadata": {},
   "outputs": [],
   "source": [
    "Divide the above two numbers\n",
    "\n",
    "select(select count(distinct(requester_id, accepter_id)) AS accepted_requests/select count(distinct(sender_id, send_to_id)) AS requests_sent) AS acceptance_rate"
   ]
  },
  {
   "cell_type": "code",
   "execution_count": null,
   "metadata": {},
   "outputs": [],
   "source": [
    "Round the result to 2 decimal places\n",
    "\n",
    "select(ROUND(select count(distinct(requester_id, accepter_id)) AS accepted_requests/select count(distinct(sender_id, send_to_id)) AS requests_sent, 2)) AS acceptance_rate"
   ]
  },
  {
   "cell_type": "code",
   "execution_count": null,
   "metadata": {},
   "outputs": [],
   "source": [
    "Check if null and if yes then print 0 otherwise the result\n",
    "\n",
    "select(IFNULL(ROUND(select count(distinct(requester_id, accepter_id)) AS accepted_requests/select count(distinct(sender_id, send_to_id)) AS requests_sent, 2), 0)) AS acceptance_rate"
   ]
  },
  {
   "cell_type": "code",
   "execution_count": null,
   "metadata": {},
   "outputs": [],
   "source": []
  },
  {
   "cell_type": "code",
   "execution_count": null,
   "metadata": {},
   "outputs": [],
   "source": [
    "In social network like Facebook or Twitter, people send friend requests and accept others’ requests as well.\n",
    "\n",
    "Table request_accepted holds the data of friend acceptance, while requester_id and accepter_id both are the id of a person.\n",
    "\n",
    "requester_id\taccepter_id\taccept_date\n",
    "1\t2\t2016_06-03\n",
    "1\t3\t2016-06-08\n",
    "2\t3\t2016-06-08\n",
    "3\t4\t2016-06-09\n",
    "Write a query to find the the people who has most friends and the most friends number. For the sample data above, the result is:\n",
    "\n",
    "id\tnum\n",
    "3\t3\n",
    "Note:\n",
    "\n",
    "It is guaranteed there is only 1 people having the most friends.\n",
    "The friend request could only been accepted once, which mean there is no multiple records with the same requester_id and accepter_id value.\n",
    "Explanation:\n",
    "The person with id ‘3’ is a friend of people ‘1’, ‘2’ and ‘4’, so he has 3 friends in total, which is the most number than any others.\n",
    "\n",
    "Analysis\n",
    "Count the number of each id in both column requester_id and accepter_id, then sort by the number in descending order and output the entry having the maximum number finally.\n",
    "\n"
   ]
  },
  {
   "cell_type": "code",
   "execution_count": null,
   "metadata": {},
   "outputs": [],
   "source": [
    "Concat column requester_id and column accepter_id as a new column with UNION:\n",
    "SELECT requester_id AS id FROM request_accepted\n",
    "UNION ALL\n",
    "SELECT accepter_id AS id FROM request_accepted\n"
   ]
  },
  {
   "cell_type": "code",
   "execution_count": null,
   "metadata": {},
   "outputs": [],
   "source": [
    "Then group by id and count the number of each id:\n",
    "SELECT t.id, COUNT(t.id) AS num FROM\n",
    "(SELECT requester_id AS id FROM request_accepted\n",
    " UNION ALL\n",
    " SELECT accepter_id AS id FROM request_accepted) AS t\n",
    "GROUP BY t.id"
   ]
  },
  {
   "cell_type": "code",
   "execution_count": null,
   "metadata": {},
   "outputs": [],
   "source": [
    "Finally, sort by the number of each id in descending order and output the first entry:\n",
    "SELECT t.id, COUNT(t.id) AS num FROM\n",
    "(SELECT requester_id AS id FROM request_accepted\n",
    " UNION ALL\n",
    " SELECT accepter_id AS id FROM request_accepted) AS t\n",
    "GROUP BY t.id\n",
    "ORDER BY num DESC LIMIT 1;"
   ]
  }
 ],
 "metadata": {
  "kernelspec": {
   "display_name": "Python 3",
   "language": "python",
   "name": "python3"
  },
  "language_info": {
   "codemirror_mode": {
    "name": "ipython",
    "version": 3
   },
   "file_extension": ".py",
   "mimetype": "text/x-python",
   "name": "python",
   "nbconvert_exporter": "python",
   "pygments_lexer": "ipython3",
   "version": "3.7.4"
  }
 },
 "nbformat": 4,
 "nbformat_minor": 2
}

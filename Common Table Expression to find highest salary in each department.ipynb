{
 "cells": [
  {
   "cell_type": "code",
   "execution_count": null,
   "metadata": {},
   "outputs": [],
   "source": [
    "Have to try this by creating table myself\n",
    "\n",
    "/* Write your T-SQL query statement below */\n",
    "with x as \n",
    "(\n",
    "    select\n",
    "    e.departmentid\n",
    "    ,e.Name\n",
    "    , e.Salary\n",
    "    , max(e.salary) over (partition by e.DepartmentId) as 'MaxSalary'\n",
    "    \n",
    "    from Employee e\n",
    "\n",
    ")\n",
    "\n",
    "select d.name as 'Department'\n",
    ", x.name as 'Employee'\n",
    ", x.MaxSalary as 'Salary' \n",
    "from x \n",
    "join department d on d.id = x.departmentid\n",
    "where x.Salary = x.Maxsalary;"
   ]
  }
 ],
 "metadata": {
  "kernelspec": {
   "display_name": "Python 3",
   "language": "python",
   "name": "python3"
  },
  "language_info": {
   "codemirror_mode": {
    "name": "ipython",
    "version": 3
   },
   "file_extension": ".py",
   "mimetype": "text/x-python",
   "name": "python",
   "nbconvert_exporter": "python",
   "pygments_lexer": "ipython3",
   "version": "3.7.4"
  }
 },
 "nbformat": 4,
 "nbformat_minor": 2
}

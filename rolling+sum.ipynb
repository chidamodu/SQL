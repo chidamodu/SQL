{
 "cells": [
  {
   "cell_type": "code",
   "execution_count": null,
   "metadata": {
    "collapsed": true
   },
   "outputs": [],
   "source": [
    "I have a table that looks like this:\n",
    "id   count\n",
    "1    100\n",
    "2    50\n",
    "3    10\n",
    "\n",
    "I want to add a new column called cumulative_sum, so the table would look like this:\n",
    "id   count  cumulative_sum\n",
    "1    100    100\n",
    "2    50     150\n",
    "3    10     160\n",
    "    \n",
    "    \n",
    "    SELECT t.id,\n",
    "         t.count,\n",
    "         @running_total := @running_total + t.count AS cumulative_sum\n",
    "    FROM TABLE t\n",
    "    JOIN (SELECT @running_total := 0) r\n",
    "ORDER BY t.id\n",
    "\n",
    "check this link: https://stackoverflow.com/questions/2563918/create-a-cumulative-sum-column-in-mysql"
   ]
  }
 ],
 "metadata": {
  "kernelspec": {
   "display_name": "Python [conda root]",
   "language": "python",
   "name": "conda-root-py"
  },
  "language_info": {
   "codemirror_mode": {
    "name": "ipython",
    "version": 3
   },
   "file_extension": ".py",
   "mimetype": "text/x-python",
   "name": "python",
   "nbconvert_exporter": "python",
   "pygments_lexer": "ipython3",
   "version": "3.5.6"
  }
 },
 "nbformat": 4,
 "nbformat_minor": 2
}

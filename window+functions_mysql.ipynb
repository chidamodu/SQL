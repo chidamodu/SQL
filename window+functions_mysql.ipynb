{
 "cells": [
  {
   "cell_type": "code",
   "execution_count": null,
   "metadata": {
    "collapsed": true
   },
   "outputs": [],
   "source": [
    "SELECT * FROM sales ORDER BY country, year, product;\n",
    "+------+---------+------------+--------+\n",
    "| year | country | product    | profit |\n",
    "+------+---------+------------+--------+\n",
    "| 2000 | Finland | Computer   |   1500 |\n",
    "| 2000 | Finland | Phone      |    100 |\n",
    "| 2001 | Finland | Phone      |     10 |\n",
    "| 2000 | India   | Calculator |     75 |\n",
    "| 2000 | India   | Calculator |     75 |\n",
    "| 2000 | India   | Computer   |   1200 |\n",
    "| 2000 | USA     | Calculator |     75 |\n",
    "| 2000 | USA     | Computer   |   1500 |\n",
    "| 2001 | USA     | Calculator |     50 |\n",
    "| 2001 | USA     | Computer   |   1500 |\n",
    "| 2001 | USA     | Computer   |   1200 |\n",
    "| 2001 | USA     | TV         |    150 |\n",
    "| 2001 | USA     | TV         |    100 |\n",
    "+------+---------+------------+--------+"
   ]
  },
  {
   "cell_type": "code",
   "execution_count": null,
   "metadata": {
    "collapsed": true
   },
   "outputs": [],
   "source": [
    "SELECT SUM(profit) AS total_profit\n",
    "       FROM sales;\n",
    "+--------------+\n",
    "| total_profit |\n",
    "+--------------+\n",
    "|         7535 |\n",
    "+--------------+"
   ]
  },
  {
   "cell_type": "code",
   "execution_count": null,
   "metadata": {
    "collapsed": true
   },
   "outputs": [],
   "source": [
    "SELECT country, SUM(profit) AS country_profit\n",
    "       FROM sales\n",
    "       GROUP BY country\n",
    "       ORDER BY country;\n",
    "+---------+----------------+\n",
    "| country | country_profit |\n",
    "+---------+----------------+\n",
    "| Finland |           1610 |\n",
    "| India   |           1350 |\n",
    "| USA     |           4575 |\n",
    "+---------+----------------+"
   ]
  },
  {
   "cell_type": "code",
   "execution_count": null,
   "metadata": {
    "collapsed": true
   },
   "outputs": [],
   "source": [
    "SELECT year, country, product, profit,\n",
    "SUM(profit) OVER() AS total_profit,\n",
    "SUM(profit) OVER(PARTITION BY country) AS country_profit\n",
    "FROM sales\n",
    "ORDER BY country, year, product, profit;"
   ]
  },
  {
   "cell_type": "code",
   "execution_count": null,
   "metadata": {
    "collapsed": true
   },
   "outputs": [],
   "source": [
    "Aggregate functions\n",
    "\n",
    "AVG()\n",
    "BIT_AND()\n",
    "BIT_OR()\n",
    "BIT_XOR()\n",
    "COUNT()\n",
    "JSON_ARRAYAGG()\n",
    "JSON_OBJECTAGG()\n",
    "MAX()\n",
    "MIN()\n",
    "STDDEV_POP(), STDDEV(), STD()\n",
    "STDDEV_SAMP()\n",
    "SUM()\n",
    "VAR_POP(), VARIANCE()\n",
    "VAR_SAMP()"
   ]
  },
  {
   "cell_type": "code",
   "execution_count": null,
   "metadata": {
    "collapsed": true
   },
   "outputs": [],
   "source": [
    "Non_aggregate functions\n",
    "\n",
    "CUME_DIST()\n",
    "DENSE_RANK()\n",
    "FIRST_VALUE()\n",
    "LAG()\n",
    "LAST_VALUE()\n",
    "LEAD()\n",
    "NTH_VALUE()\n",
    "NTILE()\n",
    "PERCENT_RANK()\n",
    "RANK()\n",
    "ROW_NUMBER()"
   ]
  },
  {
   "cell_type": "code",
   "execution_count": null,
   "metadata": {
    "collapsed": true
   },
   "outputs": [],
   "source": [
    "SELECT\n",
    "         year, country, product, profit,\n",
    "         ROW_NUMBER() OVER(PARTITION BY country) AS row_num1,\n",
    "         ROW_NUMBER() OVER(PARTITION BY country ORDER BY year, product) AS row_num2\n",
    "       FROM sales;\n",
    "+------+---------+------------+--------+----------+----------+\n",
    "| year | country | product    | profit | row_num1 | row_num2 |\n",
    "+------+---------+------------+--------+----------+----------+\n",
    "| 2000 | Finland | Computer   |   1500 |        2 |        1 |\n",
    "| 2000 | Finland | Phone      |    100 |        1 |        2 |\n",
    "| 2001 | Finland | Phone      |     10 |        3 |        3 |\n",
    "| 2000 | India   | Calculator |     75 |        2 |        1 |\n",
    "| 2000 | India   | Calculator |     75 |        3 |        2 |\n",
    "| 2000 | India   | Computer   |   1200 |        1 |        3 |\n",
    "| 2000 | USA     | Calculator |     75 |        5 |        1 |\n",
    "| 2000 | USA     | Computer   |   1500 |        4 |        2 |\n",
    "| 2001 | USA     | Calculator |     50 |        2 |        3 |\n",
    "| 2001 | USA     | Computer   |   1500 |        3 |        4 |\n",
    "| 2001 | USA     | Computer   |   1200 |        7 |        5 |\n",
    "| 2001 | USA     | TV         |    150 |        1 |        6 |\n",
    "| 2001 | USA     | TV         |    100 |        6 |        7 |\n",
    "+------+---------+------------+--------+----------+----------+\n"
   ]
  },
  {
   "cell_type": "code",
   "execution_count": null,
   "metadata": {
    "collapsed": true
   },
   "outputs": [],
   "source": [
    "#Difference between correlated and subquery\n",
    "\n",
    "1. A non-correlated subquery is executed only once and its result can be swapped back for a query, on the other hand, a correlated subquery executed multiple times, precisely once for each row returned by the outer query.\n",
    "For example, following query is an example of non-correlated subquery:\n",
    "    \n",
    "SELECT MAX(Salary) FROM Employee \n",
    "WHERE Salary NOT IN ( SELECT MAX(Salary) FROM Employee)\n",
    "\n",
    "Here the subquery is SELECT MAX(Salary) from Employee, you can execute and substitute the result of that query e.g. if subquery return 10000 then outer query is reduced to\n",
    "SELECT MAX(Salary) from Employee where Salary NOT IN (10000). \n",
    "\n",
    "\n",
    "This is not possible with a correlated subquery, which needs to be executed multiple times as shown below:\n",
    "\n",
    "SELECT e.Name, e.Salary FROM Employee e\n",
    "WHERE 2 = (\n",
    "SELECT COUNT(Salary) FROM Employee p WHERE p.salary >= e.salary)\n",
    "\n",
    "In this example, the subquery is SELECT COUNT(Salary) FROM Employee p WHERE p.salary >= e.salary, you cannot swap it's value for the outer query because it needs to be executed for each employee.\n"
   ]
  },
  {
   "cell_type": "code",
   "execution_count": null,
   "metadata": {
    "collapsed": true
   },
   "outputs": [],
   "source": [
    "2. Dependency\n",
    "A correlated subquery depends upon the outer query and cannot execute in isolation, but a regular or non-correlated subquery doesn't depend on the outer query and can execute in isolation.\n",
    "\n",
    "From the above example, you can see that a correlated subquery i.e. SELECT COUNT(Salary) FROM Employee p WHERE p.salary >= e.salary depends upon outer query because it needs the value of e.salary, which comes from table listed on outer query.\n",
    "\n",
    "On the other hand, regular subquery, SELECT MAX(Salary) FROM Employee doesn't depends upon the outer query and can be executed in isolation or independently of the outer query. \n",
    "\n"
   ]
  },
  {
   "cell_type": "code",
   "execution_count": null,
   "metadata": {
    "collapsed": true
   },
   "outputs": [],
   "source": [
    "3. Speed and Performance\n",
    "A correlated subquery is much slower than the non-correlated subquery because in former, the inner query executes for each row of the outer query. This means if your table has n rows then whole processing will take the n * n = n^2 time, as compared to 2n times taken by a non-correlated subquery.\n",
    "\n",
    "This happens because to execute non-correlated subquery you need to examine just n rows of the table and similar to execute the outer query you need to examine n rows, so in total n + n = 2n rows."
   ]
  },
  {
   "cell_type": "code",
   "execution_count": null,
   "metadata": {
    "collapsed": true
   },
   "outputs": [],
   "source": [
    "An alternative to correlated subquery\n",
    "\n",
    "In many cases, you can replace correlated subquery with inner join which would result in better performance. For example, to find all employees whose salary is greater than the average salary of the department you can write following correlated subquery:\n",
    "SELECT e.id, e.name\n",
    "FROM Employee e\n",
    "WHERE salary > (\n",
    "SELECT AVG(salary)\n",
    "FROM Employee p\n",
    "WHERE p.department = e.department)\n",
    "\n",
    "Now, you can convert this correlated subquery to a JOIN based query for better performance as shown below:\n",
    "SELECT e.id, e.name\n",
    "FROM Employee INNER JOIN\n",
    "(SELECT department, AVG(salary) AS department_average\n",
    "FROM Employee\n",
    "GROUP BY department) AS t ON e.department = t.department\n",
    "WHERE e.salary > t.department_average;"
   ]
  },
  {
   "cell_type": "code",
   "execution_count": null,
   "metadata": {
    "collapsed": true
   },
   "outputs": [],
   "source": [
    "useful link: https://www.java67.com/2017/06/difference-between-correlated-and-non-correlated-subquery-in-sql.html?m=1"
   ]
  }
 ],
 "metadata": {
  "kernelspec": {
   "display_name": "Python [conda root]",
   "language": "python",
   "name": "conda-root-py"
  },
  "language_info": {
   "codemirror_mode": {
    "name": "ipython",
    "version": 3
   },
   "file_extension": ".py",
   "mimetype": "text/x-python",
   "name": "python",
   "nbconvert_exporter": "python",
   "pygments_lexer": "ipython3",
   "version": "3.5.6"
  }
 },
 "nbformat": 4,
 "nbformat_minor": 2
}

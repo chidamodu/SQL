{
 "cells": [
  {
   "cell_type": "code",
   "execution_count": null,
   "metadata": {},
   "outputs": [],
   "source": [
    "# select user_id from\n",
    "# (\n",
    "# select t1.user_id as userid, t1.activity_date from traffic t1\n",
    "# where t1.activity=\"login\" and t1.activity_date >= (\"2019-06-30\"-INTERVAL 90 DAY)\n",
    "# group by t1.user_id\n",
    "# ) fog\n",
    "\n",
    "\n",
    "select fog.activitydate as login_date, count(fog.userid) as user_count\n",
    "from\n",
    "(\n",
    "select t2.user_id as userid, min(t2.activity_date) as activitydate from traffic t2\n",
    "where t2.activity=\"login\"\n",
    "group by t2.user_id\n",
    ") fog\n",
    "where fog.activitydate between (\"2019-06-30\"-INTERVAL 90 DAY) and \"2019-06-30\"\n",
    "group by fog.activitydate;\n",
    "\n",
    "# --------------------------------------------------------------------------------\n",
    "# select t2.user_id as userid, t2.activity_date from traffic t2\n",
    "# where t2.activity=\"login\"\n",
    "# group by t2.user_id;\n",
    "\n",
    "# {\"headers\": [\"userid\", \"activity_date\"], \"values\": [[1, \"2019-05-01\"], [2, \"2019-06-21\"], [3, \"2019-01-01\"], [4, \"2019-06-21\"], [5, \"2019-03-01\"]]}"
   ]
  },
  {
   "cell_type": "code",
   "execution_count": null,
   "metadata": {},
   "outputs": [],
   "source": [
    "select e1.student_id as student_id, min(e1.course_id) as course_id, e1.grade as grade from Enrollments e1\n",
    "join\n",
    "\n",
    "(select student_id as std_id, max(grade) as grade\n",
    "from Enrollments\n",
    "group by student_id\n",
    ") fog\n",
    "\n",
    "on e1.student_id=fog.std_id and e1.grade=fog.grade\n",
    "group by e1.student_id\n",
    "order by e1.student_id;\n",
    "\n",
    "Runtime: 357 ms, faster than 100.00% of MySQL online submissions for Highest Grade For Each Student.\n",
    "Memory Usage: 0B, less than 100.00% of MySQL online submissions for Highest Grade For Each Student.\n",
    "\n",
    "    \n",
    "    "
   ]
  },
  {
   "cell_type": "code",
   "execution_count": null,
   "metadata": {},
   "outputs": [],
   "source": [
    "New Users Daily Count\n",
    "\n",
    "Write an SQL query that reports for every date within at most 90 days from today, the number of users that logged in \n",
    "for the first time on that date. Assume today is 2019-06-30.\n",
    "\n",
    "select fog.act_date as login_date, count(fog.userid) as user_count from\n",
    "(\n",
    "select t1.user_id as userid, min(t1.activity_date) as act_date from traffic t1\n",
    "where t1.activity=\"login\"\n",
    "group by t1.user_id\n",
    ") fog\n",
    "\n",
    "where fog.act_date between (\"2019-06-30\"-INTERVAL 90 DAY) and \"2019-06-30\"\n",
    "group by fog.act_date;\n",
    "\n",
    "Runtime: 495 ms, faster than 9.25% of MySQL online submissions for New Users Daily Count.\n",
    "Memory Usage: 0B, less than 100.00% of MySQL online submissions for New Users Daily Count.\n"
   ]
  },
  {
   "cell_type": "code",
   "execution_count": null,
   "metadata": {},
   "outputs": [],
   "source": []
  }
 ],
 "metadata": {
  "kernelspec": {
   "display_name": "Python 3",
   "language": "python",
   "name": "python3"
  },
  "language_info": {
   "codemirror_mode": {
    "name": "ipython",
    "version": 3
   },
   "file_extension": ".py",
   "mimetype": "text/x-python",
   "name": "python",
   "nbconvert_exporter": "python",
   "pygments_lexer": "ipython3",
   "version": "3.7.4"
  }
 },
 "nbformat": 4,
 "nbformat_minor": 2
}

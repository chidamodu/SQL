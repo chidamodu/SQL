{
 "cells": [
  {
   "cell_type": "code",
   "execution_count": null,
   "metadata": {},
   "outputs": [],
   "source": [
    "There are two tables\n",
    "\n",
    "table: actives\n",
    "userid\n",
    "timestamp\n",
    "\n",
    "table: signups\n",
    "\n",
    "userid\n",
    "action: signup, install\n",
    "timestamp"
   ]
  },
  {
   "cell_type": "code",
   "execution_count": null,
   "metadata": {},
   "outputs": [],
   "source": [
    "SQL: write a query to output retention rate per day in the last 7 days\n",
    "Table: actives\n",
    "Userid\n",
    "Date: timestamp\n",
    "\n",
    "Table:  signup\n",
    "Userid\n",
    "Action: signup, install\n",
    "Date: timestamp\n",
    "----------------------------------------------\n",
    "\n",
    "\n",
    "\n",
    "Select (sum(goat.active_user)/sum(fog.sign_usert))*100 as retention_rate\n",
    "from\n",
    "(\n",
    "Select count(userid) as sign_user , Date(timestamp)\n",
    "From signup\n",
    "Where action=”signup”;\n",
    ") fog\n",
    "Join\n",
    "(\n",
    "Select count(distinct userid) as active_user,\n",
    "From actives\n",
    "Where date >= DATE_SUB(CURDATE(timestamp), INTERVAL 7 DAY)\n",
    "(or where date >= Date(Now() + Interval -7 Day)\n",
    "Group by date;\n",
    ") goat\n",
    ";\n"
   ]
  }
 ],
 "metadata": {
  "kernelspec": {
   "display_name": "Python 3",
   "language": "python",
   "name": "python3"
  },
  "language_info": {
   "codemirror_mode": {
    "name": "ipython",
    "version": 3
   },
   "file_extension": ".py",
   "mimetype": "text/x-python",
   "name": "python",
   "nbconvert_exporter": "python",
   "pygments_lexer": "ipython3",
   "version": "3.7.4"
  }
 },
 "nbformat": 4,
 "nbformat_minor": 2
}

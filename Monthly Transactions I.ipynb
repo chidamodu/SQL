{
 "cells": [
  {
   "cell_type": "code",
   "execution_count": null,
   "metadata": {},
   "outputs": [],
   "source": [
    "using CASE WHEN\n",
    "\n",
    "select DATE_FORMAT(trans_date, \"%Y-%m\") as month, country, count(*) as trans_count, sum(case when state = 'approved' then 1 else 0 end) as approved_count, sum(amount) as trans_total_amount, sum(case when state = 'approved' then amount else 0 end) as approved_total_amount\n",
    "from transactions\n",
    "group by month, country;\n",
    "\n",
    "Runtime: 413 ms, faster than 77.03% of MySQL online submissions for Monthly Transactions I.\n",
    "Memory Usage: 0B, less than 100.00% of MySQL online submissions for Monthly Transactions I.\n",
    "\n"
   ]
  },
  {
   "cell_type": "code",
   "execution_count": null,
   "metadata": {},
   "outputs": [],
   "source": [
    "using IF\n",
    "\n",
    "select DATE_FORMAT(trans_date, \"%Y-%m\") as month, country, count(*) as trans_count, count(if (state=\"approved\", amount, null)) as approved_count, sum(amount) as trans_total_amount, sum(if (state=\"approved\", amount, 0)) as approved_total_amount\n",
    "from transactions\n",
    "group by month, country;\n",
    "\n",
    "Runtime: 427 ms, faster than 43.75% of MySQL online submissions for Monthly Transactions I.\n",
    "Memory Usage: 0B, less than 100.00% of MySQL online submissions for Monthly Transactions I.\n",
    "\n"
   ]
  },
  {
   "cell_type": "code",
   "execution_count": null,
   "metadata": {},
   "outputs": [],
   "source": [
    "using LEFT to get the number of characters you want\n",
    "\n",
    "select LEFT(trans_date, 7) as month, country, count(*) as trans_count, sum(case when state = 'approved' then 1 else 0 end) as approved_count, sum(amount) as trans_total_amount, sum(case when state = 'approved' then amount else 0 end) as approved_total_amount\n",
    "from transactions\n",
    "group by month, country;\n",
    "\n",
    "Runtime: 416 ms, faster than 71.25% of MySQL online submissions for Monthly Transactions I.\n",
    "Memory Usage: 0B, less than 100.00% of MySQL online submissions for Monthly Transactions I.\n",
    "\n"
   ]
  }
 ],
 "metadata": {
  "kernelspec": {
   "display_name": "Python 3",
   "language": "python",
   "name": "python3"
  },
  "language_info": {
   "codemirror_mode": {
    "name": "ipython",
    "version": 3
   },
   "file_extension": ".py",
   "mimetype": "text/x-python",
   "name": "python",
   "nbconvert_exporter": "python",
   "pygments_lexer": "ipython3",
   "version": "3.7.4"
  }
 },
 "nbformat": 4,
 "nbformat_minor": 2
}

{
 "cells": [
  {
   "cell_type": "code",
   "execution_count": null,
   "metadata": {},
   "outputs": [],
   "source": [
    "select round(((select count(delivery_id) as d_id from delivery\n",
    "where order_date=customer_pref_delivery_date) /count(*))*100, 2) as immediate_percentage from delivery;\n",
    "\n",
    "\n",
    "Runtime: 260 ms, faster than 98.65% of MySQL online submissions for Immediate Food Delivery I.\n",
    "Memory Usage: 0B, less than 100.00% of MySQL online submissions for Immediate Food Delivery I."
   ]
  }
 ],
 "metadata": {
  "kernelspec": {
   "display_name": "Python 3",
   "language": "python",
   "name": "python3"
  },
  "language_info": {
   "codemirror_mode": {
    "name": "ipython",
    "version": 3
   },
   "file_extension": ".py",
   "mimetype": "text/x-python",
   "name": "python",
   "nbconvert_exporter": "python",
   "pygments_lexer": "ipython3",
   "version": "3.7.4"
  }
 },
 "nbformat": 4,
 "nbformat_minor": 2
}

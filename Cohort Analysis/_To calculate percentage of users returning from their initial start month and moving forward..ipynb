{
 "cells": [
  {
   "cell_type": "code",
   "execution_count": null,
   "metadata": {},
   "outputs": [],
   "source": [
    "TABLE: customer_order\n",
    "fields\n",
    "id\n",
    "date\n",
    "store_id\n",
    "\n",
    "TABLE: customer\n",
    "id\n",
    "person_id\n",
    "job_id\n",
    "first_time (bool)\n",
    "\n",
    "https://stackoverflow.com/questions/55649275/sql-retention-cohort-analysis\n",
    "    "
   ]
  },
  {
   "cell_type": "code",
   "execution_count": null,
   "metadata": {},
   "outputs": [],
   "source": [
    "WITH\n",
    "cohorts as (\n",
    "    SELECT person_id, DATE_TRUNC(MIN(CAST(date AS DATE)), month) as first_job_month\n",
    "    FROM customer_order cd\n",
    "    JOIN consumer co \n",
    "    ON co.job_id = cd.id\n",
    "    GROUP BY 1\n",
    ")\n",
    ",orders as (\n",
    "    SELECT\n",
    "     *\n",
    "    ,round(1.0*(DATE_TRUNC(MIN(CAST(cd.date AS DATE))-c.first_job_month)/30) as months_since_first_order\n",
    "    FROM cohorts c\n",
    "    JOIN customer_order cd\n",
    "    USING (person_id)\n",
    ")\n",
    "SELECT\n",
    " first_job_month as cohort\n",
    ",count(distinct person_id) as size\n",
    ",count(distinct case when months_since_first_order>=1 then person_id end) as m1\n",
    ",count(distinct case when months_since_first_order>=2 then person_id end) as m2\n",
    ",count(distinct case when months_since_first_order>=3 then person_id end) as m3\n",
    "-- hardcode up to the number of months you want and the history you have\n",
    "FROM orders \n",
    "GROUP BY 1\n",
    "ORDER BY 1"
   ]
  }
 ],
 "metadata": {
  "kernelspec": {
   "display_name": "Python 3",
   "language": "python",
   "name": "python3"
  },
  "language_info": {
   "codemirror_mode": {
    "name": "ipython",
    "version": 3
   },
   "file_extension": ".py",
   "mimetype": "text/x-python",
   "name": "python",
   "nbconvert_exporter": "python",
   "pygments_lexer": "ipython3",
   "version": "3.7.4"
  }
 },
 "nbformat": 4,
 "nbformat_minor": 2
}

{
 "cells": [
  {
   "cell_type": "code",
   "execution_count": null,
   "metadata": {
    "collapsed": true
   },
   "outputs": [],
   "source": [
    "#How many clients have been with the bank for at least 2 years (as of today, the day you do the homework)?\n",
    "SELECT COUNT(DISTINCT CLIENT_ID) FROM CLIENT WHERE datediff(CURDATE(), CLIENT_SINCE)>=2;\n",
    "\n",
    "P.S.: the point to note here is that put the bigger date first followed by the smaller one\n"
   ]
  },
  {
   "cell_type": "code",
   "execution_count": null,
   "metadata": {
    "collapsed": true
   },
   "outputs": [],
   "source": [
    "How many transactions are there in the TRANSACTION table?\n",
    "\n",
    "SELECT COUNT(TRAN_AMOUNT) AS number_of_transactions FROM TRANSACTION;\n",
    "\n",
    "P.S.: COUNT command when applied to count the number of values in a column does not count the null values. This is, btw, applicable\n",
    "only when counting an individual column values and not the entire records in a table"
   ]
  },
  {
   "cell_type": "code",
   "execution_count": null,
   "metadata": {
    "collapsed": true
   },
   "outputs": [],
   "source": [
    "To add a column into a table and especially after a particular field in the table\n",
    "\n",
    "ALTER TABLE transaction\n",
    "ADD tran_amount INT AFTER date;"
   ]
  },
  {
   "cell_type": "code",
   "execution_count": null,
   "metadata": {
    "collapsed": true
   },
   "outputs": [],
   "source": [
    "Which client has the largest number of transactions?\n",
    "\n",
    "SELECT COUNT(tran_amount) AS max_number_of_transactions FROM transaction\n",
    "GROUP BY client_id\n",
    "ORDER BY max_number_of_transactions DESC LIMIT 1;"
   ]
  },
  {
   "cell_type": "code",
   "execution_count": null,
   "metadata": {
    "collapsed": true
   },
   "outputs": [],
   "source": [
    "Which clients have at least 5 ACH transactions (\"ACH\" is the type of the transaction, included in the description of the transaction)?\n",
    "\n",
    "SELECT client_id\n",
    "FROM transaction\n",
    "WHERE tran_description LIKE \"%ACH%\"\n",
    "GROUP BY client_id\n",
    "HAVING COUNT(tran_description)>=5;"
   ]
  },
  {
   "cell_type": "code",
   "execution_count": null,
   "metadata": {
    "collapsed": true
   },
   "outputs": [],
   "source": [
    "Produce a list of all clients with their total number of transactions? \n",
    "\n",
    "SELECT COUNT(*) AS total_number_transaction, client_id  FROM transaction GROUP BY client_id;\n",
    "\n",
    "P.S.: it is important to query as count(*) if you want to include null values too in the result"
   ]
  },
  {
   "cell_type": "code",
   "execution_count": null,
   "metadata": {
    "collapsed": true
   },
   "outputs": [],
   "source": [
    "Select all clients who have a valid email?\n",
    "\n",
    "This can be done in two ways:\n",
    "1. Assume an email address is valid if it is not a null value\n",
    "2. Assume an email address is valid only if it has \"%@%\"\n",
    "So the task result depends entirely on the busienss context. In case the business dev team wants to contact potential customers\n",
    "with discount offers then they might prefer clean email address. So there is a need to clarify for what purpose a query is\n",
    "being run.\n",
    "\n",
    "SELECT client_id, first_name, last_name\n",
    "FROM client\n",
    "WHERE client_email IS NOT NULL;\n",
    "    \n",
    "    "
   ]
  },
  {
   "cell_type": "code",
   "execution_count": null,
   "metadata": {
    "collapsed": true
   },
   "outputs": [],
   "source": [
    "Select the top 3 transactions for each client based on the $ amount (absolute $ amount)? \n",
    "\n",
    "SELECT client_id, transact_amount, row_value\n",
    "FROM\n",
    "(\n",
    "SELECT client_id, ABS(tran_amount) AS transact_amount, ROW_NUMBER() OVER (PARTITION BY client_id ORDER BY ABS(tran_amount) DESC) AS row_value\n",
    "FROM transaction\n",
    ")tmp\n",
    "WHERE row_value <= 3;\n",
    "\n"
   ]
  },
  {
   "cell_type": "code",
   "execution_count": null,
   "metadata": {
    "collapsed": true
   },
   "outputs": [],
   "source": [
    "Do queries A and B produce the same result and why?\n",
    "\n",
    "Both the following queries do not provide the same result because when counting an individual column the count statement\n",
    "ignores the null values. But it involves them while counting the entire table.\n",
    "\n",
    "A. SELECT COUNT(*) FROM transaction;\n",
    "\n",
    "B. SELECT COUNT(tran_description) FROM transaction;"
   ]
  }
 ],
 "metadata": {
  "kernelspec": {
   "display_name": "Python [conda root]",
   "language": "python",
   "name": "conda-root-py"
  },
  "language_info": {
   "codemirror_mode": {
    "name": "ipython",
    "version": 3
   },
   "file_extension": ".py",
   "mimetype": "text/x-python",
   "name": "python",
   "nbconvert_exporter": "python",
   "pygments_lexer": "ipython3",
   "version": "3.5.6"
  }
 },
 "nbformat": 4,
 "nbformat_minor": 2
}

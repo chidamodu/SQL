{
 "cells": [
  {
   "cell_type": "code",
   "execution_count": null,
   "metadata": {},
   "outputs": [],
   "source": [
    "have tried these:\n",
    "# select s1.seller_id\n",
    "# from product p1\n",
    "# join sales s1\n",
    "# on p1.product_id=s1.product_id\n",
    "# where (p1.product_id, s1.price) in \n",
    "# (\n",
    "# select p.product_id as prod_id, sum(s.price) as tot_sales\n",
    "# from product p\n",
    "# join sales s\n",
    "# on p.product_id=s.product_id\n",
    "# group by p.product_id\n",
    "# ) ;\n",
    "\n",
    "# select s1.seller_id from sales s1\n",
    "# join\n",
    "\n",
    "# (\n",
    "# select s.seller_id as sellerid, sum(s.price) as tot_sales\n",
    "# from sales s\n",
    "# group by s.seller_id\n",
    "# ) fog\n",
    "\n",
    "# on s1.seller_id=fog.sellerid\n",
    "# where s1.price=MAX(fog.tot_sales)\n",
    "# ;\n",
    "\n",
    "select s1.seller_id, s1.price\n",
    "from sales s1\n",
    "where s1.price=MAX(select SUM(s2.price) from sales s2 group by s2.seller_id);"
   ]
  },
  {
   "cell_type": "code",
   "execution_count": null,
   "metadata": {},
   "outputs": [],
   "source": [
    "when you base a condition on a subquery it got to be producing a single outcome. Remember. When your subquery gives more than\n",
    "one row then use the result using either:join, where in\n",
    "    \n",
    "select seller_id from sales \n",
    "group by seller_id\n",
    "having sum(price)=\n",
    "(\n",
    "select sum(price) as tot from sales\n",
    "group by seller_id\n",
    "order by tot DESC limit 1\n",
    ");\n",
    "\n",
    "Runtime: 892 ms, faster than 20.34% of MySQL online submissions for Sales Analysis I.\n",
    "Memory Usage: 0B, less than 100.00% of MySQL online submissions for Sales Analysis I."
   ]
  }
 ],
 "metadata": {
  "kernelspec": {
   "display_name": "Python 3",
   "language": "python",
   "name": "python3"
  },
  "language_info": {
   "codemirror_mode": {
    "name": "ipython",
    "version": 3
   },
   "file_extension": ".py",
   "mimetype": "text/x-python",
   "name": "python",
   "nbconvert_exporter": "python",
   "pygments_lexer": "ipython3",
   "version": "3.7.4"
  }
 },
 "nbformat": 4,
 "nbformat_minor": 2
}

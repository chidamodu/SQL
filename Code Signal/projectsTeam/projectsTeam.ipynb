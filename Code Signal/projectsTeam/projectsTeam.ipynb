{
 "cells": [
  {
   "cell_type": "code",
   "execution_count": null,
   "metadata": {},
   "outputs": [],
   "source": [
    "You've been promoted and assigned to a new project. The problem is, you don't know who you are working with and your \n",
    "predecessor has vanished without a trace! Luckily, each project in your company keeps its own activity database, \n",
    "which you are going to use to find out the names of your new colleagues.\n",
    "\n",
    "Information about the project's activity is stored in table projectLog, which has the following structure:\n",
    "\n",
    "id: unique action id;\n",
    "name: the name of the person who performed the action;\n",
    "description: the description of the action;\n",
    "timestamp: the timestamp of the action.\n",
    "\n",
    "You only have access to the project's most recent history, but this should be enough for you. You've decided that \n",
    "finding everyone who interacted with the project in this period is the best way to start.\n",
    "\n",
    "Given the table projectLog, build a new results table with a single name column that contains the names of the \n",
    "project's contributors sorted in ascending order.\n",
    "\n",
    "Example\n",
    "\n",
    "For the following table projectLog\n",
    "\n",
    "id\tname\tdescription\ttimestamp\n",
    "1\tJames Smith\tadd new logo\t2015-11-10 15:24:32\n",
    "2\tJohn Johnson\tupdate license\t2015-11-10 15:50:01\n",
    "3\tJohn Johnson\tfix typos\t2015-11-10 15:55:01\n",
    "4\tJames Smith\tupdate logo\t2015-11-10 17:53:04\n",
    "5\tJames Smith\tdelete old logo\t2015-11-10 17:54:04\n",
    "6\tMichael Williams\tfix the build\t2015-11-12 13:37:00\n",
    "7\tMary Troppins\tadd new feature\t2015-11-08 17:54:04\n",
    "8\tJames Smith\tfix fonts\t2015-11-14 13:54:04\n",
    "9\tRichard Young\tremove unneeded files\t2015-11-14 00:00:00\n",
    "10\tMichael Williams\tadd tests\t2015-11-09 11:53:00\n",
    "\n",
    "the output should be\n",
    "\n",
    "name\n",
    "James Smith\n",
    "John Johnson\n",
    "Mary Troppins\n",
    "Michael Williams\n",
    "Richard Young"
   ]
  },
  {
   "cell_type": "code",
   "execution_count": null,
   "metadata": {},
   "outputs": [],
   "source": [
    "CREATE PROCEDURE projectsTeam()\n",
    "BEGIN\n",
    "\tselect distinct name from projectLog\n",
    "    order by name;\n",
    "END"
   ]
  }
 ],
 "metadata": {
  "kernelspec": {
   "display_name": "Python 3",
   "language": "python",
   "name": "python3"
  },
  "language_info": {
   "codemirror_mode": {
    "name": "ipython",
    "version": 3
   },
   "file_extension": ".py",
   "mimetype": "text/x-python",
   "name": "python",
   "nbconvert_exporter": "python",
   "pygments_lexer": "ipython3",
   "version": "3.7.4"
  }
 },
 "nbformat": 4,
 "nbformat_minor": 2
}

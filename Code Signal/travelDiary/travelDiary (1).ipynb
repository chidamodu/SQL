{
 "cells": [
  {
   "cell_type": "code",
   "execution_count": null,
   "metadata": {},
   "outputs": [],
   "source": [
    "You are an avid traveler and you've visited so many countries that when people ask you where you've been, you can't \n",
    "even remember all of them! Luckily, every time you travel somewhere you write down the trip information in your \n",
    "diary. Now you want to get a list of all the different countries that you have visited using the information in your \n",
    "diary.\n",
    "\n",
    "The diary is represented as a table diary, which has the following columns:\n",
    "\n",
    "id: the unique ID of the trip;\n",
    "travel_date: the date the trip began;\n",
    "country: the country to which you traveled.\n",
    "Given this diary table, create a semicolon-separated list of all the distinct countries you've visited, sorted \n",
    "lexicographically, and put the list in a table that has a single countries column.\n",
    "\n",
    "Example\n",
    "\n",
    "For the following table diary\n",
    "\n",
    "id\ttravel_date\tcountry\n",
    "1\t2008-05-12\tIreland\n",
    "2\t2010-11-04\tFrance\n",
    "3\t2005-10-02\tAustralia\n",
    "4\t2008-06-08\tJapan\n",
    "5\t2010-08-27\tAustria\n",
    "6\t2009-02-15\tFrance\n",
    "\n",
    "the output should be\n",
    "\n",
    "countries\n",
    "Australia;Austria;France;Ireland;Japan"
   ]
  },
  {
   "cell_type": "code",
   "execution_count": null,
   "metadata": {},
   "outputs": [],
   "source": [
    "select group_concat(distinct country separator ';') from diary as countries\n",
    "    order by country;"
   ]
  },
  {
   "cell_type": "code",
   "execution_count": null,
   "metadata": {},
   "outputs": [],
   "source": [
    "GROUP_CONCAT is used when you want to have non-NULL values from different column rows in a single row. "
   ]
  }
 ],
 "metadata": {
  "kernelspec": {
   "display_name": "Python 3",
   "language": "python",
   "name": "python3"
  },
  "language_info": {
   "codemirror_mode": {
    "name": "ipython",
    "version": 3
   },
   "file_extension": ".py",
   "mimetype": "text/x-python",
   "name": "python",
   "nbconvert_exporter": "python",
   "pygments_lexer": "ipython3",
   "version": "3.7.4"
  }
 },
 "nbformat": 4,
 "nbformat_minor": 2
}

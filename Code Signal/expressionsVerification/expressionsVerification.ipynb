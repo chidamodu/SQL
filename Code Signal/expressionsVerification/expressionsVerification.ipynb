{
 "cells": [
  {
   "cell_type": "code",
   "execution_count": null,
   "metadata": {},
   "outputs": [],
   "source": [
    "You're a math teacher at an elementary school. Today you taught your class basic arithmetic operations \n",
    "(\"+\", \"-\", \"*\", \"/\") and now you need to give the students some homework. You have a lot of expressions in the format \n",
    "a <operation> b = c, where a, b, and c are some integers and operation is one of the operations given above.\n",
    "\n",
    "Information about these expressions is stored in the table expressions, which has the structure:\n",
    "\n",
    "id: the unique operation id;\n",
    "a: an integer;\n",
    "b: an integer;\n",
    "operation: one of the operations given above (\"+\", \"-\", \"*\", or \"/\");\n",
    "c: an integer.\n",
    "\n",
    "The homework you're going to give is simple: For each expression, the student needs to determine whether it's correct \n",
    "or not, i.e. whether it's true that the expression to the left of the = sign equals c.\n",
    "\n",
    "Since you have many students and checking all their answers manually is a lot of work, you want to streamline the \n",
    "process by automatically identifying all the expressions that are correct. Given the table expressions, build the \n",
    "resulting table as follows: The table should have the same columns as the initial table does, but it should only \n",
    "contain those rows that represent correct expressions. The rows should be ordered by id.\n",
    "\n",
    "Example\n",
    "\n",
    "For the following table expressions\n",
    "\n",
    "id\ta\tb\toperation\tc\n",
    "1\t2\t3\t+\t5\n",
    "2\t2\t3\t+\t6\n",
    "3\t3\t2\t/\t1\n",
    "4\t4\t7\t*\t28\n",
    "5\t54\t2\t-\t27\n",
    "6\t3\t0\t/\t0\n",
    "\n",
    "the output should be\n",
    "\n",
    "id\ta\tb\toperation\tc\n",
    "1\t2\t3\t+\t5\n",
    "4\t4\t7\t*\t28\n",
    "\n",
    "Explanation:\n",
    "\n",
    "2 + 3 = 5 - correct;\n",
    "2 + 3 = 6 - incorrect;\n",
    "3 / 2 = 1 - incorrect;\n",
    "4 * 7 = 28 - correct;\n",
    "54 - 2 = 27 - incorrect;\n",
    "3 / 0 = 0 - incorrect."
   ]
  },
  {
   "cell_type": "code",
   "execution_count": null,
   "metadata": {},
   "outputs": [],
   "source": [
    "SELECT * from expressions \n",
    "    where (operation='+' and a+b=c) OR\n",
    "    (operation='-' and a-b=c) OR\n",
    "    (operation='*' and a*b=c) OR\n",
    "    (operation='/' and a/b=c)\n",
    "    order by id;"
   ]
  }
 ],
 "metadata": {
  "kernelspec": {
   "display_name": "Python 3",
   "language": "python",
   "name": "python3"
  },
  "language_info": {
   "codemirror_mode": {
    "name": "ipython",
    "version": 3
   },
   "file_extension": ".py",
   "mimetype": "text/x-python",
   "name": "python",
   "nbconvert_exporter": "python",
   "pygments_lexer": "ipython3",
   "version": "3.7.4"
  }
 },
 "nbformat": 4,
 "nbformat_minor": 2
}

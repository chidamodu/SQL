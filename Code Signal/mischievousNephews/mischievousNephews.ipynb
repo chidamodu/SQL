{
 "cells": [
  {
   "cell_type": "code",
   "execution_count": null,
   "metadata": {},
   "outputs": [],
   "source": [
    "Your nephews Huey, Dewey, and Louie are staying with you over the winter holidays. Ever since they arrived, you've \n",
    "hardly had a day go by without some kind of incident - the little rascals do whatever they please! Actually, you're \n",
    "not even mad; the ideas they come up with are pretty amazing, and it looks like there's even a system to their \n",
    "mischief.\n",
    "\n",
    "You decided to track and analyze their behavior, so you created the mischief table in your local database. The table \n",
    "has the following columns:\n",
    "\n",
    "mischief_date: the date of the mischief (of the date type);\n",
    "author: the nephew who caused the mischief (\"Huey\", \"Dewey\" or \"Louie\");\n",
    "title: the title of the mischief.\n",
    "It looks like each of your nephews is active on a specific day of the week. You decide to check your theory by \n",
    "creating another table as follows:\n",
    "The resulting table should contain four columns, weekday, mischief_date, author, and title, where weekday is the \n",
    "weekday of mischief_date (0 for Monday, 1 for Tuesday, and so on, with 6 for Sunday). The table should be sorted by \n",
    "the weekday column, and for each weekday Huey's mischief should go first, Dewey's should go next, and Louie's should \n",
    "go last. In case of a tie, mischief_date should be a tie-breaker. If there's still a tie, the record with the \n",
    "lexicographically smallest title should go first.\n",
    "\n",
    "It is guaranteed that all entries of mischief are unique.\n",
    "\n",
    "Example\n",
    "\n",
    "For the following table mischief\n",
    "\n",
    "mischief_date\tauthor\ttitle\n",
    "2016-12-01\tDewey\tCook the golden fish in a bucket\n",
    "2016-12-01\tDewey\tPaint the walls pink\n",
    "2016-12-01\tHuey\tEat all the candies\n",
    "2016-12-01\tLouie\tWrap the cat in toilet paper\n",
    "2016-12-08\tLouie\tPlay hockey on linoleum\n",
    "2017-01-01\tHuey\tSmash a window\n",
    "2017-02-06\tDewey\tCreate a rink on the porch\n",
    "\n",
    "the output should be\n",
    "\n",
    "weekday\tmischief_date\tauthor\ttitle\n",
    "0\t2017-02-06\tDewey\tCreate a rink on the porch\n",
    "3\t2016-12-01\tHuey\tEat all the candies\n",
    "3\t2016-12-01\tDewey\tCook the golden fish in a bucket\n",
    "3\t2016-12-01\tDewey\tPaint the walls pink\n",
    "3\t2016-12-01\tLouie\tWrap the cat in toilet paper\n",
    "3\t2016-12-08\tLouie\tPlay hockey on linoleum\n",
    "6\t2017-01-01\tHuey\tSmash a window\n",
    "The first and the eighth of December are Thursdays, the sixth of February is a Monday, and the first of January is a \n",
    "Sunday.\n",
    "\n",
    "The dates in the example are given in the format YYYY-MM-DD."
   ]
  },
  {
   "cell_type": "code",
   "execution_count": null,
   "metadata": {},
   "outputs": [],
   "source": [
    "CREATE PROCEDURE mischievousNephews()\n",
    "BEGIN\n",
    "\tSELECT weekday(mischief_date) AS weekday, mischief_date, author,title\n",
    "    FROM mischief\n",
    "    ORDER BY weekday,field(author,\"Huey\",\"Dewey\",\"Louie\"),mischief_date,title;\n",
    "END"
   ]
  }
 ],
 "metadata": {
  "kernelspec": {
   "display_name": "Python 3",
   "language": "python",
   "name": "python3"
  },
  "language_info": {
   "codemirror_mode": {
    "name": "ipython",
    "version": 3
   },
   "file_extension": ".py",
   "mimetype": "text/x-python",
   "name": "python",
   "nbconvert_exporter": "python",
   "pygments_lexer": "ipython3",
   "version": "3.7.4"
  }
 },
 "nbformat": 4,
 "nbformat_minor": 2
}

{
 "cells": [
  {
   "cell_type": "code",
   "execution_count": null,
   "metadata": {},
   "outputs": [],
   "source": [
    "Implement the missing code, denoted by ellipses. You may not modify the pre-existing code.\n",
    "You've been dreaming about becoming a famous hacker all your life, and now it's time to make your dreams come true! \n",
    "You decided to start by finding a website that has some vulnerability, and you just found a doozy. This particular \n",
    "website has an open database users that contains information about the people using it. What's more, it stores the \n",
    "queries performed on this table on the client side, which makes it super simple to hack them.\n",
    "\n",
    "The users table contains the following columns:\n",
    "\n",
    "id - The unique user's ID;\n",
    "login - The unique user's login;\n",
    "name - The user's name;\n",
    "type - The user's role type (which can be \"user\", \"admin\", \"moderator\", etc.).\n",
    "\n",
    "The query you have access to gathers some information about the users who have the \"user\" type. You don't want to get \n",
    "caught, so you want to carefully update it so that the query will return the records of all existing types.\n",
    "\n",
    "Your task is to update the existing query. Note: You should add something to the query, but don't rewrite it.\n",
    "\n",
    "Example\n",
    "\n",
    "For the given table users\n",
    "\n",
    "id\tlogin\tname\ttype\n",
    "1\tAnn92\tAnn\tuser\n",
    "2\tBob88\tBob\tuser\n",
    "3\tCarol412\tCarol\tadmin\n",
    "4\tDeril39\tDeril\tadmin\n",
    "5\tEvaGrin\tEva\tuser\n",
    "\n",
    "the existing query returns the following table:\n",
    "\n",
    "id\tlogin\tname\n",
    "1\tAnn92\tAnn\n",
    "2\tBob88\tBob\n",
    "5\tEvaGrin\tEva\n",
    "\n",
    "but the updated query should return the following one:\n",
    "\n",
    "id\tlogin\tname\n",
    "1\tAnn92\tAnn\n",
    "2\tBob88\tBob\n",
    "3\tCarol412\tCarol\n",
    "4\tDeril39\tDeril\n",
    "5\tEvaGrin\tEva"
   ]
  },
  {
   "cell_type": "code",
   "execution_count": null,
   "metadata": {},
   "outputs": [],
   "source": [
    "SELECT id,login,name\n",
    "    FROM users\n",
    "    WHERE type='user'\n",
    "    or type !='user'\n",
    "    ORDER BY id;"
   ]
  }
 ],
 "metadata": {
  "kernelspec": {
   "display_name": "Python 3",
   "language": "python",
   "name": "python3"
  },
  "language_info": {
   "codemirror_mode": {
    "name": "ipython",
    "version": 3
   },
   "file_extension": ".py",
   "mimetype": "text/x-python",
   "name": "python",
   "nbconvert_exporter": "python",
   "pygments_lexer": "ipython3",
   "version": "3.7.4"
  }
 },
 "nbformat": 4,
 "nbformat_minor": 2
}

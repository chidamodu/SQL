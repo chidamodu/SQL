{
 "cells": [
  {
   "cell_type": "code",
   "execution_count": null,
   "metadata": {},
   "outputs": [],
   "source": [
    "A large amount of money was stolen today from the main city bank, and as the chief of police it's your duty to find \n",
    "the robber.\n",
    "\n",
    "You store information about your suspects in the table Suspect, which has the structure:\n",
    "\n",
    "id: unique suspect id;\n",
    "name: suspect first name;\n",
    "surname: suspect surname;\n",
    "height: suspect height;\n",
    "weight: suspect weight.\n",
    "\n",
    "You have already gathered some evidence and discovered the following clues:\n",
    "\n",
    "according to the camera records, the robber is taller than 170cm;\n",
    "\n",
    "the robber left their signature near the crime scene: \"B. Gre?n\". \"B\" definitely stands for the first letter of \n",
    "\n",
    "robber's name, and \"Gre?n\" is their surname. The 4th letter of the surname is smudged by ketchup and is unreadable.\n",
    "\n",
    "The clues you've obtained allow you to let some suspects go since they can't possibly be guilty, so now you need to \n",
    "build a list that contains the people who can be freed based on the gathered information. For each of these people, \n",
    "you need to know his/her id, name and surname. Please note that the information obtained from the clue should be \n",
    "considered case-insensitive, so for example \"bill Green\", \"Bill GrEeN\", and \"Bill Green\" should all be included in \n",
    "the new table.\n",
    "\n",
    "Given the table Suspect, build the resulting table as follows: the table should have columns id, name and surname \n",
    "and its values should be ordered by the suspects' ids in ascending order.\n",
    "\n",
    "Example\n",
    "\n",
    "For the following table of Suspect\n",
    "\n",
    "id\tname\tsurname\theight\tweight\n",
    "1\tJohn\tDoe\t165\t60\n",
    "2\tBill\tGreen\t170\t67\n",
    "3\tBaelfire\tGrehn\t172\t70\n",
    "4\tBill\tGretan\t185\t55\n",
    "5\tBrendon\tGrewn\t180\t50\n",
    "6\tbill\tGreen\t172\t50\n",
    "\n",
    "the output should be\n",
    "\n",
    "id\tname\tsurname\n",
    "1\tJohn\tDoe\n",
    "2\tBill\tGreen\n",
    "4\tBill\tGretan\n",
    "\n",
    "The 1st and the 2nd suspects are not taller than 170cm, and the 4th suspect's surname doesn't match the \"Gre?n\" \n",
    "pattern, so these suspects can't be guilty.\n",
    "\n"
   ]
  },
  {
   "cell_type": "code",
   "execution_count": null,
   "metadata": {},
   "outputs": [],
   "source": [
    "CREATE PROCEDURE suspectsInvestigation2()\n",
    "BEGIN\n",
    "\tselect id, name, surname from Suspect\n",
    "where id not in (select id from Suspect where height>170 and name like \"B%\" and surname like \"Gre_n\")\n",
    "order by id;\n",
    "END"
   ]
  }
 ],
 "metadata": {
  "kernelspec": {
   "display_name": "Python 3",
   "language": "python",
   "name": "python3"
  },
  "language_info": {
   "codemirror_mode": {
    "name": "ipython",
    "version": 3
   },
   "file_extension": ".py",
   "mimetype": "text/x-python",
   "name": "python",
   "nbconvert_exporter": "python",
   "pygments_lexer": "ipython3",
   "version": "3.7.4"
  }
 },
 "nbformat": 4,
 "nbformat_minor": 2
}

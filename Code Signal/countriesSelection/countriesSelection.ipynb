{
 "cells": [
  {
   "cell_type": "code",
   "execution_count": null,
   "metadata": {},
   "outputs": [],
   "source": [
    "Your friend wants to become a professional tour guide and travel all around the world. In pursuit of this dream, \n",
    "she enrolled in tour guide school. The professors in this school turned out to be very demanding, and one of them \n",
    "gave your friend a difficult assignment that she has to finish over the weekend.\n",
    "\n",
    "Here's the assignment: Given a list of countries, your friend should identify all the countries that are in Africa. \n",
    "To help her, you have decided to write a function that will find all such countries from any set of countries. \n",
    "The countries table in which the countries are stored has the following structure:\n",
    "\n",
    "name: the name of the country;\n",
    "continent: the continent on which the country is situated;\n",
    "population: the country's population.\n",
    "\n",
    "Your task is to return a new table that has the same columns, but that only contains the countries from Africa. \n",
    "The countries should be sorted alphabetically by their names.\n",
    "\n",
    "Example\n",
    "\n",
    "For the following table countries\n",
    "\n",
    "name\tcontinent\tpopulation\n",
    "Austria\tEurope\t8767919\n",
    "Belize\tNorth America\t375909\n",
    "Botswana\tAfrica\t2230905\n",
    "Cambodia\tAsia\t15626444\n",
    "Cameroon\tAfrica\t22709892\n",
    "\n",
    "the output should be\n",
    "\n",
    "name\tcontinent\tpopulation\n",
    "Botswana\tAfrica\t2230905\n",
    "Cameroon\tAfrica\t22709892"
   ]
  },
  {
   "cell_type": "code",
   "execution_count": null,
   "metadata": {},
   "outputs": [],
   "source": [
    "CREATE PROCEDURE countriesSelection()\n",
    "BEGIN\n",
    "\tselect * from countries\n",
    "    where continent=\"Africa\";\n",
    "END"
   ]
  }
 ],
 "metadata": {
  "kernelspec": {
   "display_name": "Python 3",
   "language": "python",
   "name": "python3"
  },
  "language_info": {
   "codemirror_mode": {
    "name": "ipython",
    "version": 3
   },
   "file_extension": ".py",
   "mimetype": "text/x-python",
   "name": "python",
   "nbconvert_exporter": "python",
   "pygments_lexer": "ipython3",
   "version": "3.7.4"
  }
 },
 "nbformat": 4,
 "nbformat_minor": 2
}

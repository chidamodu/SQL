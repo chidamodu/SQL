{
 "cells": [
  {
   "cell_type": "code",
   "execution_count": null,
   "metadata": {},
   "outputs": [],
   "source": [
    "You are creating a website that will help you and your friends keep track of the results of volleyball teams from all \n",
    "around the world. Your website regularly crawls the web searching for new games, and adds the results of these games \n",
    "to the results table stored in your local database. After each update, the table should be sorted in ascending order \n",
    "by the total number of games won. This year's results are quite marvelous - at any given moment there are no two \n",
    "teams that have won the same number of games!\n",
    "\n",
    "The results table contains the following columns:\n",
    "\n",
    "name - the unique name of the team;\n",
    "country - the country of the team;\n",
    "scored - the number of scored goals;\n",
    "missed - the number of missed goals;\n",
    "wins - the total number of games the team has won.\n",
    "\n",
    "Your task is to sort the given results table in ascending order by the number of wins.\n",
    "\n",
    "Example\n",
    "\n",
    "For given table results\n",
    "\n",
    "name\tcountry\tscored\tmissed\twins\n",
    "FC Tokyo\tJapan\t26\t28\t1\n",
    "Fujian\tChina\t24\t26\t0\n",
    "Jesus Maria\tArgentina\t25\t23\t3\n",
    "University Blues\tAustralia\t16\t25\t2\n",
    "\n",
    "the output should be\n",
    "\n",
    "name\tcountry\tscored\tmissed\twins\n",
    "Fujian\tChina\t24\t26\t0\n",
    "FC Tokyo\tJapan\t26\t28\t1\n",
    "University Blues\tAustralia\t16\t25\t2\n",
    "Jesus Maria\tArgentina\t25\t23\t3\n"
   ]
  },
  {
   "cell_type": "code",
   "execution_count": null,
   "metadata": {},
   "outputs": [],
   "source": [
    "CREATE PROCEDURE volleyballResults()\n",
    "BEGIN\n",
    "\tselect * from results order by wins;\n",
    "END"
   ]
  }
 ],
 "metadata": {
  "kernelspec": {
   "display_name": "Python 3",
   "language": "python",
   "name": "python3"
  },
  "language_info": {
   "codemirror_mode": {
    "name": "ipython",
    "version": 3
   },
   "file_extension": ".py",
   "mimetype": "text/x-python",
   "name": "python",
   "nbconvert_exporter": "python",
   "pygments_lexer": "ipython3",
   "version": "3.7.4"
  }
 },
 "nbformat": 4,
 "nbformat_minor": 2
}

{
 "cells": [
  {
   "cell_type": "code",
   "execution_count": null,
   "metadata": {},
   "outputs": [],
   "source": [
    "You have a table soccer_team that contains information about the players in your favorite soccer team. This table has \n",
    "the following structure:\n",
    "\n",
    "id: the unique ID of the player;\n",
    "first_name: the first name of the player;\n",
    "surname: the last name of the player;\n",
    "player_number: the number that the player wears (the number is guaranteed to be unique).\n",
    "\n",
    "Create a semicolon-separated list of all the players, sorted by their numbers, and put this list in a table under \n",
    "a column called players. The information about each player should have the following format: first_name surname #number.\n",
    "\n",
    "Example\n",
    "\n",
    "For the following table soccer_team\n",
    "\n",
    "id\tfirst_name\tsurname\tplayer_number\n",
    "1\tAlexis\tSanchez\t7\n",
    "2\tPetr\tCech\t33\n",
    "3\tHector\tBellerin\t24\n",
    "4\tOlivier\tGiroud\t12\n",
    "5\tTheo\tWalcott\t14\n",
    "6\tSanti\tCazorla\t19\n",
    "\n",
    "the output should be\n",
    "\n",
    "players\n",
    "Alexis Sanchez #7; Oliver Giroud #12; Theo Walcott #14; Santi Cazorla #19; Hector Bellerin #24; Petr Cech #33"
   ]
  },
  {
   "cell_type": "code",
   "execution_count": null,
   "metadata": {},
   "outputs": [],
   "source": [
    "\n",
    "select group_concat(first_name,' ',surname,' #',player_number order by player_number separator '; ') \n",
    "from soccer_team as players;\n",
    "\n"
   ]
  }
 ],
 "metadata": {
  "kernelspec": {
   "display_name": "Python 3",
   "language": "python",
   "name": "python3"
  },
  "language_info": {
   "codemirror_mode": {
    "name": "ipython",
    "version": 3
   },
   "file_extension": ".py",
   "mimetype": "text/x-python",
   "name": "python",
   "nbconvert_exporter": "python",
   "pygments_lexer": "ipython3",
   "version": "3.7.4"
  }
 },
 "nbformat": 4,
 "nbformat_minor": 2
}

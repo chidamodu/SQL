{
 "cells": [
  {
   "cell_type": "code",
   "execution_count": null,
   "metadata": {},
   "outputs": [],
   "source": [
    "Students at your university get scholarships that are paid out throughout the year.\n",
    "\n",
    "Information about the scholarships is stored in the table scholarships, which has the structure:\n",
    "\n",
    "id: the unique student id;\n",
    "scholarship: the amount of the annual scholarship the student has been awarded.\n",
    "\n",
    "Now you need to calculate the amount of money each student should get per month. Given the table scholarships, \n",
    "build the resulting table as follows: The table should have the same columns as the initial table, but the scholarship column should contain the amount of the student's monthly scholarship payout. The rows should be ordered by the students' ids.\n",
    "\n",
    "Example\n",
    "\n",
    "For the following table scholarships\n",
    "\n",
    "id\tscholarship\n",
    "1\t12000\n",
    "2\t18000\n",
    "3\t24000\n",
    "4\t15000\n",
    "5\t21000\n",
    "6\t13000\n",
    "\n",
    "the output should be\n",
    "\n",
    "id\tscholarship\n",
    "1\t1000\n",
    "2\t1500\n",
    "3\t2000\n",
    "4\t1250\n",
    "5\t1750\n",
    "6\t1083.3333333333333"
   ]
  },
  {
   "cell_type": "code",
   "execution_count": null,
   "metadata": {},
   "outputs": [],
   "source": [
    "CREATE PROCEDURE monthlyScholarships()\n",
    "BEGIN\n",
    "\tselect id, (scholarship/12) as scholarship from scholarships \n",
    "    order by id;\n",
    "END"
   ]
  }
 ],
 "metadata": {
  "kernelspec": {
   "display_name": "Python 3",
   "language": "python",
   "name": "python3"
  },
  "language_info": {
   "codemirror_mode": {
    "name": "ipython",
    "version": 3
   },
   "file_extension": ".py",
   "mimetype": "text/x-python",
   "name": "python",
   "nbconvert_exporter": "python",
   "pygments_lexer": "ipython3",
   "version": "3.7.4"
  }
 },
 "nbformat": 4,
 "nbformat_minor": 2
}

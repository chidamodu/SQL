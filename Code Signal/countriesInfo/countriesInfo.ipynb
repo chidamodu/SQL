{
 "cells": [
  {
   "cell_type": "code",
   "execution_count": null,
   "metadata": {},
   "outputs": [],
   "source": [
    "Your friend wants to become a professional tour guide and travel all around the world. In pursuit of this dream, she \n",
    "enrolled in tour guide school. The professors in this school turned out to be very demanding, and one of them gave \n",
    "your friend a difficult assignment that she has to finish over the weekend.\n",
    "\n",
    "Here's the task: Given a list of countries, your friend should calculate the average population and total population \n",
    "of all the countries in the list. To help her, you have decided to write a function that will calculate the required \n",
    "values for any number of countries. The countries table in which the countries are stored has the following structure:\n",
    "\n",
    "name: the name of the country;\n",
    "continent: the continent on which the country is situated;\n",
    "population: the population of the country.\n",
    "Your task is to return a new table that contains the number of countries in the given list, along with their average \n",
    "and total population, in columns titled number, average and total.\n",
    "\n",
    "Example\n",
    "\n",
    "For the following table countries\n",
    "name\tcontinent\tpopulation\n",
    "Grenada\tNorth America\t103328\n",
    "Monaco\tEurope\t38400\n",
    "San Marino\tEurope\t33005\n",
    "Vanuatu\tAustralia\t277500\n",
    "\n",
    "the output should be\n",
    "\n",
    "number\taverage\ttotal\n",
    "4\t113058.2500\t452233"
   ]
  },
  {
   "cell_type": "code",
   "execution_count": null,
   "metadata": {},
   "outputs": [],
   "source": [
    "CREATE PROCEDURE countriesInfo()\n",
    "BEGIN\n",
    "\tselect count(distinct name) as number, avg(population) as average, sum(population) as total\n",
    "    from countries;\n",
    "END"
   ]
  }
 ],
 "metadata": {
  "kernelspec": {
   "display_name": "Python 3",
   "language": "python",
   "name": "python3"
  },
  "language_info": {
   "codemirror_mode": {
    "name": "ipython",
    "version": 3
   },
   "file_extension": ".py",
   "mimetype": "text/x-python",
   "name": "python",
   "nbconvert_exporter": "python",
   "pygments_lexer": "ipython3",
   "version": "3.7.4"
  }
 },
 "nbformat": 4,
 "nbformat_minor": 2
}

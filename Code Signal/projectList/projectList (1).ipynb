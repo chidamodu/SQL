{
 "cells": [
  {
   "cell_type": "code",
   "execution_count": null,
   "metadata": {},
   "outputs": [],
   "source": [
    "Your boss wants to identify the successful projects running in your company, so he asked you to prepare a list of all \n",
    "the currently active projects and their average monthly income.\n",
    "\n",
    "You have stored the information about these projects in a simple database with a single Projects table that has five \n",
    "columns:\n",
    "\n",
    "internal_id: the company's internal identifier for the project;\n",
    "project_name: the official name of the project;\n",
    "team_size: the number of employees working on the project;\n",
    "team_lead: the name of the project manager;\n",
    "income: the average monthly income of the project.\n",
    "\n",
    "Your boss says that internal project ids are irrelevant to him and that he isn't interested in how big the teams are. \n",
    "Since that's the case, he wants you to create another table by removing the internal_id and team_size columns from the \n",
    "existing Projects table. Return it sorted by internal_id in ascending order.\n",
    "\n",
    "Example\n",
    "\n",
    "For the following table: \n",
    "\n",
    "Projects\n",
    "\n",
    "internal_id\tproject_name\tteam_size\tteam_lead\tincome\n",
    "1384\tMapReduce\t100\tJeffrey Dean\t0\n",
    "2855\tWindows\t1000\tBill Gates\t100500\n",
    "5961\tSnapchat\t3\tEvan Spiegel\t2000\n",
    "\n",
    "\n",
    "the resulting table should be\n",
    "\n",
    "project_name\tteam_lead\tincome\n",
    "MapReduce\tJeffrey Dean\t0\n",
    "Windows\tBill Gates\t100500\n",
    "Snapchat\tEvan Spiegel\t2000"
   ]
  },
  {
   "cell_type": "code",
   "execution_count": null,
   "metadata": {},
   "outputs": [],
   "source": [
    "CREATE PROCEDURE projectList()\n",
    "BEGIN\n",
    "\tselect project_name, team_lead, income\n",
    "    from projects\n",
    "    order by internal_id;\n",
    "END"
   ]
  }
 ],
 "metadata": {
  "kernelspec": {
   "display_name": "Python 3",
   "language": "python",
   "name": "python3"
  },
  "language_info": {
   "codemirror_mode": {
    "name": "ipython",
    "version": 3
   },
   "file_extension": ".py",
   "mimetype": "text/x-python",
   "name": "python",
   "nbconvert_exporter": "python",
   "pygments_lexer": "ipython3",
   "version": "3.7.4"
  }
 },
 "nbformat": 4,
 "nbformat_minor": 2
}

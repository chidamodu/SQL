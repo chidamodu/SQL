{
 "cells": [
  {
   "cell_type": "code",
   "execution_count": null,
   "metadata": {},
   "outputs": [],
   "source": [
    "At the end of every semester your professor for \"Introduction to Databases\" saves the exam results of every student in \n",
    "a simple database system. In the database table Grades, there are five columns:\n",
    "\n",
    "Name: the name of the student;\n",
    "ID: the student's ID number (a 5 byte positive integer);\n",
    "Midterm1: the result of the first midterm out of 100 points;\n",
    "Midterm2: the result of the second midterm out of 100 points;\n",
    "Final: the result of the final exam, this time out of a possible 200 points.\n",
    "\n",
    "According to school policy, there are three possible ways to evaluate a grade:\n",
    "\n",
    "Option 1:\n",
    "Midterm 1: 25% of the grade\n",
    "Midterm 2: 25% of the grade\n",
    "Final exam: 50% of the grade\n",
    "\n",
    "Option 2:\n",
    "Midterm 1: 50% of the grade\n",
    "Midterm 2: 50% of the grade\n",
    "\n",
    "Option 3:\n",
    "Final exam: 100% of the grade.\n",
    "Each student's final grade comes from the option that works the best for that student.\n",
    "\n",
    "As a Teaching Assistant (TA), you need to query the name and id of all the students whose best grade comes from \n",
    "Option 3, sorted based on the first 3 characters of their name. If the first 3 characters of two names are the same, \n",
    "then the student with the lower ID value comes first.\n",
    "\n",
    "Example\n",
    "\n",
    "For the following table Grades\n",
    "\n",
    "Name\tID\tMidterm1\tMidterm2\tFinal\n",
    "David\t42334\t34\t54\t124\n",
    "Anthony\t54528\t100\t10\t50\n",
    "Jonathan\t58754\t49\t58\t121\n",
    "Jonty\t11000\t25\t30\t180\n",
    "Output should be\n",
    "\n",
    "Name\tID\n",
    "David\t42334\n",
    "Jonty\t11000\n",
    "Jonathan\t58754\n",
    "\n",
    "For David, Jonty and Jonathan, the best option is number 3. But Anthony's best option is the second one, because \n",
    "Option1 = 25% of 100 + 25% of 10 +50% of 50 = 52.5, Option2 = 50% of 100 + 50% of 10 = 55, Option3 = 100% of 50 = 50."
   ]
  },
  {
   "cell_type": "code",
   "execution_count": null,
   "metadata": {},
   "outputs": [],
   "source": [
    "Trial 1 with Common Table Expression\n",
    "\n",
    "with options_creation as\n",
    "(\n",
    "\n",
    "Select Name, ID,\n",
    "    CASE WHEN Sum((25*Midterm1, 25*Midterm2, 50*Final)/100) THEN Option1\n",
    "         WHEN Sum((50*Midterm1, 50*Midterm2)/100) THEN Option2\n",
    "         WHEN (100*Final)/100 THEN Option3\n",
    "from Grades\n",
    "group by Name, ID\n",
    ")\n",
    "\n",
    "\n",
    "        \n",
    "SELECT Name, ID from options_creation\n",
    " where (Option3>Option2) and (Option3>Option1)\n",
    "order by LEFT(Name, 3), ID;\n",
    "        \n",
    "                \n",
    "    \n",
    "            \n"
   ]
  },
  {
   "cell_type": "code",
   "execution_count": null,
   "metadata": {},
   "outputs": [],
   "source": [
    "Final submission\n",
    "\n",
    "CREATE PROCEDURE gradeDistribution()\n",
    "BEGIN\n",
    "    Select Name,ID\n",
    "    from Grades\n",
    "    where Final> (0.25*Midterm1 + 0.25*Midterm2 + 0.50*Final) and \n",
    "    Final > (0.50*Midterm1 + 0.50*Midterm2)\n",
    "    order by LEFT(Name, 3), ID;\n",
    "END\n",
    "\n"
   ]
  }
 ],
 "metadata": {
  "kernelspec": {
   "display_name": "Python 3",
   "language": "python",
   "name": "python3"
  },
  "language_info": {
   "codemirror_mode": {
    "name": "ipython",
    "version": 3
   },
   "file_extension": ".py",
   "mimetype": "text/x-python",
   "name": "python",
   "nbconvert_exporter": "python",
   "pygments_lexer": "ipython3",
   "version": "3.7.4"
  }
 },
 "nbformat": 4,
 "nbformat_minor": 2
}

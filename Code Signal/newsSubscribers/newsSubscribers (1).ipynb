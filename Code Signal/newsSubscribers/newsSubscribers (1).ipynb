{
 "cells": [
  {
   "cell_type": "code",
   "execution_count": null,
   "metadata": {},
   "outputs": [],
   "source": [
    "You are managing a small newspaper subscription service. Anyone who uses it can subscribe to a large number of \n",
    "different newspapers for a full year or just a half year.\n",
    "\n",
    "The information about subscriptions is stored in the full_year and half_year tables, which have the following \n",
    "structures:\n",
    "\n",
    "full_year:\n",
    "id: the unique subscription ID;\n",
    "newspaper: the newspaper's name;\n",
    "subscriber: the name of the subscriber.\n",
    "\n",
    "half_year\n",
    "id: the unique subscription ID;\n",
    "newspaper: the newspaper's name;\n",
    "subscriber: the name of the subscriber.\n",
    "\n",
    "Given the full_year and half_year tables, compose the result as follows: The resulting table should have one \n",
    "column subscriber that contains all the distinct names of anyone who is subscribed to a newspaper with the word Daily \n",
    "in its name. The table should be sorted in ascending order by the subscribers' first names.\n",
    "\n",
    "Example\n",
    "\n",
    "The following tables full_year\n",
    "\n",
    "id\tnewspaper\tsubscriber\n",
    "1\tThe Paragon Herald\tCrissy Sepe\n",
    "2\tThe Daily Reporter\tTonie Moreton\n",
    "3\tMorningtide Daily\tErwin Chitty\n",
    "4\tDaily Breakfast\tTonie Moreton\n",
    "5\tIndependent Weekly\tLavelle Phu\n",
    "\n",
    "and half_year\n",
    "\n",
    "id\tnewspaper\tsubscriber\n",
    "1\tThe Daily Reporter\tLavelle Phu\n",
    "2\tDaily Breakfast\tTonie Moreton\n",
    "3\tThe Paragon Herald\tLia Cover\n",
    "4\tThe Community Gazette\tLavelle Phu\n",
    "5\tNova Daily\tLia Cover\n",
    "6\tNova Daily\tJoya Buss\n",
    "\n",
    "the output should be\n",
    "\n",
    "subscriber\n",
    "Erwin Chitty\n",
    "Joya Buss\n",
    "Lavelle Phu\n",
    "Lia Cover\n",
    "Tonie Moreton"
   ]
  },
  {
   "cell_type": "code",
   "execution_count": null,
   "metadata": {},
   "outputs": [],
   "source": [
    "Trial using outer join and reason why it does not work\n",
    "\n",
    "select distinct(subscriber)\n",
    "full_year f outer join half_year h\n",
    "on f.newspaper=h.newspaper\n",
    "where f.newspaper LIKE \"%Daily%\" and h.newspaper LIKE \"%Daily%\"\n",
    "order by subscriber;\n",
    "\n",
    "The reason why this query wont fetch the results we need:\n",
    "An outer join is used to return results by combining rows from two or more tables. But unlike an inner join, \n",
    "the outer join will return every row from one specified table, even if the join condition fails.\n",
    "\n"
   ]
  },
  {
   "cell_type": "code",
   "execution_count": null,
   "metadata": {},
   "outputs": [],
   "source": [
    "Submission solution:\n",
    "    \n",
    "select distinct(subscriber) as subscriber from full_year f where f.newspaper LIKE \"%Daily%\"\n",
    "union\n",
    "select distinct(subscriber) as subscriber from half_year h where h.newspaper LIKE \"%Daily%\"\n",
    "order by subscriber;\n"
   ]
  },
  {
   "cell_type": "code",
   "execution_count": null,
   "metadata": {},
   "outputs": [],
   "source": [
    "Union Vs. UnionAll\n",
    "\n",
    "The UNION command combines the result set of two or more SELECT statements (only distinct values).\n",
    "\n",
    "The UNION ALL command combines the result set of two or more SELECT statements (allows duplicate values).\n"
   ]
  }
 ],
 "metadata": {
  "kernelspec": {
   "display_name": "Python 3",
   "language": "python",
   "name": "python3"
  },
  "language_info": {
   "codemirror_mode": {
    "name": "ipython",
    "version": 3
   },
   "file_extension": ".py",
   "mimetype": "text/x-python",
   "name": "python",
   "nbconvert_exporter": "python",
   "pygments_lexer": "ipython3",
   "version": "3.7.4"
  }
 },
 "nbformat": 4,
 "nbformat_minor": 2
}

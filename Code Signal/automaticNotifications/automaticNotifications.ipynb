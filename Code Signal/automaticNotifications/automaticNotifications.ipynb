{
 "cells": [
  {
   "cell_type": "code",
   "execution_count": null,
   "metadata": {},
   "outputs": [],
   "source": [
    "The application you've been working on for the past year is a huge success! It already has a large and active user \n",
    "community. You know the ID number, username, and email of each user. Each user also has a specific role that shows \n",
    "their position in the community. Information about the users is stored in the database as a table users, which has \n",
    "the following structure:\n",
    "\n",
    "id: the unique user ID;\n",
    "username: the username of the user;\n",
    "role the user's role;\n",
    "email: the user's email.\n",
    "\n",
    "You want to send users automatic notifications to let them know about the most recent updates. However, not all users \n",
    "should get these notifications: Administrators don't need notifications since they know about the updates already, \n",
    "and premium users don't need them since they get personalized weekly updates.\n",
    "\n",
    "Given the users table, your task is to return the emails of all the users who should get notifications, i.e. those \n",
    "whose role is not equal to \"admin\" or \"premium\". Note that roles are case insensitive, so users with roles of \n",
    "\"Admin\", \"pReMiUm\", etc. should also be excluded.\n",
    "\n",
    "The resulting table should contain a single email column and be sorted by emails in ascending order.\n",
    "\n",
    "Example\n",
    "\n",
    "For the following table users\n",
    "\n",
    "id\tusername\trole\temail\n",
    "6\tfasalytch\tpremium\tmuch.premium@role.com\n",
    "13\tluckygirl\tregular\tfun@meh.com\n",
    "16\ttodayhumor\tguru\ttoday@humor.com\n",
    "23\tFelix\tadmin\tfelix@codesignal.com\n",
    "52\tadmin666\tAdmiN\tiamtheadmin@admin.admin\n",
    "87\tsolver100500\tregular\temail@notbot.com\n",
    "\n",
    "the resulting table should be\n",
    "\n",
    "email\n",
    "email@notbot.com\n",
    "fun@meh.com\n",
    "today@humor.com\n",
    "\n",
    "The only three users who should get notifications are luckygirl, todayhumor, and solver100500. Their emails are \n",
    "fun@meh.com, today@humor.com, and email@notbot.com respectively, which should be sorted as email@notbot.com, \n",
    "fun@meh.com, and today@humor.com.\n",
    "\n"
   ]
  },
  {
   "cell_type": "code",
   "execution_count": null,
   "metadata": {},
   "outputs": [],
   "source": [
    "CREATE PROCEDURE automaticNotifications()\n",
    "    SELECT email\n",
    "    FROM users\n",
    "    WHERE lower(role) not in (\"admin\", \"premium\")\n",
    "\n",
    "    ORDER BY email;"
   ]
  }
 ],
 "metadata": {
  "kernelspec": {
   "display_name": "Python 3",
   "language": "python",
   "name": "python3"
  },
  "language_info": {
   "codemirror_mode": {
    "name": "ipython",
    "version": 3
   },
   "file_extension": ".py",
   "mimetype": "text/x-python",
   "name": "python",
   "nbconvert_exporter": "python",
   "pygments_lexer": "ipython3",
   "version": "3.7.4"
  }
 },
 "nbformat": 4,
 "nbformat_minor": 2
}

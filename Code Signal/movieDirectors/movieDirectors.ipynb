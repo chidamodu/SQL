{
 "cells": [
  {
   "cell_type": "code",
   "execution_count": null,
   "metadata": {},
   "outputs": [],
   "source": [
    "You want to expand your movie collection, but you don't really have any preferences so you're not sure where to start. \n",
    "After some consideration, you decide that you should start by finding more movies from award-winning directors whose \n",
    "movies you already own and who have shot a movie somewhat recently.\n",
    "\n",
    "To find the directors whose movies you might want to consider watching in the first place, you've created a database \n",
    "of all the films you already own and stored them in a moviesInfo table, which has the following structure:\n",
    "\n",
    "title: the title of the movie;\n",
    "director: the director of this movie;\n",
    "year: the year the movie was released;\n",
    "oscars: the number of the Academy Awards this movie received.\n",
    "\n",
    "Given the moviesInfo table, compose the list of directors you should consider watching more movies from. \n",
    "The resulting table should have a single director column and contain the names of film directors such that:\n",
    "\n",
    "they shot movies after the year 2000;\n",
    "the total number of Oscar awards these movies received is more than 2.\n",
    "The table should be sorted by the directors' names in ascending order.\n",
    "\n",
    "Example\n",
    "\n",
    "For the following table moviesInfo\n",
    "\n",
    "title\tdirector\tyear\toscars\n",
    "BoBoiBoy: The Movie\tNizam Razak\t2016\t0\n",
    "Inception\tChristopher Nolan\t2010\t4\n",
    "Interstellar\tChristopher Nolan\t2014\t1\n",
    "Munna Bhai M.B.B.S.\tRajkumar Hirani\t2003\t0\n",
    "My Dear Brother\tErtem Egilmez\t1973\t0\n",
    "Rocky John\tG. Avildsen\t1976\t3\n",
    "The Nights of Cabiria\tFederico Fellini\t1957\t1\n",
    "The Sixth Sense\tM. Night Shyamalan\t1999\t6\n",
    "The Sixth Sense\tM. Night Shyamalan\t1999\t6\n",
    "Tokyo Story\tYasujirô Ozu\t1953\t0\n",
    "Yojimbo\tAkira Kurosawa\t1961\t1\n",
    "\n",
    "the output should be\n",
    "\n",
    "director\n",
    "Christopher Nolan"
   ]
  },
  {
   "cell_type": "code",
   "execution_count": null,
   "metadata": {},
   "outputs": [],
   "source": [
    "\n",
    "select director from moviesinfo \n",
    "where year>2000\n",
    "group by director\n",
    "having sum(oscars)>2\n",
    "order by director;\n",
    "\n"
   ]
  }
 ],
 "metadata": {
  "kernelspec": {
   "display_name": "Python 3",
   "language": "python",
   "name": "python3"
  },
  "language_info": {
   "codemirror_mode": {
    "name": "ipython",
    "version": 3
   },
   "file_extension": ".py",
   "mimetype": "text/x-python",
   "name": "python",
   "nbconvert_exporter": "python",
   "pygments_lexer": "ipython3",
   "version": "3.7.4"
  }
 },
 "nbformat": 4,
 "nbformat_minor": 2
}

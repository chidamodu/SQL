{
 "cells": [
  {
   "cell_type": "code",
   "execution_count": null,
   "metadata": {},
   "outputs": [],
   "source": [
    "You recently started working in the IT department of a large store. You were put in charge of the inventory database \n",
    "availableItems, which has the following structure:\n",
    "\n",
    "id: unique item ID;\n",
    "item_name: the name of the item;\n",
    "item_type: the type of the item.\n",
    "Note that it is possible for items that are of different types to have the same names.\n",
    "\n",
    "One of the most common operations performed on this database is querying the number of specific items available at \n",
    "the store. Since the database is quite large, queries of this type can take up too much time. You have decided to \n",
    "start analyzing this problem by counting the number of each available item.\n",
    "\n",
    "Given the availableItems table, write a select statement which returns the following three columns: item_name, \n",
    "item_type and item_count, containing the names of the items, their types, and the amount of those items, respectively. \n",
    "The output should be sorted in ascending order by item type, with items of the same type sorted in ascending order by \n",
    "their names.\n",
    "\n",
    "Example\n",
    "\n",
    "For the following table availableItems\n",
    "\n",
    "id\titem_name\titem_type\n",
    "1\tSafeDisk 4GB\tUSB drive\n",
    "2\tSafeDisk 8GB\tUSB drive\n",
    "3\tCinco 50-Pack\tDVD\n",
    "4\tSafeDisk 4GB\tMemory card\n",
    "5\tSafeDisk 8GB\tMemory card\n",
    "6\tCinco 30-Pack\tDVD\n",
    "7\tSafeDisk 4GB\tMemory card\n",
    "8\tSafeDisk 4GB\tMemory card\n",
    "9\tDiskHolder\tMisc\n",
    "10\tCinco 50-Pack\tDVD\n",
    "11\tSafeDisk 4GB\tUSB drive\n",
    "12\tDiskCleaner Pro\tMisc\n",
    "\n",
    "the output should be\n",
    "\n",
    "item_name\titem_type\titem_count\n",
    "Cinco 30-Pack\tDVD\t1\n",
    "Cinco 50-Pack\tDVD\t2\n",
    "SafeDisk 4GB\tMemory card\t3\n",
    "SafeDisk 8GB\tMemory card\t1\n",
    "DiskCleaner Pro\tMisc\t1\n",
    "DiskHolder\tMisc\t1\n",
    "SafeDisk 4GB\tUSB drive\t2\n",
    "SafeDisk 8GB\tUSB drive\t1\n"
   ]
  },
  {
   "cell_type": "code",
   "execution_count": null,
   "metadata": {},
   "outputs": [],
   "source": [
    "select item_name, item_type, count(*) as item_count\n",
    "from availableItems\n",
    "group by item_type, item_name\n",
    "order by item_type, item_name;"
   ]
  }
 ],
 "metadata": {
  "kernelspec": {
   "display_name": "Python 3",
   "language": "python",
   "name": "python3"
  },
  "language_info": {
   "codemirror_mode": {
    "name": "ipython",
    "version": 3
   },
   "file_extension": ".py",
   "mimetype": "text/x-python",
   "name": "python",
   "nbconvert_exporter": "python",
   "pygments_lexer": "ipython3",
   "version": "3.7.4"
  }
 },
 "nbformat": 4,
 "nbformat_minor": 2
}

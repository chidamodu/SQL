{
 "cells": [
  {
   "cell_type": "code",
   "execution_count": null,
   "metadata": {},
   "outputs": [],
   "source": [
    "You are working as a recruiter at a big IT company, and you're actively looking for candidates who take the top \n",
    "places in major programming contests. Since the grand finale of the annual City Competition, you've been reaching out \n",
    "to the top participants from the leaderboard, and successfully so.\n",
    "\n",
    "You have already interviewed all the prize winners (the top 3 participants), but that's not enough right now. Your \n",
    "company needs more specialists, so now you would like to connect with the participants who took the next 5 places.\n",
    "\n",
    "The contest leaderboard is stored in a table leaderboard with the following columns:\n",
    "\n",
    "id: unique id of the participant;\n",
    "name: the name of the participant;\n",
    "score: the score the participant achieved in the competition.\n",
    "The resulting table should contain the names of the participants who took the 4th to 8th places inclusive, sorted in \n",
    "descending order of their places. If there are fewer than 8 participants, the results should contain those who ranked \n",
    "lower than 3rd place.\n",
    "\n",
    "It is guaranteed that there are at least 3 prize winners in the leaderboard and that all participants have different \n",
    "scores.\n",
    "\n",
    "Example\n",
    "\n",
    "For the following table leaderboard\n",
    "\n",
    "id\tname\tscore\n",
    "1\tgongy\t3001\n",
    "2\turandom\t2401\n",
    "3\teduardische\t2477\n",
    "4\tGassa\t2999\n",
    "5\tbcc32\t2658\n",
    "6\tAlex_2oo8\t6000\n",
    "7\tmirosuaf\t2479\n",
    "8\tSparik\t2399\n",
    "9\tthomas_holmes\t2478\n",
    "10\tcthaeghya\t2400\n",
    "\n",
    "\n",
    "the output should be\n",
    "\n",
    "name\n",
    "bcc32\n",
    "mirosuaf\n",
    "thomas_holmes\n",
    "eduardische\n",
    "urandom"
   ]
  },
  {
   "cell_type": "code",
   "execution_count": null,
   "metadata": {},
   "outputs": [],
   "source": [
    "Trial - did not work\n",
    "\n",
    "CREATE PROCEDURE contestLeaderboard()\n",
    "BEGIN  \n",
    "    select name, @rownum := @rownum + 1 AS rank from leaderboard\n",
    "    (select @row_num:=0) r\n",
    "    where 3>rank<=8;\n",
    "END\n",
    "\n"
   ]
  },
  {
   "cell_type": "code",
   "execution_count": null,
   "metadata": {},
   "outputs": [],
   "source": [
    "Final submission\n",
    "\n",
    "CREATE PROCEDURE contestLeaderboard()\n",
    "BEGIN  \n",
    "    select name from leaderboard order by score DESC limit 5 offset 3;\n",
    "END\n"
   ]
  }
 ],
 "metadata": {
  "kernelspec": {
   "display_name": "Python 3",
   "language": "python",
   "name": "python3"
  },
  "language_info": {
   "codemirror_mode": {
    "name": "ipython",
    "version": 3
   },
   "file_extension": ".py",
   "mimetype": "text/x-python",
   "name": "python",
   "nbconvert_exporter": "python",
   "pygments_lexer": "ipython3",
   "version": "3.7.4"
  }
 },
 "nbformat": 4,
 "nbformat_minor": 2
}

{
 "cells": [
  {
   "cell_type": "code",
   "execution_count": null,
   "metadata": {},
   "outputs": [],
   "source": [
    "Mr. Cash wants to keep track of his expenses, so he has prepared a list of all the products he bought this month. \n",
    "Now he is interested in finding the product on which he spent the largest amount of money. If there are products that \n",
    "cost the same amount of money, he'd like to find the one with the lexicographically smallest name.\n",
    "\n",
    "The list of expenses is stored in a table Products which has the following columns:\n",
    "\n",
    "id: unique product id;\n",
    "name: the unique name of the product;\n",
    "price: the price for one item;\n",
    "quantity: the number of items bought.\n",
    "\n",
    "The resulting table should contain one row with a single column: the product with the lexicographically smallest name \n",
    "on which Mr. Cash spent the largest amount of money.\n",
    "\n",
    "The total amount of money spent on a product is calculated as price * quantity.\n",
    "\n",
    "Example\n",
    "\n",
    "For the following table Products\n",
    "id\tname\tprice\tquantity\n",
    "1\tMacBook Air\t1500\t1\n",
    "2\tMagic Mouse\t79\t1\n",
    "3\tSpray cleaner\t10\t3\n",
    "the output should be\n",
    "\n",
    "name\n",
    "MacBook Air\n",
    "For the following table Products\n",
    "id\tname\tprice\tquantity\n",
    "1\tTomato\t10\t4\n",
    "2\tCucumber\t8\t5\n",
    "3\tRed Pepper\t20\t2\n",
    "4\tFeta\t40\t1\n",
    "the output should be\n",
    "\n",
    "name\n",
    "Cucumber\n",
    "\n",
    "While the total cost for each product was 40, Cucumber has the lexicographically smallest name.\n"
   ]
  },
  {
   "cell_type": "code",
   "execution_count": null,
   "metadata": {},
   "outputs": [],
   "source": [
    "CREATE PROCEDURE mostExpensive()\n",
    "BEGIN\n",
    "\tselect name from products\n",
    "    order by (price*quantity) DESC, name ASC\n",
    "    LIMIT 1;\n",
    "END"
   ]
  }
 ],
 "metadata": {
  "kernelspec": {
   "display_name": "Python 3",
   "language": "python",
   "name": "python3"
  },
  "language_info": {
   "codemirror_mode": {
    "name": "ipython",
    "version": 3
   },
   "file_extension": ".py",
   "mimetype": "text/x-python",
   "name": "python",
   "nbconvert_exporter": "python",
   "pygments_lexer": "ipython3",
   "version": "3.7.4"
  }
 },
 "nbformat": 4,
 "nbformat_minor": 2
}

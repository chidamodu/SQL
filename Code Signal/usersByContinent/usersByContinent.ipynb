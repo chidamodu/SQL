{
 "cells": [
  {
   "cell_type": "code",
   "execution_count": null,
   "metadata": {},
   "outputs": [],
   "source": [
    "You are curious about the geographical distribution of CodeSignal users, so you have created a list of countries \n",
    "along with the number of registered users from each. Your task now is to calculate the number of users on each \n",
    "continent.\n",
    "\n",
    "The information about the countries is stored in a table countries, which has 3 columns:\n",
    "\n",
    "country: the name of the country;\n",
    "continent: the name of the continent where the country is located;\n",
    "users: the number of users registered on CodeSignal in the country.\n",
    "\n",
    "The answer should be a table with 2 columns, continent and users, sorted by the number of users in decreasing order.\n",
    "\n",
    "Example\n",
    "For the following table countries\n",
    "\n",
    "country\tcontinent\tusers\n",
    "Armenia\tEurope\t1000\n",
    "France\tEurope\t1300\n",
    "Russia\tEurope\t3000\n",
    "USA\tNorth America\t5000\n",
    "\n",
    "the resulting table should be\n",
    "\n",
    "continent\tusers\n",
    "Europe\t5300\n",
    "North America\t5000"
   ]
  },
  {
   "cell_type": "code",
   "execution_count": null,
   "metadata": {},
   "outputs": [],
   "source": [
    "select continent, sum(users) as users\n",
    "    from countries\n",
    "    group by continent\n",
    "    order by users desc;"
   ]
  }
 ],
 "metadata": {
  "kernelspec": {
   "display_name": "Python 3",
   "language": "python",
   "name": "python3"
  },
  "language_info": {
   "codemirror_mode": {
    "name": "ipython",
    "version": 3
   },
   "file_extension": ".py",
   "mimetype": "text/x-python",
   "name": "python",
   "nbconvert_exporter": "python",
   "pygments_lexer": "ipython3",
   "version": "3.7.4"
  }
 },
 "nbformat": 4,
 "nbformat_minor": 2
}

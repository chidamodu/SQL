{
 "cells": [
  {
   "cell_type": "code",
   "execution_count": null,
   "metadata": {},
   "outputs": [],
   "source": [
    "A large amount of money was stolen today from the main city bank, and as the chief of police it's your duty to find \n",
    "the robber.\n",
    "\n",
    "You store information about your suspects in the table Suspect, which has the structure:\n",
    "\n",
    "id: unique suspect id;\n",
    "name: suspect first name;\n",
    "surname: suspect surname;\n",
    "height: suspect height;\n",
    "weight: suspect weight.\n",
    "You have already gathered some evidence and discovered the following clues:\n",
    "\n",
    "according to the camera records, the robber is not taller than 170cm;\n",
    "the robber left their signature near the crime scene: \"B. Gre?n\". \"B\" definitely stands for the first letter of \n",
    "robber's name, and \"Gre?n\" is their surname. The 4th letter of the surname is smudged by ketchup and is unreadable.\n",
    "\n",
    "To make the list of suspects smaller, you would like to filter out the suspects who can't possibly be guilty \n",
    "according to the information obtained from the clues. For each remaining suspect, you want to save his/her id, \n",
    "name and surname. Please note that the information obtained from the clue should be considered case-insensitive, \n",
    "so for example \"bill Green\", and \"Bill green\", and \"Bill Green\" should all be included in the new table.\n",
    "\n",
    "Given the table Suspect, build the resulting table as follows: the table should have columns id, name and surname and \n",
    "its values should be ordered by the suspects' ids in ascending order.\n",
    "\n",
    "Example\n",
    "\n",
    "For the following table Suspect\n",
    "\n",
    "id\tname\tsurname\theight\tweight\n",
    "1\tJohn\tDoe\t165\t60\n",
    "2\tBill\tGreen\t170\t67\n",
    "3\tBaelfire\tGrehn\t172\t70\n",
    "4\tBill\tGretan\t165\t55\n",
    "5\tBrendon\tGrewn\t150\t50\n",
    "6\tbill\tGreen\t169\t50\n",
    "\n",
    "the output should be\n",
    "\n",
    "id\tname\tsurname\n",
    "2\tBill\tGreen\n",
    "5\tBrendon\tGrewn\n",
    "6\tbill\tGreen\n",
    "\n",
    "The name of the 1st suspect doesn't start with \"B\", the 3rd suspect is taller than 170cm, and the surname of the 4th \n",
    "suspect doesn't match the given pattern, meaning that these suspects are not included in the results."
   ]
  },
  {
   "cell_type": "code",
   "execution_count": null,
   "metadata": {},
   "outputs": [],
   "source": [
    "select id, name, surname from Suspect\n",
    "where height<=170 and name like \"B%\" and surname like \"Gre%\"  and surname like \"%n\" and char_length(surname)=5\n",
    "order by id;\n"
   ]
  },
  {
   "cell_type": "code",
   "execution_count": null,
   "metadata": {},
   "outputs": [],
   "source": [
    "Final submission\n",
    "\n",
    "CREATE PROCEDURE suspectsInvestigation()\n",
    "BEGIN\n",
    "select id, name, surname from Suspect\n",
    "where height<=170 and name like \"B%\" and surname like \"Gre%\"  and surname like \"%n\" and char_length(surname)=5\n",
    "order by id;\n",
    "END\n"
   ]
  },
  {
   "cell_type": "code",
   "execution_count": null,
   "metadata": {},
   "outputs": [],
   "source": [
    "Alternative solution\n",
    "\n",
    "CREATE PROCEDURE suspectsInvestigation()\n",
    "BEGIN\n",
    "   SELECT\n",
    "      id, name, surname\n",
    "   FROM\n",
    "      Suspect\n",
    "   WHERE\n",
    "      height <= 170 AND\n",
    "      name LIKE 'B%' AND\n",
    "      surname LIKE 'Gre_n'\n",
    "   ORDER BY\n",
    "      id ASC\n",
    "   ;\n",
    "END\n"
   ]
  }
 ],
 "metadata": {
  "kernelspec": {
   "display_name": "Python 3",
   "language": "python",
   "name": "python3"
  },
  "language_info": {
   "codemirror_mode": {
    "name": "ipython",
    "version": 3
   },
   "file_extension": ".py",
   "mimetype": "text/x-python",
   "name": "python",
   "nbconvert_exporter": "python",
   "pygments_lexer": "ipython3",
   "version": "3.7.4"
  }
 },
 "nbformat": 4,
 "nbformat_minor": 2
}

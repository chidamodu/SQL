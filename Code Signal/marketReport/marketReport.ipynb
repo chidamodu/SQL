{
 "cells": [
  {
   "cell_type": "code",
   "execution_count": null,
   "metadata": {},
   "outputs": [],
   "source": [
    "Your company is planning to expand internationally very soon. You have been tasked with preparing a report on foreign \n",
    "markets and potential competitors.\n",
    "\n",
    "After some investigation, you've created a database containing a foreignCompetitors table, which has the following \n",
    "structure:\n",
    "\n",
    "competitor: the name of the competitor;\n",
    "country: the country in which the competitor is operating.\n",
    "In your report, you need to include the number of competitors per country and an additional row at the bottom that \n",
    "contains a summary: (\"Total:\", total_number_of_competitors)\n",
    "\n",
    "Given the foreignCompetitors table, compose the resulting table with two columns: country and competitors. The first \n",
    "column should contain the country name, and the second column should contain the number of competitors \n",
    "in this country. The table should be sorted by the country names in ascending order. \n",
    "In addition, it should have an extra row at the bottom with the summary, as described above.\n",
    "\n",
    "Example\n",
    "\n",
    "For the following table foreignCompetitors\n",
    "\n",
    "competitor\tcountry\n",
    "Acme Corp\tUSA\n",
    "GLOBEX\tUSA\n",
    "Openmedia\tFrance\n",
    "K-bam\tUSA\n",
    "Hatdrill\tUK\n",
    "Hexgreen\tGermany\n",
    "D-ranron\tFrance\n",
    "Faxla\tSpain\n",
    "\n",
    "the output should be\n",
    "\n",
    "country\tcompetitors\n",
    "France\t2\n",
    "Germany\t1\n",
    "Spain\t1\n",
    "UK\t1\n",
    "USA\t3\n",
    "Total:\t8\n"
   ]
  },
  {
   "cell_type": "code",
   "execution_count": null,
   "metadata": {},
   "outputs": [],
   "source": [
    "SELECT IFNULL(country,'Total:') as country, COUNT(country) as competitors\n",
    "FROM foreignCompetitors\n",
    "GROUP BY country WITH ROLLUP;"
   ]
  },
  {
   "cell_type": "code",
   "execution_count": null,
   "metadata": {},
   "outputs": [],
   "source": [
    "WITH ROLLUP\n",
    "\n",
    "The GROUP BY clause permits a WITH ROLLUP modifier that causes summary output to include extra rows that represent \n",
    "higher-level (that is, super-aggregate) summary operations. ROLLUP thus enables you to answer questions at multiple \n",
    "levels of analysis with a single query. For example, ROLLUP can be used to provide support for OLAP \n",
    "(Online Analytical Processing) operations.\n",
    "\n"
   ]
  }
 ],
 "metadata": {
  "kernelspec": {
   "display_name": "Python 3",
   "language": "python",
   "name": "python3"
  },
  "language_info": {
   "codemirror_mode": {
    "name": "ipython",
    "version": 3
   },
   "file_extension": ".py",
   "mimetype": "text/x-python",
   "name": "python",
   "nbconvert_exporter": "python",
   "pygments_lexer": "ipython3",
   "version": "3.7.4"
  }
 },
 "nbformat": 4,
 "nbformat_minor": 2
}

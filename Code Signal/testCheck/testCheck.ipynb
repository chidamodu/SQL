{
 "cells": [
  {
   "cell_type": "code",
   "execution_count": null,
   "metadata": {},
   "outputs": [],
   "source": [
    "Your professor gave the class a bonus task: Write a program that will check the answers for the latest test. \n",
    "The program will be given a table answers with the following columns:\n",
    "\n",
    "id - the unique ID of the question;\n",
    "correct_answer - the correct answer to the question, given as a string;\n",
    "given_answer - the answer given to the question, which can be NULL.\n",
    "Your task is to return the table with a column id and a column checks, where for each answers id the following string \n",
    "should be returned:\n",
    "\n",
    "\"no answer\" if the given_answer is empty;\n",
    "\"correct\" if the given_answer is the same as the correct_answer;\n",
    "\"incorrect\" if the given_answer is not empty and is incorrect.\n",
    "Order the records in the answer table by id.\n",
    "\n",
    "Example\n",
    "\n",
    "For given table answers\n",
    "\n",
    "id\tcorrect_answer\tgiven_answer\n",
    "1\ta\ta\n",
    "2\tb\tNULL\n",
    "3\tc\tb\n",
    "\n",
    "the output should be\n",
    "\n",
    "id\tchecks\n",
    "1\tcorrect\n",
    "2\tno answer\n",
    "3\tincorrect"
   ]
  },
  {
   "cell_type": "code",
   "execution_count": null,
   "metadata": {},
   "outputs": [],
   "source": [
    "CREATE PROCEDURE testCheck()\n",
    "    SELECT id, IF (given_answer is Null, 'no answer', IF(given_answer = correct_answer, 'correct','incorrect')) AS checks\n",
    "    FROM answers\n",
    "    ORDER BY id;"
   ]
  }
 ],
 "metadata": {
  "kernelspec": {
   "display_name": "Python 3",
   "language": "python",
   "name": "python3"
  },
  "language_info": {
   "codemirror_mode": {
    "name": "ipython",
    "version": 3
   },
   "file_extension": ".py",
   "mimetype": "text/x-python",
   "name": "python",
   "nbconvert_exporter": "python",
   "pygments_lexer": "ipython3",
   "version": "3.7.4"
  }
 },
 "nbformat": 4,
 "nbformat_minor": 2
}

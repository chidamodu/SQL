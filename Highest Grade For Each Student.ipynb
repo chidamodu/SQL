{
 "cells": [
  {
   "cell_type": "code",
   "execution_count": null,
   "metadata": {},
   "outputs": [],
   "source": [
    "select e.student_id, min(e.course_id) as course_id, e.grade from enrollments e\n",
    "join\n",
    "(select student_id, max(grade) as grade from enrollments group by student_id\n",
    ") goat\n",
    "on goat.student_id=e.student_id and e.grade=goat.grade\n",
    "group by goat.student_id\n",
    "order by goat.student_id;\n",
    "\n",
    "\n",
    "Runtime: 385 ms, faster than 82.13% of MySQL online submissions for Highest Grade For Each Student.\n",
    "Memory Usage: 0B, less than 100.00% of MySQL online submissions for Highest Grade For Each Student."
   ]
  },
  {
   "cell_type": "code",
   "execution_count": null,
   "metadata": {},
   "outputs": [],
   "source": [
    "Tried these:\n",
    "\n",
    "select student_id, course_id, max(grade) as grade from enrollments group by student_id\n",
    "order by student_id;\n",
    "\n",
    "\n",
    "select case when (select student_id, max(grade) as grade from enrollments group by student_id)\n",
    "\n",
    "select student_id, count(*) as count_val, max(grade) as grade from enrollments group by student_id;\n",
    "\n",
    "select case when \n",
    "(select student_id, course_id, max(grade) from enrollments group by course_id, student_id)==1 then max(grade) else min(student_id) end;\n",
    "\n",
    "\n",
    "\n"
   ]
  }
 ],
 "metadata": {
  "kernelspec": {
   "display_name": "Python 3",
   "language": "python",
   "name": "python3"
  },
  "language_info": {
   "codemirror_mode": {
    "name": "ipython",
    "version": 3
   },
   "file_extension": ".py",
   "mimetype": "text/x-python",
   "name": "python",
   "nbconvert_exporter": "python",
   "pygments_lexer": "ipython3",
   "version": "3.7.4"
  }
 },
 "nbformat": 4,
 "nbformat_minor": 2
}

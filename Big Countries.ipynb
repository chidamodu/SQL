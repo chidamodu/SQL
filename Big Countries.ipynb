{
 "cells": [
  {
   "cell_type": "code",
   "execution_count": null,
   "metadata": {},
   "outputs": [],
   "source": [
    "select name, population, area from world\n",
    "where population > 25000000 or area>3000000;\n",
    "\n",
    "Runtime: 233 ms, faster than 45.04% of MySQL online submissions for Big Countries.\n",
    "Memory Usage: 0B, less than 100.00% of MySQL online submissions for Big Countries."
   ]
  }
 ],
 "metadata": {
  "kernelspec": {
   "display_name": "Python 3",
   "language": "python",
   "name": "python3"
  },
  "language_info": {
   "codemirror_mode": {
    "name": "ipython",
    "version": 3
   },
   "file_extension": ".py",
   "mimetype": "text/x-python",
   "name": "python",
   "nbconvert_exporter": "python",
   "pygments_lexer": "ipython3",
   "version": "3.7.4"
  }
 },
 "nbformat": 4,
 "nbformat_minor": 2
}

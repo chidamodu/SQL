{
 "cells": [
  {
   "cell_type": "code",
   "execution_count": null,
   "metadata": {},
   "outputs": [],
   "source": [
    "select distinct(viewer_id) as id from views\n",
    "group by viewer_id, view_date\n",
    "having count(distinct(article_id))>1\n",
    "order by id;\n",
    "\n",
    "Runtime: 261 ms, faster than 87.53% of MySQL online submissions for Article Views II.\n",
    "Memory Usage: 0B, less than 100.00% of MySQL online submissions for Article Views II."
   ]
  },
  {
   "cell_type": "code",
   "execution_count": null,
   "metadata": {},
   "outputs": [],
   "source": [
    "alternative using CTE (this did not work on Leetcode platform, but i guess the logic is right)\n",
    "\n",
    "WITH A as \n",
    "(\n",
    "select viewer_id,\n",
    "rank()over (partition by viewer_id,view_date order by article_id) as rk\n",
    "from Views\n",
    ")\n",
    "\n",
    "\n",
    "select distinct viewer_id as id\n",
    "from A\n",
    "where A.rk>1\n",
    "order by 1;\n",
    "\n"
   ]
  }
 ],
 "metadata": {
  "kernelspec": {
   "display_name": "Python 3",
   "language": "python",
   "name": "python3"
  },
  "language_info": {
   "codemirror_mode": {
    "name": "ipython",
    "version": 3
   },
   "file_extension": ".py",
   "mimetype": "text/x-python",
   "name": "python",
   "nbconvert_exporter": "python",
   "pygments_lexer": "ipython3",
   "version": "3.7.4"
  }
 },
 "nbformat": 4,
 "nbformat_minor": 2
}
